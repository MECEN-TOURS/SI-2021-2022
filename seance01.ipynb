{
 "cells": [
  {
   "cell_type": "markdown",
   "id": "c044baa5-0bc6-448b-929e-0af0ac263ed0",
   "metadata": {},
   "source": [
    "# Mise en place"
   ]
  },
  {
   "cell_type": "code",
   "execution_count": 1,
   "id": "1ea05996-ca11-41e3-8de2-d4a45ac6cbf7",
   "metadata": {},
   "outputs": [],
   "source": [
    "import sympy as sp\n",
    "sp.init_printing()\n",
    "from IPython.display import display\n",
    "import warnings\n",
    "warnings.filterwarnings(\"ignore\", module=\"IPython\")"
   ]
  },
  {
   "cell_type": "markdown",
   "id": "e13b864f-f267-4c4f-bfbf-a7e21946f243",
   "metadata": {
    "jp-MarkdownHeadingCollapsed": true,
    "tags": []
   },
   "source": [
    "# Objectif\n",
    "\n",
    "$$\n",
    "\\begin{cases}\n",
    "\\max u^\\pm(q_0, q_1, q_2)=:a q_{1} + a q_{2} - \\frac{(b+d) q_{1}^{2}}{2} - \\frac{(b+d) q_{2}^{2}}{2} \\pm d q_{1} q_{2} + q_{0}\n",
    "\\\\\n",
    "q_0\\geq 0,\\\\\n",
    "q_1\\geq 0,\\\\\n",
    "q_2\\geq 0,\\\\\n",
    "R - p_{1} q_{1} - p_{2} q_{2} - q_{0}\n",
    "\\geq 0,\n",
    "\\end{cases}\n",
    "$$\n",
    "Avec les paramètres vérifiant $a>0$, $b>0$, $d>0$, $p_1\\geq 0$, $p_2\\geq 0$ et $R\\geq 0$."
   ]
  },
  {
   "cell_type": "markdown",
   "id": "b5651796-c5b6-4c0d-9a33-396fa0040efb",
   "metadata": {},
   "source": [
    "# Création des symboles"
   ]
  },
  {
   "cell_type": "code",
   "execution_count": 2,
   "id": "771d928d-6940-40e2-bc8a-3b4700c1b01d",
   "metadata": {},
   "outputs": [
    {
     "data": {
      "image/png": "[encoded data removed]",
      "text/latex": [
       "$\\displaystyle a$"
      ],
      "text/plain": [
       "a"
      ]
     },
     "metadata": {},
     "output_type": "display_data"
    },
    {
     "data": {
      "image/png": "[encoded data removed]",
      "text/latex": [
       "$\\displaystyle b$"
      ],
      "text/plain": [
       "b"
      ]
     },
     "metadata": {},
     "output_type": "display_data"
    },
    {
     "data": {
      "image/png": "[encoded data removed]",
      "text/latex": [
       "$\\displaystyle d$"
      ],
      "text/plain": [
       "d"
      ]
     },
     "metadata": {},
     "output_type": "display_data"
    }
   ],
   "source": [
    "a = sp.Symbol(\"a\", real=True, positive=True)\n",
    "display(a)\n",
    "b = sp.Symbol(\"b\", real=True, positive=True)\n",
    "display(b)\n",
    "d = sp.Symbol(\"d\", real=True, positive=True)\n",
    "display(d)"
   ]
  },
  {
   "cell_type": "code",
   "execution_count": 3,
   "id": "3580690b-4b62-4dda-9b50-37e6f0ed665d",
   "metadata": {},
   "outputs": [
    {
     "data": {
      "image/png": "[encoded data removed]",
      "text/latex": [
       "$\\displaystyle q_{0}$"
      ],
      "text/plain": [
       "q₀"
      ]
     },
     "metadata": {},
     "output_type": "display_data"
    },
    {
     "data": {
      "image/png": "[encoded data removed]",
      "text/latex": [
       "$\\displaystyle q_{1}$"
      ],
      "text/plain": [
       "q₁"
      ]
     },
     "metadata": {},
     "output_type": "display_data"
    },
    {
     "data": {
      "image/png": "[encoded data removed]",
      "text/latex": [
       "$\\displaystyle q_{2}$"
      ],
      "text/plain": [
       "q₂"
      ]
     },
     "metadata": {},
     "output_type": "display_data"
    }
   ],
   "source": [
    "q0, q1, q2 = sp.symbols(\"q_0 q_1 q_2\", real=True, nonnegative=True)\n",
    "display(q0, q1, q2)"
   ]
  },
  {
   "cell_type": "code",
   "execution_count": 4,
   "id": "69b67788-ed66-430b-8691-996cfc2677a2",
   "metadata": {
    "tags": []
   },
   "outputs": [
    {
     "data": {
      "image/png": "[encoded data removed]",
      "text/latex": [
       "$\\displaystyle p_{1}$"
      ],
      "text/plain": [
       "p₁"
      ]
     },
     "metadata": {},
     "output_type": "display_data"
    },
    {
     "data": {
      "image/png": "[encoded data removed]",
      "text/latex": [
       "$\\displaystyle p_{2}$"
      ],
      "text/plain": [
       "p₂"
      ]
     },
     "metadata": {},
     "output_type": "display_data"
    },
    {
     "data": {
      "image/png": "[encoded data removed]",
      "text/latex": [
       "$\\displaystyle R$"
      ],
      "text/plain": [
       "R"
      ]
     },
     "metadata": {},
     "output_type": "display_data"
    }
   ],
   "source": [
    "p1, p2, R = sp.symbols(\"p_1 p_2 R\", real=True, nonnegative=True)\n",
    "display(p1, p2, R)"
   ]
  },
  {
   "cell_type": "markdown",
   "id": "d77d7c35-29de-469d-b1b6-c8adafcb7635",
   "metadata": {},
   "source": [
    "# Création des expressions composées"
   ]
  },
  {
   "cell_type": "code",
   "execution_count": 5,
   "id": "5c444340-7c0e-423e-85ba-f78d9ffd27a3",
   "metadata": {},
   "outputs": [
    {
     "data": {
      "image/png": "[encoded data removed]",
      "text/latex": [
       "$\\displaystyle a q_{1} + a q_{2} - d q_{1} q_{2} + q_{0} - \\frac{q_{1}^{2} \\left(b + d\\right)}{2} - \\frac{q_{2}^{2} \\left(b + d\\right)}{2}$"
      ],
      "text/plain": [
       "                               2             2        \n",
       "                             q₁ ⋅(b + d)   q₂ ⋅(b + d)\n",
       "a⋅q₁ + a⋅q₂ - d⋅q₁⋅q₂ + q₀ - ─────────── - ───────────\n",
       "                                  2             2     "
      ]
     },
     "metadata": {},
     "output_type": "display_data"
    },
    {
     "data": {
      "image/png": "[encoded data removed]",
      "text/latex": [
       "$\\displaystyle a q_{1} + a q_{2} + d q_{1} q_{2} + q_{0} - \\frac{q_{1}^{2} \\left(b + d\\right)}{2} - \\frac{q_{2}^{2} \\left(b + d\\right)}{2}$"
      ],
      "text/plain": [
       "                               2             2        \n",
       "                             q₁ ⋅(b + d)   q₂ ⋅(b + d)\n",
       "a⋅q₁ + a⋅q₂ + d⋅q₁⋅q₂ + q₀ - ─────────── - ───────────\n",
       "                                  2             2     "
      ]
     },
     "metadata": {},
     "output_type": "display_data"
    }
   ],
   "source": [
    "up = a * q1 + a * q2 - ((b+d) * q1 ** 2 + 2 * d *q1 * q2 + (b+d) * q2 ** 2) / 2 + q0\n",
    "display(up)\n",
    "um = a * q1 + a * q2 - ((b+d) * q1 ** 2 - 2 * d *q1 * q2 + (b+d) * q2 ** 2) / 2 + q0\n",
    "display(um)"
   ]
  },
  {
   "cell_type": "code",
   "execution_count": 6,
   "id": "75ac1315-9d5c-4c36-af7c-777082a18697",
   "metadata": {},
   "outputs": [
    {
     "data": {
      "image/png": "[encoded data removed]",
      "text/latex": [
       "$\\displaystyle R - p_{1} q_{1} - p_{2} q_{2} - q_{0}$"
      ],
      "text/plain": [
       "R - p₁⋅q₁ - p₂⋅q₂ - q₀"
      ]
     },
     "metadata": {},
     "output_type": "display_data"
    }
   ],
   "source": [
    "c = R - q0 -p1 * q1 - p2 * q2\n",
    "display(c)"
   ]
  },
  {
   "cell_type": "markdown",
   "id": "58c3a915-918e-451d-908b-233cf4fee6c7",
   "metadata": {},
   "source": [
    "# Existence d'une solution au programme"
   ]
  },
  {
   "cell_type": "markdown",
   "id": "e828fd3a-e447-4832-a70f-3ce67e174142",
   "metadata": {},
   "source": [
    "Pour étudier une maximisation on a deux possibilités:\n",
    "1. prouver qu'on maximise une fonction continue sur un domaine compact.\n",
    "2. montrer que la fonction est concave et lui trouver un point critique."
   ]
  },
  {
   "cell_type": "markdown",
   "id": "8397015f-e987-4502-bf27-ed1aa5cad8a3",
   "metadata": {},
   "source": [
    "Pour la première méthode les théorèmes usuels assurent la continuité et le caractère fermé du domaine.\n",
    "Et on voit en utilisant $p_1, p_2>0$ que l'on a \n",
    "$$\n",
    "\\begin{cases}\n",
    "0\\leq q_0\\leq R,\\\\\n",
    "0\\leq q_1\\leq \\frac{R}{p_1},\\\\\n",
    "0\\leq q_2\\leq \\frac{R}{p_2}\n",
    "\\end{cases}\n",
    "$$\n",
    "Donc on maximise sur un compact le maximum existe."
   ]
  },
  {
   "cell_type": "markdown",
   "id": "f8c83b50-1cec-4560-ada2-28dd8182f64b",
   "metadata": {},
   "source": [
    "Pour la deuxième méthode, la concavité revient à vérifier que la hessienne est positive (définie ou pas)."
   ]
  },
  {
   "cell_type": "code",
   "execution_count": 7,
   "id": "4affec60-67eb-4cf3-8487-c2ee2d7cad04",
   "metadata": {},
   "outputs": [
    {
     "data": {
      "text/latex": [
       "$\\displaystyle \\left[\\begin{matrix}0 & 0 & 0\\\\0 & - b - d & - d\\\\0 & - d & - b - d\\end{matrix}\\right]$"
      ],
      "text/plain": [
       "⎡0    0       0   ⎤\n",
       "⎢                 ⎥\n",
       "⎢0  -b - d    -d  ⎥\n",
       "⎢                 ⎥\n",
       "⎣0    -d    -b - d⎦"
      ]
     },
     "metadata": {},
     "output_type": "display_data"
    }
   ],
   "source": [
    "hessienne = sp.hessian(up, [q0, q1, q2])\n",
    "display(hessienne)"
   ]
  },
  {
   "cell_type": "code",
   "execution_count": 8,
   "id": "013fbe92-246c-40a3-a3ba-8a9548604fbc",
   "metadata": {},
   "outputs": [
    {
     "data": {
      "text/plain": [
       "False"
      ]
     },
     "execution_count": 8,
     "metadata": {},
     "output_type": "execute_result"
    }
   ],
   "source": [
    "hessienne.is_negative_definite"
   ]
  },
  {
   "cell_type": "code",
   "execution_count": 9,
   "id": "941562d6-89cd-4841-829d-87378e190bb2",
   "metadata": {},
   "outputs": [
    {
     "data": {
      "text/plain": [
       "True"
      ]
     },
     "execution_count": 9,
     "metadata": {},
     "output_type": "execute_result"
    }
   ],
   "source": [
    "hessienne.is_negative_semidefinite"
   ]
  },
  {
   "cell_type": "markdown",
   "id": "e12ed496-8eb2-4863-94e2-5dcaba02b28e",
   "metadata": {},
   "source": [
    "C'est ici qu'on voit le bienfait d'avoir encoder les coefficients de la forme quadratique de manière au premier abord un peu artificielle."
   ]
  },
  {
   "cell_type": "markdown",
   "id": "9856da0d-f684-4c4c-a2e4-2f0374735dfe",
   "metadata": {},
   "source": [
    "# Calcul des points critiques par multiplicateurs de Lagrange"
   ]
  },
  {
   "cell_type": "markdown",
   "id": "016b61ce-7377-440a-ac84-50500ee1ce3c",
   "metadata": {},
   "source": [
    "## Création des objets"
   ]
  },
  {
   "cell_type": "code",
   "execution_count": 10,
   "id": "0d645f37-eb43-45d1-9a9e-6f958b24a6f7",
   "metadata": {},
   "outputs": [],
   "source": [
    "l0, l1, l2, l3 = sp.symbols(\n",
    "    \"\\lambda_0 \\lambda_1 \\lambda_2 \\lambda_3\", \n",
    "    real=True, \n",
    "    nonnegative=True\n",
    ")"
   ]
  },
  {
   "cell_type": "code",
   "execution_count": 11,
   "id": "7c8162be-1cf5-4257-bb03-9ecc7e805388",
   "metadata": {},
   "outputs": [
    {
     "data": {
      "image/png": "[encoded data removed]",
      "text/latex": [
       "$\\displaystyle \\lambda_{0}$"
      ],
      "text/plain": [
       "\\lambda₀"
      ]
     },
     "metadata": {},
     "output_type": "display_data"
    },
    {
     "data": {
      "image/png": "[encoded data removed]",
      "text/latex": [
       "$\\displaystyle \\lambda_{1}$"
      ],
      "text/plain": [
       "\\lambda₁"
      ]
     },
     "metadata": {},
     "output_type": "display_data"
    },
    {
     "data": {
      "image/png": "[encoded data removed]",
      "text/latex": [
       "$\\displaystyle \\lambda_{2}$"
      ],
      "text/plain": [
       "\\lambda₂"
      ]
     },
     "metadata": {},
     "output_type": "display_data"
    },
    {
     "data": {
      "image/png": "[encoded data removed]",
      "text/latex": [
       "$\\displaystyle \\lambda_{3}$"
      ],
      "text/plain": [
       "\\lambda₃"
      ]
     },
     "metadata": {},
     "output_type": "display_data"
    }
   ],
   "source": [
    "display(l0, l1, l2, l3)"
   ]
  },
  {
   "cell_type": "code",
   "execution_count": 12,
   "id": "86a7e6cb-6139-4c5a-abc9-5e2718c0c150",
   "metadata": {},
   "outputs": [
    {
     "data": {
      "image/png": "[encoded data removed]",
      "text/latex": [
       "$\\displaystyle \\lambda_{0} q_{0} + \\lambda_{1} q_{1} + \\lambda_{2} q_{2} + \\lambda_{3} \\left(R - p_{1} q_{1} - p_{2} q_{2} - q_{0}\\right) + a q_{1} + a q_{2} - d q_{1} q_{2} + q_{0} - \\frac{q_{1}^{2} \\left(b + d\\right)}{2} - \\frac{q_{2}^{2} \\left(b + d\\right)}{2}$"
      ],
      "text/plain": [
       "                                                                                                             2             2        \n",
       "                                                                                                           q₁ ⋅(b + d)   q₂ ⋅(b + d)\n",
       "\\lambda₀⋅q₀ + \\lambda₁⋅q₁ + \\lambda₂⋅q₂ + \\lambda₃⋅(R - p₁⋅q₁ - p₂⋅q₂ - q₀) + a⋅q₁ + a⋅q₂ - d⋅q₁⋅q₂ + q₀ - ─────────── - ───────────\n",
       "                                                                                                                2             2     "
      ]
     },
     "metadata": {},
     "output_type": "display_data"
    }
   ],
   "source": [
    "L = up + l0 * q0 + l1 * q1 + l2 * q2 + l3 * c\n",
    "display(L)"
   ]
  },
  {
   "cell_type": "code",
   "execution_count": 13,
   "id": "a39d3540-04bf-4d9a-a969-28e83f596083",
   "metadata": {},
   "outputs": [
    {
     "data": {
      "image/png": "[encoded data removed]",
      "text/latex": [
       "$\\displaystyle \\left[ \\lambda_{0} - \\lambda_{3} + 1, \\  \\lambda_{1} - \\lambda_{3} p_{1} + a - d q_{2} - q_{1} \\left(b + d\\right), \\  \\lambda_{2} - \\lambda_{3} p_{2} + a - d q_{1} - q_{2} \\left(b + d\\right), \\  q_{0}, \\  q_{1}, \\  q_{2}, \\  R - p_{1} q_{1} - p_{2} q_{2} - q_{0}\\right]$"
      ],
      "text/plain": [
       "[\\lambda₀ - \\lambda₃ + 1, \\lambda₁ - \\lambda₃⋅p₁ + a - d⋅q₂ - q₁⋅(b + d), \\lambda₂ - \\lambda₃⋅p₂ + a - d⋅q₁ - q₂⋅(b + d), q₀, q₁, q₂, R - p₁⋅q₁\n",
       " - p₂⋅q₂ - q₀]"
      ]
     },
     "metadata": {},
     "output_type": "display_data"
    }
   ],
   "source": [
    "gradient = [sp.diff(L, var) for var in (q0, q1, q2, l0, l1, l2, l3)]\n",
    "display(gradient)"
   ]
  },
  {
   "cell_type": "markdown",
   "id": "11cf79dd-6ceb-4f96-937a-3af11dc76412",
   "metadata": {},
   "source": [
    "## Enumération des possibilités"
   ]
  },
  {
   "cell_type": "code",
   "execution_count": 14,
   "id": "0d2a9eeb-cb19-45a9-b840-a15d14b5d9ac",
   "metadata": {},
   "outputs": [],
   "source": [
    "from itertools import product\n",
    "from copy import deepcopy"
   ]
  },
  {
   "cell_type": "code",
   "execution_count": 15,
   "id": "b8c16e52-9109-4402-9852-a815fba34d45",
   "metadata": {},
   "outputs": [],
   "source": [
    "solutions = list()\n",
    "possibilites = product(*[[True, False] for _ in range(4)])\n",
    "for choix in possibilites:\n",
    "    Lc = deepcopy(L)\n",
    "    variables = [q0, q1, q2]\n",
    "    for est_saturee, multiplicateur in zip(choix, (l0, l1, l2, l3)):\n",
    "        if est_saturee:\n",
    "            variables.append(multiplicateur)\n",
    "        else:\n",
    "            Lc = Lc.subs(multiplicateur, 0)\n",
    "            \n",
    "    gradient = [sp.diff(Lc, var) for var in variables]\n",
    "    solution = sp.solve(gradient, *variables)\n",
    "    if solution:\n",
    "        solutions.append(solution)\n",
    "        "
   ]
  },
  {
   "cell_type": "code",
   "execution_count": 16,
   "id": "26336190-faac-47d8-bfa1-a04166290076",
   "metadata": {},
   "outputs": [
    {
     "data": {
      "image/png": "[encoded data removed]",
      "text/latex": [
       "$\\displaystyle \\left\\{ \\lambda_{0} : \\frac{- R b - R d + a p_{2} - p_{2}^{2}}{p_{2}^{2}}, \\  \\lambda_{1} : \\frac{- R b p_{1} - R d p_{1} + R d p_{2} + a p_{1} p_{2} - a p_{2}^{2}}{p_{2}^{2}}, \\  \\lambda_{3} : \\frac{- R b - R d + a p_{2}}{p_{2}^{2}}, \\  q_{0} : 0, \\  q_{1} : 0, \\  q_{2} : \\frac{R}{p_{2}}\\right\\}$"
      ],
      "text/plain": [
       "⎧                                2                                                      2                                                   ⎫\n",
       "⎪          -R⋅b - R⋅d + a⋅p₂ - p₂             -R⋅b⋅p₁ - R⋅d⋅p₁ + R⋅d⋅p₂ + a⋅p₁⋅p₂ - a⋅p₂             -R⋅b - R⋅d + a⋅p₂                    R ⎪\n",
       "⎨\\lambda₀: ───────────────────────, \\lambda₁: ───────────────────────────────────────────, \\lambda₃: ─────────────────, q₀: 0, q₁: 0, q₂: ──⎬\n",
       "⎪                      2                                            2                                         2                           p₂⎪\n",
       "⎩                    p₂                                           p₂                                        p₂                              ⎭"
      ]
     },
     "metadata": {},
     "output_type": "display_data"
    },
    {
     "data": {
      "image/png": "[encoded data removed]",
      "text/latex": [
       "$\\displaystyle \\left\\{ \\lambda_{0} : \\frac{- R b - R d + a p_{1} - p_{1}^{2}}{p_{1}^{2}}, \\  \\lambda_{2} : \\frac{- R b p_{2} + R d p_{1} - R d p_{2} - a p_{1}^{2} + a p_{1} p_{2}}{p_{1}^{2}}, \\  \\lambda_{3} : \\frac{- R b - R d + a p_{1}}{p_{1}^{2}}, \\  q_{0} : 0, \\  q_{1} : \\frac{R}{p_{1}}, \\  q_{2} : 0\\right\\}$"
      ],
      "text/plain": [
       "⎧                                2                                            2                                                             ⎫\n",
       "⎪          -R⋅b - R⋅d + a⋅p₁ - p₁             -R⋅b⋅p₂ + R⋅d⋅p₁ - R⋅d⋅p₂ - a⋅p₁  + a⋅p₁⋅p₂            -R⋅b - R⋅d + a⋅p₁             R        ⎪\n",
       "⎨\\lambda₀: ───────────────────────, \\lambda₂: ───────────────────────────────────────────, \\lambda₃: ─────────────────, q₀: 0, q₁: ──, q₂: 0⎬\n",
       "⎪                      2                                            2                                         2                    p₁       ⎪\n",
       "⎩                    p₁                                           p₁                                        p₁                              ⎭"
      ]
     },
     "metadata": {},
     "output_type": "display_data"
    },
    {
     "data": {
      "image/png": "[encoded data removed]",
      "text/latex": [
       "$\\displaystyle \\left\\{ \\lambda_{0} : \\frac{- R b^{2} - 2 R b d + a b p_{1} + a b p_{2} - b p_{1}^{2} - b p_{2}^{2} - d p_{1}^{2} + 2 d p_{1} p_{2} - d p_{2}^{2}}{b p_{1}^{2} + b p_{2}^{2} + d p_{1}^{2} - 2 d p_{1} p_{2} + d p_{2}^{2}}, \\  \\lambda_{3} : \\frac{- R b^{2} - 2 R b d + a b p_{1} + a b p_{2}}{b p_{1}^{2} + b p_{2}^{2} + d p_{1}^{2} - 2 d p_{1} p_{2} + d p_{2}^{2}}, \\  q_{0} : 0, \\  q_{1} : \\frac{R b p_{1} + R d p_{1} - R d p_{2} - a p_{1} p_{2} + a p_{2}^{2}}{b p_{1}^{2} + b p_{2}^{2} + d p_{1}^{2} - 2 d p_{1} p_{2} + d p_{2}^{2}}, \\  q_{2} : \\frac{R b p_{2} - R d p_{1} + R d p_{2} + a p_{1}^{2} - a p_{1} p_{2}}{b p_{1}^{2} + b p_{2}^{2} + d p_{1}^{2} - 2 d p_{1} p_{2} + d p_{2}^{2}}\\right\\}$"
      ],
      "text/plain": [
       "⎧               2                                   2       2       2                   2                     2                                \n",
       "⎪          - R⋅b  - 2⋅R⋅b⋅d + a⋅b⋅p₁ + a⋅b⋅p₂ - b⋅p₁  - b⋅p₂  - d⋅p₁  + 2⋅d⋅p₁⋅p₂ - d⋅p₂                 - R⋅b  - 2⋅R⋅b⋅d + a⋅b⋅p₁ + a⋅b⋅p₂    \n",
       "⎨\\lambda₀: ──────────────────────────────────────────────────────────────────────────────, \\lambda₃: ─────────────────────────────────────────,\n",
       "⎪                                2       2       2                   2                                   2       2       2                   2 \n",
       "⎩                            b⋅p₁  + b⋅p₂  + d⋅p₁  - 2⋅d⋅p₁⋅p₂ + d⋅p₂                                b⋅p₁  + b⋅p₂  + d⋅p₁  - 2⋅d⋅p₁⋅p₂ + d⋅p₂  \n",
       "\n",
       "                                                     2                                     2          ⎫\n",
       "            R⋅b⋅p₁ + R⋅d⋅p₁ - R⋅d⋅p₂ - a⋅p₁⋅p₂ + a⋅p₂       R⋅b⋅p₂ - R⋅d⋅p₁ + R⋅d⋅p₂ + a⋅p₁  - a⋅p₁⋅p₂⎪\n",
       " q₀: 0, q₁: ──────────────────────────────────────────, q₂: ──────────────────────────────────────────⎬\n",
       "                2       2       2                   2           2       2       2                   2 ⎪\n",
       "            b⋅p₁  + b⋅p₂  + d⋅p₁  - 2⋅d⋅p₁⋅p₂ + d⋅p₂        b⋅p₁  + b⋅p₂  + d⋅p₁  - 2⋅d⋅p₁⋅p₂ + d⋅p₂  ⎭"
      ]
     },
     "metadata": {},
     "output_type": "display_data"
    },
    {
     "data": {
      "image/png": "[encoded data removed]",
      "text/latex": [
       "$\\displaystyle \\left\\{ \\lambda_{1} : - a + p_{1}, \\  \\lambda_{2} : - a + p_{2}, \\  \\lambda_{3} : 1, \\  q_{0} : R, \\  q_{1} : 0, \\  q_{2} : 0\\right\\}$"
      ],
      "text/plain": [
       "{\\lambda₁: -a + p₁, \\lambda₂: -a + p₂, \\lambda₃: 1, q₀: R, q₁: 0, q₂: 0}"
      ]
     },
     "metadata": {},
     "output_type": "display_data"
    },
    {
     "data": {
      "image/png": "[encoded data removed]",
      "text/latex": [
       "$\\displaystyle \\left\\{ \\lambda_{1} : \\frac{- a b + b p_{1} + d p_{1} - d p_{2}}{b + d}, \\  \\lambda_{3} : 1, \\  q_{0} : \\frac{R b + R d - a p_{2} + p_{2}^{2}}{b + d}, \\  q_{1} : 0, \\  q_{2} : \\frac{a - p_{2}}{b + d}\\right\\}$"
      ],
      "text/plain": [
       "⎧                                                                           2                   ⎫\n",
       "⎪          -a⋅b + b⋅p₁ + d⋅p₁ - d⋅p₂                   R⋅b + R⋅d - a⋅p₂ + p₂              a - p₂⎪\n",
       "⎨\\lambda₁: ─────────────────────────, \\lambda₃: 1, q₀: ──────────────────────, q₁: 0, q₂: ──────⎬\n",
       "⎪                    b + d                                     b + d                      b + d ⎪\n",
       "⎩                                                                                               ⎭"
      ]
     },
     "metadata": {},
     "output_type": "display_data"
    },
    {
     "data": {
      "image/png": "[encoded data removed]",
      "text/latex": [
       "$\\displaystyle \\left\\{ \\lambda_{2} : \\frac{- a b + b p_{2} - d p_{1} + d p_{2}}{b + d}, \\  \\lambda_{3} : 1, \\  q_{0} : \\frac{R b + R d - a p_{1} + p_{1}^{2}}{b + d}, \\  q_{1} : \\frac{a - p_{1}}{b + d}, \\  q_{2} : 0\\right\\}$"
      ],
      "text/plain": [
       "⎧                                                                           2                   ⎫\n",
       "⎪          -a⋅b + b⋅p₂ - d⋅p₁ + d⋅p₂                   R⋅b + R⋅d - a⋅p₁ + p₁       a - p₁       ⎪\n",
       "⎨\\lambda₂: ─────────────────────────, \\lambda₃: 1, q₀: ──────────────────────, q₁: ──────, q₂: 0⎬\n",
       "⎪                    b + d                                     b + d               b + d        ⎪\n",
       "⎩                                                                                               ⎭"
      ]
     },
     "metadata": {},
     "output_type": "display_data"
    },
    {
     "data": {
      "image/png": "[encoded data removed]",
      "text/latex": [
       "$\\displaystyle \\left\\{ \\lambda_{3} : 1, \\  q_{0} : \\frac{R b^{2} + 2 R b d - a b p_{1} - a b p_{2} + b p_{1}^{2} + b p_{2}^{2} + d p_{1}^{2} - 2 d p_{1} p_{2} + d p_{2}^{2}}{b^{2} + 2 b d}, \\  q_{1} : \\frac{a b - b p_{1} - d p_{1} + d p_{2}}{b^{2} + 2 b d}, \\  q_{2} : \\frac{a b - b p_{2} + d p_{1} - d p_{2}}{b^{2} + 2 b d}\\right\\}$"
      ],
      "text/plain": [
       "⎧                    2                                   2       2       2                   2                                                 \n",
       "⎪                 R⋅b  + 2⋅R⋅b⋅d - a⋅b⋅p₁ - a⋅b⋅p₂ + b⋅p₁  + b⋅p₂  + d⋅p₁  - 2⋅d⋅p₁⋅p₂ + d⋅p₂       a⋅b - b⋅p₁ - d⋅p₁ + d⋅p₂      a⋅b - b⋅p₂ + \n",
       "⎨\\lambda₃: 1, q₀: ────────────────────────────────────────────────────────────────────────────, q₁: ────────────────────────, q₂: ─────────────\n",
       "⎪                                                   2                                                       2                             2    \n",
       "⎩                                                  b  + 2⋅b⋅d                                              b  + 2⋅b⋅d                    b  + 2\n",
       "\n",
       "           ⎫\n",
       "d⋅p₁ - d⋅p₂⎪\n",
       "───────────⎬\n",
       "           ⎪\n",
       "⋅b⋅d       ⎭"
      ]
     },
     "metadata": {},
     "output_type": "display_data"
    }
   ],
   "source": [
    "display(*solutions)"
   ]
  },
  {
   "cell_type": "code",
   "execution_count": 17,
   "id": "76f382bc-8855-408b-9aae-f65bc16018d8",
   "metadata": {},
   "outputs": [
    {
     "data": {
      "image/png": "[encoded data removed]",
      "text/latex": [
       "$\\displaystyle u^{+}$"
      ],
      "text/plain": [
       "u⁺"
      ]
     },
     "metadata": {},
     "output_type": "display_data"
    }
   ],
   "source": [
    "us = sp.Symbol(\"u^+\", function=True)\n",
    "display(us)"
   ]
  },
  {
   "cell_type": "code",
   "execution_count": 18,
   "id": "8467ebe1-1df5-479d-ae49-3e734fa2a484",
   "metadata": {},
   "outputs": [],
   "source": [
    "points_interessants = list()\n",
    "for solution in solutions:\n",
    "    points_interessants.append(\n",
    "        {\n",
    "            q0: solution[q0],\n",
    "            q1: solution[q1],\n",
    "            q2: solution[q2],\n",
    "            us: up.subs(solution).simplify(),\n",
    "        }\n",
    "    )"
   ]
  },
  {
   "cell_type": "code",
   "execution_count": 19,
   "id": "b96ac57c-b853-49a7-9a77-4b8a51f03e14",
   "metadata": {},
   "outputs": [
    {
     "data": {
      "image/png": "[encoded data removed]",
      "text/latex": [
       "$\\displaystyle \\left\\{ q_{0} : 0, \\  q_{1} : 0, \\  q_{2} : \\frac{R}{p_{2}}, \\  u^{+} : \\frac{R \\left(- R \\left(b + d\\right) + 2 a p_{2}\\right)}{2 p_{2}^{2}}\\right\\}$"
      ],
      "text/plain": [
       "⎧                  R       R⋅(-R⋅(b + d) + 2⋅a⋅p₂)⎫\n",
       "⎪q₀: 0, q₁: 0, q₂: ──, u⁺: ───────────────────────⎪\n",
       "⎨                  p₂                   2         ⎬\n",
       "⎪                                   2⋅p₂          ⎪\n",
       "⎩                                                 ⎭"
      ]
     },
     "metadata": {},
     "output_type": "display_data"
    },
    {
     "data": {
      "image/png": "[encoded data removed]",
      "text/latex": [
       "$\\displaystyle \\left\\{ q_{0} : 0, \\  q_{1} : \\frac{R}{p_{1}}, \\  q_{2} : 0, \\  u^{+} : \\frac{R \\left(- R \\left(b + d\\right) + 2 a p_{1}\\right)}{2 p_{1}^{2}}\\right\\}$"
      ],
      "text/plain": [
       "⎧           R              R⋅(-R⋅(b + d) + 2⋅a⋅p₁)⎫\n",
       "⎪q₀: 0, q₁: ──, q₂: 0, u⁺: ───────────────────────⎪\n",
       "⎨           p₁                          2         ⎬\n",
       "⎪                                   2⋅p₁          ⎪\n",
       "⎩                                                 ⎭"
      ]
     },
     "metadata": {},
     "output_type": "display_data"
    },
    {
     "data": {
      "image/png": "[encoded data removed]",
      "text/latex": [
       "$\\displaystyle \\left\\{ q_{0} : 0, \\  q_{1} : \\frac{R b p_{1} + R d p_{1} - R d p_{2} - a p_{1} p_{2} + a p_{2}^{2}}{b p_{1}^{2} + b p_{2}^{2} + d p_{1}^{2} - 2 d p_{1} p_{2} + d p_{2}^{2}}, \\  q_{2} : \\frac{R b p_{2} - R d p_{1} + R d p_{2} + a p_{1}^{2} - a p_{1} p_{2}}{b p_{1}^{2} + b p_{2}^{2} + d p_{1}^{2} - 2 d p_{1} p_{2} + d p_{2}^{2}}, \\  u^{+} : \\frac{- \\frac{R^{2} b^{2}}{2} - R^{2} b d + R a b p_{1} + R a b p_{2} + \\frac{a^{2} p_{1}^{2}}{2} - a^{2} p_{1} p_{2} + \\frac{a^{2} p_{2}^{2}}{2}}{b p_{1}^{2} + b p_{2}^{2} + d p_{1}^{2} - 2 d p_{1} p_{2} + d p_{2}^{2}}\\right\\}$"
      ],
      "text/plain": [
       "⎧                                                                                                              2  2                            \n",
       "⎪                                                                                                             R ⋅b     2                       \n",
       "⎪                                                    2                                     2                - ───── - R ⋅b⋅d + R⋅a⋅b⋅p₁ + R⋅a⋅b\n",
       "⎨           R⋅b⋅p₁ + R⋅d⋅p₁ - R⋅d⋅p₂ - a⋅p₁⋅p₂ + a⋅p₂       R⋅b⋅p₂ - R⋅d⋅p₁ + R⋅d⋅p₂ + a⋅p₁  - a⋅p₁⋅p₂          2                              \n",
       "⎪q₀: 0, q₁: ──────────────────────────────────────────, q₂: ──────────────────────────────────────────, u⁺: ───────────────────────────────────\n",
       "⎪               2       2       2                   2           2       2       2                   2                        2       2       2 \n",
       "⎩           b⋅p₁  + b⋅p₂  + d⋅p₁  - 2⋅d⋅p₁⋅p₂ + d⋅p₂        b⋅p₁  + b⋅p₂  + d⋅p₁  - 2⋅d⋅p₁⋅p₂ + d⋅p₂                     b⋅p₁  + b⋅p₂  + d⋅p₁  \n",
       "\n",
       "       2   2               2   2⎫\n",
       "      a ⋅p₁     2         a ⋅p₂ ⎪\n",
       "⋅p₂ + ────── - a ⋅p₁⋅p₂ + ──────⎪\n",
       "        2                   2   ⎬\n",
       "────────────────────────────────⎪\n",
       "                  2             ⎪\n",
       "- 2⋅d⋅p₁⋅p₂ + d⋅p₂              ⎭"
      ]
     },
     "metadata": {},
     "output_type": "display_data"
    },
    {
     "data": {
      "image/png": "[encoded data removed]",
      "text/latex": [
       "$\\displaystyle \\left\\{ q_{0} : R, \\  q_{1} : 0, \\  q_{2} : 0, \\  u^{+} : R\\right\\}$"
      ],
      "text/plain": [
       "{q₀: R, q₁: 0, q₂: 0, u⁺: R}"
      ]
     },
     "metadata": {},
     "output_type": "display_data"
    },
    {
     "data": {
      "image/png": "[encoded data removed]",
      "text/latex": [
       "$\\displaystyle \\left\\{ q_{0} : \\frac{R b + R d - a p_{2} + p_{2}^{2}}{b + d}, \\  q_{1} : 0, \\  q_{2} : \\frac{a - p_{2}}{b + d}, \\  u^{+} : \\frac{R b + R d + \\frac{a^{2}}{2} - a p_{2} + \\frac{p_{2}^{2}}{2}}{b + d}\\right\\}$"
      ],
      "text/plain": [
       "⎧                                                                2            2⎫\n",
       "⎪                                                               a           p₂ ⎪\n",
       "⎪                         2                         R⋅b + R⋅d + ── - a⋅p₂ + ───⎪\n",
       "⎨    R⋅b + R⋅d - a⋅p₂ + p₂              a - p₂                  2            2 ⎬\n",
       "⎪q₀: ──────────────────────, q₁: 0, q₂: ──────, u⁺: ───────────────────────────⎪\n",
       "⎪            b + d                      b + d                  b + d           ⎪\n",
       "⎩                                                                              ⎭"
      ]
     },
     "metadata": {},
     "output_type": "display_data"
    },
    {
     "data": {
      "image/png": "[encoded data removed]",
      "text/latex": [
       "$\\displaystyle \\left\\{ q_{0} : \\frac{R b + R d - a p_{1} + p_{1}^{2}}{b + d}, \\  q_{1} : \\frac{a - p_{1}}{b + d}, \\  q_{2} : 0, \\  u^{+} : \\frac{R b + R d + \\frac{a^{2}}{2} - a p_{1} + \\frac{p_{1}^{2}}{2}}{b + d}\\right\\}$"
      ],
      "text/plain": [
       "⎧                                                                2            2⎫\n",
       "⎪                                                               a           p₁ ⎪\n",
       "⎪                         2                         R⋅b + R⋅d + ── - a⋅p₁ + ───⎪\n",
       "⎨    R⋅b + R⋅d - a⋅p₁ + p₁       a - p₁                         2            2 ⎬\n",
       "⎪q₀: ──────────────────────, q₁: ──────, q₂: 0, u⁺: ───────────────────────────⎪\n",
       "⎪            b + d               b + d                         b + d           ⎪\n",
       "⎩                                                                              ⎭"
      ]
     },
     "metadata": {},
     "output_type": "display_data"
    },
    {
     "data": {
      "image/png": "[encoded data removed]",
      "text/latex": [
       "$\\displaystyle \\left\\{ q_{0} : \\frac{R b^{2} + 2 R b d - a b p_{1} - a b p_{2} + b p_{1}^{2} + b p_{2}^{2} + d p_{1}^{2} - 2 d p_{1} p_{2} + d p_{2}^{2}}{b^{2} + 2 b d}, \\  q_{1} : \\frac{a b - b p_{1} - d p_{1} + d p_{2}}{b^{2} + 2 b d}, \\  q_{2} : \\frac{a b - b p_{2} + d p_{1} - d p_{2}}{b^{2} + 2 b d}, \\  u^{+} : \\frac{R b^{2} + 2 R b d + a^{2} b - a b p_{1} - a b p_{2} + \\frac{b p_{1}^{2}}{2} + \\frac{b p_{2}^{2}}{2} + \\frac{d p_{1}^{2}}{2} - d p_{1} p_{2} + \\frac{d p_{2}^{2}}{2}}{b \\left(b + 2 d\\right)}\\right\\}$"
      ],
      "text/plain": [
       "⎧                                                                                                                                              \n",
       "⎪                                                                                                                                              \n",
       "⎪       2                                   2       2       2                   2                                                              \n",
       "⎨    R⋅b  + 2⋅R⋅b⋅d - a⋅b⋅p₁ - a⋅b⋅p₂ + b⋅p₁  + b⋅p₂  + d⋅p₁  - 2⋅d⋅p₁⋅p₂ + d⋅p₂       a⋅b - b⋅p₁ - d⋅p₁ + d⋅p₂      a⋅b - b⋅p₂ + d⋅p₁ - d⋅p₂  \n",
       "⎪q₀: ────────────────────────────────────────────────────────────────────────────, q₁: ────────────────────────, q₂: ────────────────────────, \n",
       "⎪                                      2                                                       2                             2                 \n",
       "⎩                                     b  + 2⋅b⋅d                                              b  + 2⋅b⋅d                    b  + 2⋅b⋅d         \n",
       "\n",
       "                                                  2       2       2                 2⎫\n",
       "       2              2                       b⋅p₁    b⋅p₂    d⋅p₁              d⋅p₂ ⎪\n",
       "    R⋅b  + 2⋅R⋅b⋅d + a ⋅b - a⋅b⋅p₁ - a⋅b⋅p₂ + ───── + ───── + ───── - d⋅p₁⋅p₂ + ─────⎪\n",
       "                                                2       2       2                 2  ⎬\n",
       "u⁺: ─────────────────────────────────────────────────────────────────────────────────⎪\n",
       "                                       b⋅(b + 2⋅d)                                   ⎪\n",
       "                                                                                     ⎭"
      ]
     },
     "metadata": {},
     "output_type": "display_data"
    }
   ],
   "source": [
    "display(*points_interessants)"
   ]
  },
  {
   "cell_type": "markdown",
   "id": "f14a0991-5d0f-4f58-a6b5-b65ace1f56f9",
   "metadata": {},
   "source": [
    "## Alternative"
   ]
  },
  {
   "cell_type": "markdown",
   "id": "4a085db1-17b3-4fea-b452-76a9b606dbd6",
   "metadata": {},
   "source": [
    "On introduit une variable de défaut $k$.\n",
    "\n",
    "$$\n",
    "\\begin{cases}\n",
    "\\max u^\\pm(q_0, q_1, q_2, k)=:a q_{1} + a q_{2} - \\frac{(b+d) q_{1}^{2}}{2} - \\frac{(b+d) q_{2}^{2}}{2} \\pm d q_{1} q_{2} + q_{0}\n",
    "\\\\\n",
    "q_0\\geq 0,\\\\\n",
    "q_1\\geq 0,\\\\\n",
    "q_2\\geq 0,\\\\\n",
    "k\\geq 0,\\\\\n",
    "R - p_{1} q_{1} - p_{2} q_{2} - q_{0}=k\n",
    "\\end{cases}\n",
    "$$\n",
    "Avec les paramètres vérifiant $a>0$, $b>0$, $d>0$, $p_1\\geq 0$, $p_2\\geq 0$ et $R\\geq 0$."
   ]
  },
  {
   "cell_type": "code",
   "execution_count": 20,
   "id": "ab83514e-572c-4dde-97df-1ea72b38dc88",
   "metadata": {},
   "outputs": [
    {
     "data": {
      "image/png": "[encoded data removed]",
      "text/latex": [
       "$\\displaystyle k$"
      ],
      "text/plain": [
       "k"
      ]
     },
     "metadata": {},
     "output_type": "display_data"
    }
   ],
   "source": [
    "k = sp.Symbol(\"k\", real=True, nonnegative=True)\n",
    "display(k)"
   ]
  },
  {
   "cell_type": "code",
   "execution_count": 21,
   "id": "09d4de50-7b33-45f4-ac7b-223ceac10895",
   "metadata": {},
   "outputs": [
    {
     "data": {
      "image/png": "[encoded data removed]",
      "text/latex": [
       "$\\displaystyle R - k - p_{1} q_{1} - p_{2} q_{2} - q_{0}$"
      ],
      "text/plain": [
       "R - k - p₁⋅q₁ - p₂⋅q₂ - q₀"
      ]
     },
     "metadata": {},
     "output_type": "display_data"
    }
   ],
   "source": [
    "ck = R - p1 * q1 - p2 * q2 - q0 - k\n",
    "display(ck)"
   ]
  },
  {
   "cell_type": "code",
   "execution_count": 22,
   "id": "0cf82eea-8a65-41d0-9d5d-43fda8440fe5",
   "metadata": {},
   "outputs": [
    {
     "data": {
      "image/png": "[encoded data removed]",
      "text/latex": [
       "$\\displaystyle \\left( \\lambda_{0}, \\  \\lambda_{1}, \\  \\lambda_{2}, \\  \\lambda_{k}, \\  \\mu\\right)$"
      ],
      "text/plain": [
       "(\\lambda₀, \\lambda₁, \\lambda₂, \\lambdaₖ, \\mu)"
      ]
     },
     "metadata": {},
     "output_type": "display_data"
    }
   ],
   "source": [
    "l0, l1, l2, lk = sp.symbols(\"\\lambda_0 \\lambda_1 \\lambda_2 \\lambda_k \", real=True, nonnegative=True)\n",
    "mu = sp.Symbol(\"\\mu\", real=True)\n",
    "display((l0, l1, l2, lk, mu))"
   ]
  },
  {
   "cell_type": "code",
   "execution_count": 23,
   "id": "81366c5b-0b28-4d96-89cd-6bbcab0292f8",
   "metadata": {},
   "outputs": [
    {
     "data": {
      "image/png": "[encoded data removed]",
      "text/latex": [
       "$\\displaystyle \\lambda_{0} q_{0} + \\lambda_{1} q_{1} + \\lambda_{2} q_{2} + \\lambda_{k} k + \\mu \\left(R - k - p_{1} q_{1} - p_{2} q_{2} - q_{0}\\right) + a q_{1} + a q_{2} - d q_{1} q_{2} + q_{0} - \\frac{q_{1}^{2} \\left(b + d\\right)}{2} - \\frac{q_{2}^{2} \\left(b + d\\right)}{2}$"
      ],
      "text/plain": [
       "                                                                                                                         2             2       \n",
       "                                                                                                                       q₁ ⋅(b + d)   q₂ ⋅(b + d\n",
       "\\lambda₀⋅q₀ + \\lambda₁⋅q₁ + \\lambda₂⋅q₂ + \\lambdaₖ⋅k + \\mu⋅(R - k - p₁⋅q₁ - p₂⋅q₂ - q₀) + a⋅q₁ + a⋅q₂ - d⋅q₁⋅q₂ + q₀ - ─────────── - ──────────\n",
       "                                                                                                                            2             2    \n",
       "\n",
       " \n",
       ")\n",
       "─\n",
       " "
      ]
     },
     "metadata": {},
     "output_type": "display_data"
    }
   ],
   "source": [
    "Lag = up + l0 * q0 + l1 * q1 + l2 * q2 + lk * k + mu * ck\n",
    "display(Lag)"
   ]
  },
  {
   "cell_type": "code",
   "execution_count": 24,
   "id": "48600e15-a53f-40fc-b785-999b70ce676e",
   "metadata": {},
   "outputs": [
    {
     "data": {
      "image/png": "[encoded data removed]",
      "text/latex": [
       "$\\displaystyle \\lambda_{0} - \\mu + 1 = 0$"
      ],
      "text/plain": [
       "\\lambda₀ - \\mu + 1 = 0"
      ]
     },
     "metadata": {},
     "output_type": "display_data"
    },
    {
     "data": {
      "image/png": "[encoded data removed]",
      "text/latex": [
       "$\\displaystyle \\lambda_{1} - \\mu p_{1} + a - d q_{2} - q_{1} \\left(b + d\\right) = 0$"
      ],
      "text/plain": [
       "\\lambda₁ - \\mu⋅p₁ + a - d⋅q₂ - q₁⋅(b + d) = 0"
      ]
     },
     "metadata": {},
     "output_type": "display_data"
    },
    {
     "data": {
      "image/png": "[encoded data removed]",
      "text/latex": [
       "$\\displaystyle \\lambda_{2} - \\mu p_{2} + a - d q_{1} - q_{2} \\left(b + d\\right) = 0$"
      ],
      "text/plain": [
       "\\lambda₂ - \\mu⋅p₂ + a - d⋅q₁ - q₂⋅(b + d) = 0"
      ]
     },
     "metadata": {},
     "output_type": "display_data"
    },
    {
     "data": {
      "image/png": "[encoded data removed]",
      "text/latex": [
       "$\\displaystyle \\lambda_{k} - \\mu = 0$"
      ],
      "text/plain": [
       "\\lambdaₖ - \\mu = 0"
      ]
     },
     "metadata": {},
     "output_type": "display_data"
    },
    {
     "data": {
      "image/png": "[encoded data removed]",
      "text/latex": [
       "$\\displaystyle R - k - p_{1} q_{1} - p_{2} q_{2} - q_{0} = 0$"
      ],
      "text/plain": [
       "R - k - p₁⋅q₁ - p₂⋅q₂ - q₀ = 0"
      ]
     },
     "metadata": {},
     "output_type": "display_data"
    },
    {
     "data": {
      "image/png": "[encoded data removed]",
      "text/latex": [
       "$\\displaystyle \\lambda_{0} q_{0} = 0$"
      ],
      "text/plain": [
       "\\lambda₀⋅q₀ = 0"
      ]
     },
     "metadata": {},
     "output_type": "display_data"
    },
    {
     "data": {
      "image/png": "[encoded data removed]",
      "text/latex": [
       "$\\displaystyle \\lambda_{1} q_{1} = 0$"
      ],
      "text/plain": [
       "\\lambda₁⋅q₁ = 0"
      ]
     },
     "metadata": {},
     "output_type": "display_data"
    },
    {
     "data": {
      "image/png": "[encoded data removed]",
      "text/latex": [
       "$\\displaystyle \\lambda_{2} q_{2} = 0$"
      ],
      "text/plain": [
       "\\lambda₂⋅q₂ = 0"
      ]
     },
     "metadata": {},
     "output_type": "display_data"
    },
    {
     "data": {
      "image/png": "[encoded data removed]",
      "text/latex": [
       "$\\displaystyle \\lambda_{k} k = 0$"
      ],
      "text/plain": [
       "\\lambdaₖ⋅k = 0"
      ]
     },
     "metadata": {},
     "output_type": "display_data"
    }
   ],
   "source": [
    "equations = [sp.Eq(Lag.diff(var), 0) for var in (q0, q1, q2, k, mu)]\n",
    "equations.append(sp.Eq(l0 * q0, 0))\n",
    "equations.append(sp.Eq(l1 * q1, 0))\n",
    "equations.append(sp.Eq(l2 * q2, 0))\n",
    "equations.append(sp.Eq(lk * k, 0))\n",
    "display(*equations)"
   ]
  },
  {
   "cell_type": "code",
   "execution_count": 25,
   "id": "2b6f149c-ca11-4ee9-8fea-9202f47ad790",
   "metadata": {},
   "outputs": [],
   "source": [
    "solutions = sp.solve(equations, [q0, q1, q2, k, mu, l0, l1, l2, lk], dict=True)"
   ]
  },
  {
   "cell_type": "code",
   "execution_count": 27,
   "id": "f6ce6bfa-56a0-440d-9fb1-e663a73386ed",
   "metadata": {},
   "outputs": [
    {
     "data": {
      "image/png": "[encoded data removed]",
      "text/latex": [
       "$\\displaystyle \\left\\{ \\lambda_{0} : 0, \\  \\lambda_{1} : 0, \\  \\lambda_{2} : 0, \\  \\lambda_{k} : 1, \\  \\mu : 1, \\  k : 0, \\  q_{0} : - \\frac{- R b^{2} - 2 R b d + a b p_{1} + a b p_{2} - b p_{1}^{2} - b p_{2}^{2} - d p_{1}^{2} + 2 d p_{1} p_{2} - d p_{2}^{2}}{b \\left(b + 2 d\\right)}, \\  q_{1} : \\frac{a b - b p_{1} - d p_{1} + d p_{2}}{b \\left(b + 2 d\\right)}, \\  q_{2} : \\frac{a b - b p_{2} + d p_{1} - d p_{2}}{b \\left(b + 2 d\\right)}\\right\\}$"
      ],
      "text/plain": [
       "⎧                                                                       ⎛     2                                   2       2       2            \n",
       "⎪                                                                      -⎝- R⋅b  - 2⋅R⋅b⋅d + a⋅b⋅p₁ + a⋅b⋅p₂ - b⋅p₁  - b⋅p₂  - d⋅p₁  + 2⋅d⋅p₁⋅p₂\n",
       "⎨\\lambda₀: 0, \\lambda₁: 0, \\lambda₂: 0, \\lambdaₖ: 1, \\mu: 1, k: 0, q₀: ────────────────────────────────────────────────────────────────────────\n",
       "⎪                                                                                                         b⋅(b + 2⋅d)                          \n",
       "⎩                                                                                                                                              \n",
       "\n",
       "       2⎞                                                             ⎫\n",
       " - d⋅p₂ ⎠       a⋅b - b⋅p₁ - d⋅p₁ + d⋅p₂      a⋅b - b⋅p₂ + d⋅p₁ - d⋅p₂⎪\n",
       "──────────, q₁: ────────────────────────, q₂: ────────────────────────⎬\n",
       "                      b⋅(b + 2⋅d)                   b⋅(b + 2⋅d)       ⎪\n",
       "                                                                      ⎭"
      ]
     },
     "metadata": {},
     "output_type": "display_data"
    },
    {
     "data": {
      "image/png": "[encoded data removed]",
      "text/latex": [
       "$\\displaystyle \\left\\{ \\lambda_{0} : 0, \\  \\lambda_{1} : 0, \\  \\lambda_{2} : \\frac{- a b + b p_{2} - d p_{1} + d p_{2}}{b + d}, \\  \\lambda_{k} : 1, \\  \\mu : 1, \\  k : 0, \\  q_{0} : - \\frac{- R b - R d + a p_{1} - p_{1}^{2}}{b + d}, \\  q_{1} : \\frac{a - p_{1}}{b + d}, \\  q_{2} : 0\\right\\}$"
      ],
      "text/plain": [
       "⎧                                                                                               ⎛                      2⎞                    ⎫\n",
       "⎪                                    -a⋅b + b⋅p₂ - d⋅p₁ + d⋅p₂                                 -⎝-R⋅b - R⋅d + a⋅p₁ - p₁ ⎠       a - p₁       ⎪\n",
       "⎨\\lambda₀: 0, \\lambda₁: 0, \\lambda₂: ─────────────────────────, \\lambdaₖ: 1, \\mu: 1, k: 0, q₀: ───────────────────────────, q₁: ──────, q₂: 0⎬\n",
       "⎪                                              b + d                                                      b + d                 b + d        ⎪\n",
       "⎩                                                                                                                                            ⎭"
      ]
     },
     "metadata": {},
     "output_type": "display_data"
    },
    {
     "data": {
      "image/png": "[encoded data removed]",
      "text/latex": [
       "$\\displaystyle \\left\\{ \\lambda_{0} : 0, \\  \\lambda_{1} : - \\frac{a b - b p_{1} - d p_{1} + d p_{2}}{b + d}, \\  \\lambda_{2} : 0, \\  \\lambda_{k} : 1, \\  \\mu : 1, \\  k : 0, \\  q_{0} : - \\frac{- R b - R d + a p_{2} - p_{2}^{2}}{b + d}, \\  q_{1} : 0, \\  q_{2} : \\frac{a - p_{2}}{b + d}\\right\\}$"
      ],
      "text/plain": [
       "⎧                                                                                                  ⎛                      2⎞                   \n",
       "⎪                       -(a⋅b - b⋅p₁ - d⋅p₁ + d⋅p₂)                                               -⎝-R⋅b - R⋅d + a⋅p₂ - p₂ ⎠              a - p\n",
       "⎨\\lambda₀: 0, \\lambda₁: ────────────────────────────, \\lambda₂: 0, \\lambdaₖ: 1, \\mu: 1, k: 0, q₀: ───────────────────────────, q₁: 0, q₂: ─────\n",
       "⎪                                  b + d                                                                     b + d                        b + d\n",
       "⎩                                                                                                                                              \n",
       "\n",
       " ⎫\n",
       "₂⎪\n",
       "─⎬\n",
       " ⎪\n",
       " ⎭"
      ]
     },
     "metadata": {},
     "output_type": "display_data"
    },
    {
     "data": {
      "image/png": "[encoded data removed]",
      "text/latex": [
       "$\\displaystyle \\left\\{ \\lambda_{0} : 0, \\  \\lambda_{1} : - a + p_{1}, \\  \\lambda_{2} : - a + p_{2}, \\  \\lambda_{k} : 1, \\  \\mu : 1, \\  k : 0, \\  q_{0} : R, \\  q_{1} : 0, \\  q_{2} : 0\\right\\}$"
      ],
      "text/plain": [
       "{\\lambda₀: 0, \\lambda₁: -a + p₁, \\lambda₂: -a + p₂, \\lambdaₖ: 1, \\mu: 1, k: 0, q₀: R, q₁: 0, q₂: 0}"
      ]
     },
     "metadata": {},
     "output_type": "display_data"
    },
    {
     "data": {
      "image/png": "[encoded data removed]",
      "text/latex": [
       "$\\displaystyle \\left\\{ \\lambda_{0} : \\frac{- R b - R d + a p_{1} - p_{1}^{2}}{p_{1}^{2}}, \\  \\lambda_{1} : 0, \\  \\lambda_{2} : - \\frac{R b p_{2} - R d p_{1} + R d p_{2} + a p_{1}^{2} - a p_{1} p_{2}}{p_{1}^{2}}, \\  \\lambda_{k} : \\frac{- R b - R d + a p_{1}}{p_{1}^{2}}, \\  \\mu : \\frac{- R b - R d + a p_{1}}{p_{1}^{2}}, \\  k : 0, \\  q_{0} : 0, \\  q_{1} : \\frac{R}{p_{1}}, \\  q_{2} : 0\\right\\}$"
      ],
      "text/plain": [
       "⎧                                2                          ⎛                               2          ⎞                                       \n",
       "⎪          -R⋅b - R⋅d + a⋅p₁ - p₁                          -⎝R⋅b⋅p₂ - R⋅d⋅p₁ + R⋅d⋅p₂ + a⋅p₁  - a⋅p₁⋅p₂⎠             -R⋅b - R⋅d + a⋅p₁       -R\n",
       "⎨\\lambda₀: ───────────────────────, \\lambda₁: 0, \\lambda₂: ──────────────────────────────────────────────, \\lambdaₖ: ─────────────────, \\mu: ──\n",
       "⎪                      2                                                          2                                           2                \n",
       "⎩                    p₁                                                         p₁                                          p₁                 \n",
       "\n",
       "                                           ⎫\n",
       "⋅b - R⋅d + a⋅p₁                   R        ⎪\n",
       "───────────────, k: 0, q₀: 0, q₁: ──, q₂: 0⎬\n",
       "       2                          p₁       ⎪\n",
       "     p₁                                    ⎭"
      ]
     },
     "metadata": {},
     "output_type": "display_data"
    },
    {
     "data": {
      "image/png": "[encoded data removed]",
      "text/latex": [
       "$\\displaystyle \\left\\{ \\lambda_{0} : \\frac{- R b - R d + a p_{2} - p_{2}^{2}}{p_{2}^{2}}, \\  \\lambda_{1} : \\frac{- R b p_{1} - R d p_{1} + R d p_{2} + a p_{1} p_{2} - a p_{2}^{2}}{p_{2}^{2}}, \\  \\lambda_{2} : 0, \\  \\lambda_{k} : \\frac{- R b - R d + a p_{2}}{p_{2}^{2}}, \\  \\mu : \\frac{- R b - R d + a p_{2}}{p_{2}^{2}}, \\  k : 0, \\  q_{0} : 0, \\  q_{1} : 0, \\  q_{2} : \\frac{R}{p_{2}}\\right\\}$"
      ],
      "text/plain": [
       "⎧                                2                                                      2                                                      \n",
       "⎪          -R⋅b - R⋅d + a⋅p₂ - p₂             -R⋅b⋅p₁ - R⋅d⋅p₁ + R⋅d⋅p₂ + a⋅p₁⋅p₂ - a⋅p₂                          -R⋅b - R⋅d + a⋅p₂       -R⋅b \n",
       "⎨\\lambda₀: ───────────────────────, \\lambda₁: ───────────────────────────────────────────, \\lambda₂: 0, \\lambdaₖ: ─────────────────, \\mu: ─────\n",
       "⎪                      2                                            2                                                      2                   \n",
       "⎩                    p₂                                           p₂                                                     p₂                    \n",
       "\n",
       "                                        ⎫\n",
       "- R⋅d + a⋅p₂                          R ⎪\n",
       "────────────, k: 0, q₀: 0, q₁: 0, q₂: ──⎬\n",
       "    2                                 p₂⎪\n",
       "  p₂                                    ⎭"
      ]
     },
     "metadata": {},
     "output_type": "display_data"
    },
    {
     "data": {
      "image/png": "[encoded data removed]",
      "text/latex": [
       "$\\displaystyle \\left\\{ \\lambda_{0} : \\frac{- R b^{2} - 2 R b d + a b p_{1} + a b p_{2} - b p_{1}^{2} - b p_{2}^{2} - d p_{1}^{2} + 2 d p_{1} p_{2} - d p_{2}^{2}}{b p_{1}^{2} + b p_{2}^{2} + d p_{1}^{2} - 2 d p_{1} p_{2} + d p_{2}^{2}}, \\  \\lambda_{1} : 0, \\  \\lambda_{2} : 0, \\  \\lambda_{k} : \\frac{- R b^{2} - 2 R b d + a b p_{1} + a b p_{2}}{b p_{1}^{2} + b p_{2}^{2} + d p_{1}^{2} - 2 d p_{1} p_{2} + d p_{2}^{2}}, \\  \\mu : \\frac{b \\left(- R b - 2 R d + a p_{1} + a p_{2}\\right)}{b p_{1}^{2} + b p_{2}^{2} + d p_{1}^{2} - 2 d p_{1} p_{2} + d p_{2}^{2}}, \\  k : 0, \\  q_{0} : 0, \\  q_{1} : - \\frac{- R b p_{1} - R d p_{1} + R d p_{2} + a p_{1} p_{2} - a p_{2}^{2}}{b p_{1}^{2} + b p_{2}^{2} + d p_{1}^{2} - 2 d p_{1} p_{2} + d p_{2}^{2}}, \\  q_{2} : \\frac{R b p_{2} - R d p_{1} + R d p_{2} + a p_{1}^{2} - a p_{1} p_{2}}{b p_{1}^{2} + b p_{2}^{2} + d p_{1}^{2} - 2 d p_{1} p_{2} + d p_{2}^{2}}\\right\\}$"
      ],
      "text/plain": [
       "⎧               2                                   2       2       2                   2                                               2      \n",
       "⎪          - R⋅b  - 2⋅R⋅b⋅d + a⋅b⋅p₁ + a⋅b⋅p₂ - b⋅p₁  - b⋅p₂  - d⋅p₁  + 2⋅d⋅p₁⋅p₂ - d⋅p₂                                           - R⋅b  - 2⋅R\n",
       "⎨\\lambda₀: ──────────────────────────────────────────────────────────────────────────────, \\lambda₁: 0, \\lambda₂: 0, \\lambdaₖ: ────────────────\n",
       "⎪                                2       2       2                   2                                                             2       2   \n",
       "⎩                            b⋅p₁  + b⋅p₂  + d⋅p₁  - 2⋅d⋅p₁⋅p₂ + d⋅p₂                                                          b⋅p₁  + b⋅p₂  + \n",
       "\n",
       "                                                                                             ⎛                                          2⎞     \n",
       "⋅b⋅d + a⋅b⋅p₁ + a⋅b⋅p₂                b⋅(-R⋅b - 2⋅R⋅d + a⋅p₁ + a⋅p₂)                        -⎝-R⋅b⋅p₁ - R⋅d⋅p₁ + R⋅d⋅p₂ + a⋅p₁⋅p₂ - a⋅p₂ ⎠     \n",
       "─────────────────────────, \\mu: ─────────────────────────────────────────, k: 0, q₀: 0, q₁: ───────────────────────────────────────────────, q₂\n",
       "    2                   2           2       2       2                   2                          2       2       2                   2       \n",
       "d⋅p₁  - 2⋅d⋅p₁⋅p₂ + d⋅p₂        b⋅p₁  + b⋅p₂  + d⋅p₁  - 2⋅d⋅p₁⋅p₂ + d⋅p₂                       b⋅p₁  + b⋅p₂  + d⋅p₁  - 2⋅d⋅p₁⋅p₂ + d⋅p₂        \n",
       "\n",
       "                                 2          ⎫\n",
       "  R⋅b⋅p₂ - R⋅d⋅p₁ + R⋅d⋅p₂ + a⋅p₁  - a⋅p₁⋅p₂⎪\n",
       ": ──────────────────────────────────────────⎬\n",
       "      2       2       2                   2 ⎪\n",
       "  b⋅p₁  + b⋅p₂  + d⋅p₁  - 2⋅d⋅p₁⋅p₂ + d⋅p₂  ⎭"
      ]
     },
     "metadata": {},
     "output_type": "display_data"
    }
   ],
   "source": [
    "display(*solutions)"
   ]
  }
 ],
 "metadata": {
  "kernelspec": {
   "display_name": "Python 3 (ipykernel)",
   "language": "python",
   "name": "python3"
  },
  "language_info": {
   "codemirror_mode": {
    "name": "ipython",
    "version": 3
   },
   "file_extension": ".py",
   "mimetype": "text/x-python",
   "name": "python",
   "nbconvert_exporter": "python",
   "pygments_lexer": "ipython3",
   "version": "3.9.2"
  }
 },
 "nbformat": 4,
 "nbformat_minor": 5
}
