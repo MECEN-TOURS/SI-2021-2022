{
 "cells": [
  {
   "cell_type": "markdown",
   "id": "b0940fbb-cd9d-4cee-939f-36055ed48e21",
   "metadata": {},
   "source": [
    "# Mathématiques"
   ]
  },
  {
   "cell_type": "markdown",
   "id": "f9da73f8-a0dc-4ccb-bc78-358daa210687",
   "metadata": {},
   "source": [
    "On a $a>0$ et $b>|d|>0$ et on définit la fonction d'utilité par:\n",
    "\n",
    "\\begin{equation}\n",
    "    \\forall (q_0, q_1, q_2) \\in \\mathbb{R}^3,\\quad U(q_0, q_1, q_2):= q_0 + a (q_1 + q_2) - \\frac{bq_1^2+bq_2^2+2dq_1q_2}{2}.\n",
    "\\end{equation}"
   ]
  },
  {
   "cell_type": "markdown",
   "id": "6503552b-65dd-476c-8909-f61565b48783",
   "metadata": {},
   "source": [
    "On se donne également $p_1,p_2,R >0$ et on introduit le domaine de contrainte\n",
    "\n",
    "\\begin{equation}\n",
    "T:=\\{(q_0, q_1, q_2)\\in \\mathbb{R}^3\\ :\\ q_0 \\geq 0,\\ q_1\\geq 0,\\ q_2 \\geq 0,\\ q_0 + p_1 q_1 + p_2 q_2 \\leq R\\}\n",
    "\\end{equation}"
   ]
  },
  {
   "cell_type": "markdown",
   "id": "465a0e54-95c9-4731-9959-2e67286c7a69",
   "metadata": {},
   "source": [
    "On définit alors\n",
    "\n",
    "$$\n",
    "(\\tilde{q_0}(p_1, p_2), \\tilde{q_1}(p_1, p_2), \\tilde{q_2}(p_1, p_2)) := \\underset{(q_0, q_1, q_2)\\in T}{\\mathrm{argmax}} U(q_0, q_1, q_2)\n",
    "$$"
   ]
  },
  {
   "cell_type": "markdown",
   "id": "c18dde9d-f595-4203-aa92-194073ac2dbf",
   "metadata": {},
   "source": [
    "On voit facilement qu'on peut en fait se ramener au problème \n",
    "$$\n",
    "\\forall (q_1, q_2)\\in \\mathbb{R}^2,\\qquad V(q_1, q_2):= R + (a - p_1) q_1 + (a - p_2) q_2 - \\frac{b q_1^2+b q_2^2+2 d q_1 q_2}{2}.\n",
    "$$\n",
    "Que l'on maximise sur le domaine\n",
    "$$\n",
    "S:=\\{(q_1, q_2)\\in \\mathbb{R}^2\\ :\\ q_1\\geq 0,\\ q_2 \\geq 0,\\ p_1 q_1 + p_2 q_2 \\leq R\\},\n",
    "$$"
   ]
  },
  {
   "cell_type": "markdown",
   "id": "7b14f3d1-9690-4bdb-9703-b2a66951427b",
   "metadata": {},
   "source": [
    "# Imports"
   ]
  },
  {
   "cell_type": "code",
   "execution_count": 3,
   "id": "b8bc4940-6ade-4955-beb0-df7f059c933a",
   "metadata": {},
   "outputs": [],
   "source": [
    "from IPython.display import display"
   ]
  },
  {
   "cell_type": "code",
   "execution_count": 1,
   "id": "d3424b06-69cd-418b-80e4-6cba3a6e0edc",
   "metadata": {},
   "outputs": [],
   "source": [
    "import sympy as sp\n",
    "sp.init_printing()"
   ]
  },
  {
   "cell_type": "code",
   "execution_count": 29,
   "id": "64732104-e37b-4a94-be1e-005b5d391a4d",
   "metadata": {},
   "outputs": [],
   "source": [
    "from dataclasses import dataclass"
   ]
  },
  {
   "cell_type": "code",
   "execution_count": 32,
   "id": "5886ff0c-f46b-47e4-bda0-5a880fbae6aa",
   "metadata": {},
   "outputs": [],
   "source": [
    "import numpy as np"
   ]
  },
  {
   "cell_type": "code",
   "execution_count": 28,
   "id": "cf4eb79f-a7cf-4949-b537-1558662ddcd8",
   "metadata": {},
   "outputs": [],
   "source": [
    "import plotly.graph_objects as go"
   ]
  },
  {
   "cell_type": "code",
   "execution_count": 70,
   "id": "9baedd15-37c3-48bc-a0dd-408d840ce601",
   "metadata": {},
   "outputs": [],
   "source": [
    "import dash\n",
    "from dash import dcc\n",
    "from dash import html\n",
    "from jupyter_dash import JupyterDash"
   ]
  },
  {
   "cell_type": "markdown",
   "id": "fe8fb069-f635-4f6f-b235-cd0bb3cb0532",
   "metadata": {},
   "source": [
    "# Définition des objets"
   ]
  },
  {
   "cell_type": "code",
   "execution_count": 5,
   "id": "5fca7f78-c790-4b21-be70-fab763bb17f2",
   "metadata": {},
   "outputs": [],
   "source": [
    "q1, q2 = sp.symbols(\"q_1 q_2\")\n",
    "a, b, d, R = sp.symbols(\"a b d R\")\n",
    "p1, p2 = sp.symbols(\"p_1 p_2\")"
   ]
  },
  {
   "cell_type": "code",
   "execution_count": 6,
   "id": "ead0c9f2-a8e4-4f1e-976a-9d15714d0cc4",
   "metadata": {},
   "outputs": [
    {
     "data": {
      "image/png": "[encoded data removed]",
      "text/latex": [
       "$\\displaystyle - \\frac{b q_{1}^{2}}{2} - \\frac{b q_{2}^{2}}{2} - d q_{1} q_{2} + q_{1} \\left(a - p_{1}\\right) + q_{2} \\left(a - p_{2}\\right)$"
      ],
      "text/plain": [
       "      2       2                                      \n",
       "  b⋅q₁    b⋅q₂                                       \n",
       "- ───── - ───── - d⋅q₁⋅q₂ + q₁⋅(a - p₁) + q₂⋅(a - p₂)\n",
       "    2       2                                        "
      ]
     },
     "metadata": {},
     "output_type": "display_data"
    }
   ],
   "source": [
    "V = (a - p1) * q1 + (a - p2) * q2 - (b * q1 ** 2 + b * q2 ** 2 + 2 * d * q1 * q2) / 2\n",
    "display(V)"
   ]
  },
  {
   "cell_type": "markdown",
   "id": "d934dc5f-dff3-4913-890f-1b4a30de33b5",
   "metadata": {},
   "source": [
    "# Existence et Concavité"
   ]
  },
  {
   "cell_type": "code",
   "execution_count": 11,
   "id": "5984b68c-f526-4578-9173-d509ca2284be",
   "metadata": {},
   "outputs": [
    {
     "data": {
      "text/latex": [
       "$\\displaystyle \\left[\\begin{matrix}- b & - d\\\\- d & - b\\end{matrix}\\right]$"
      ],
      "text/plain": [
       "⎡-b  -d⎤\n",
       "⎢      ⎥\n",
       "⎣-d  -b⎦"
      ]
     },
     "metadata": {},
     "output_type": "display_data"
    }
   ],
   "source": [
    "H = sp.hessian(V, [q1, q2])\n",
    "display(H)"
   ]
  },
  {
   "cell_type": "code",
   "execution_count": 12,
   "id": "bff293b3-d07e-42a1-b48b-7ea19286a150",
   "metadata": {},
   "outputs": [
    {
     "data": {
      "image/png": "[encoded data removed]",
      "text/latex": [
       "$\\displaystyle \\left\\{ - b - d : 1, \\  - b + d : 1\\right\\}$"
      ],
      "text/plain": [
       "{-b - d: 1, -b + d: 1}"
      ]
     },
     "execution_count": 12,
     "metadata": {},
     "output_type": "execute_result"
    }
   ],
   "source": [
    "H.eigenvals()"
   ]
  },
  {
   "cell_type": "markdown",
   "id": "84f7f944-04eb-4dc1-9091-7bed993d5797",
   "metadata": {},
   "source": [
    "On voit donc bien que sous l'hypothèse $0< |d| < b$ on a stricte concavité de $V$.\n",
    "\n",
    "De plus, le domaine $S$ est compact car $p_1$, $p_2$ et $R$ sont positifs (et donc $0\\leq q_1 \\geq \\frac{R}{p_1}$ et $0 \\leq q_2 \\geq \\frac{R}{p_2}$).\n",
    "\n",
    "On en conclu que le programme admet un unique maximiseur."
   ]
  },
  {
   "cell_type": "markdown",
   "id": "7320fc45-dc4a-4a33-a2f8-b7f605243ba5",
   "metadata": {},
   "source": [
    "# Calcul du point critique"
   ]
  },
  {
   "cell_type": "code",
   "execution_count": 7,
   "id": "c74910e2-59a7-4aa2-813d-5c3d873c2189",
   "metadata": {},
   "outputs": [
    {
     "data": {
      "image/png": "[encoded data removed]",
      "text/latex": [
       "$\\displaystyle \\left[ a - b q_{1} - d q_{2} - p_{1} = 0, \\  a - b q_{2} - d q_{1} - p_{2} = 0\\right]$"
      ],
      "text/plain": [
       "[a - b⋅q₁ - d⋅q₂ - p₁ = 0, a - b⋅q₂ - d⋅q₁ - p₂ = 0]"
      ]
     },
     "metadata": {},
     "output_type": "display_data"
    }
   ],
   "source": [
    "equations = [\n",
    "    sp.Eq(V.diff(q1), 0),\n",
    "    sp.Eq(V.diff(q2), 0),\n",
    "]\n",
    "display(equations)"
   ]
  },
  {
   "cell_type": "code",
   "execution_count": 8,
   "id": "7e01ac6d-892d-43f9-bf1c-3e156c96eb4b",
   "metadata": {},
   "outputs": [
    {
     "data": {
      "image/png": "[encoded data removed]",
      "text/latex": [
       "$\\displaystyle \\left\\{ q_{1} : \\frac{a b - a d - b p_{1} + d p_{2}}{b^{2} - d^{2}}, \\  q_{2} : \\frac{a b - a d - b p_{2} + d p_{1}}{b^{2} - d^{2}}\\right\\}$"
      ],
      "text/plain": [
       "⎧    a⋅b - a⋅d - b⋅p₁ + d⋅p₂      a⋅b - a⋅d - b⋅p₂ + d⋅p₁⎫\n",
       "⎪q₁: ───────────────────────, q₂: ───────────────────────⎪\n",
       "⎨             2    2                       2    2        ⎬\n",
       "⎪            b  - d                       b  - d         ⎪\n",
       "⎩                                                        ⎭"
      ]
     },
     "metadata": {},
     "output_type": "display_data"
    }
   ],
   "source": [
    "solutions = sp.solve(equations, (q1, q2))\n",
    "display(solutions)"
   ]
  },
  {
   "cell_type": "code",
   "execution_count": 25,
   "id": "328dbdd5-20c2-488b-b5f7-d7d650b739a8",
   "metadata": {},
   "outputs": [
    {
     "data": {
      "image/png": "[encoded data removed]",
      "text/latex": [
       "$\\displaystyle \\frac{a b - a d - b p_{1} + d p_{2}}{b^{2} - d^{2}}$"
      ],
      "text/plain": [
       "a⋅b - a⋅d - b⋅p₁ + d⋅p₂\n",
       "───────────────────────\n",
       "         2    2        \n",
       "        b  - d         "
      ]
     },
     "metadata": {},
     "output_type": "display_data"
    },
    {
     "data": {
      "image/png": "[encoded data removed]",
      "text/latex": [
       "$\\displaystyle \\frac{a b - a d - b p_{2} + d p_{1}}{b^{2} - d^{2}}$"
      ],
      "text/plain": [
       "a⋅b - a⋅d - b⋅p₂ + d⋅p₁\n",
       "───────────────────────\n",
       "         2    2        \n",
       "        b  - d         "
      ]
     },
     "metadata": {},
     "output_type": "display_data"
    },
    {
     "data": {
      "image/png": "[encoded data removed]",
      "text/latex": [
       "$\\displaystyle R - \\frac{p_{1} \\left(a b - a d - b p_{1} + d p_{2}\\right)}{b^{2} - d^{2}} - \\frac{p_{2} \\left(a b - a d - b p_{2} + d p_{1}\\right)}{b^{2} - d^{2}}$"
      ],
      "text/plain": [
       "    p₁⋅(a⋅b - a⋅d - b⋅p₁ + d⋅p₂)   p₂⋅(a⋅b - a⋅d - b⋅p₂ + d⋅p₁)\n",
       "R - ──────────────────────────── - ────────────────────────────\n",
       "               2    2                         2    2           \n",
       "              b  - d                         b  - d            "
      ]
     },
     "metadata": {},
     "output_type": "display_data"
    }
   ],
   "source": [
    "q1s, q2s = solutions[q1], solutions[q2]\n",
    "contrainte = R - p1 * q1s - p2 * q2s\n",
    "display(q1s, q2s, contrainte)"
   ]
  },
  {
   "cell_type": "code",
   "execution_count": 21,
   "id": "8c51b691-1c73-42d0-bb62-1f3a02c9bee3",
   "metadata": {},
   "outputs": [
    {
     "data": {
      "image/png": "[encoded data removed]",
      "text/latex": [
       "$\\displaystyle \\left[ \\frac{a \\left(b - d\\right)}{b}\\right]$"
      ],
      "text/plain": [
       "⎡a⋅(b - d)⎤\n",
       "⎢─────────⎥\n",
       "⎣    b    ⎦"
      ]
     },
     "execution_count": 21,
     "metadata": {},
     "output_type": "execute_result"
    }
   ],
   "source": [
    "sp.solve(q1s.subs(p2, 0), p1)"
   ]
  },
  {
   "cell_type": "code",
   "execution_count": 22,
   "id": "63054760-d395-4dc1-a2bc-7683307bf108",
   "metadata": {},
   "outputs": [
    {
     "data": {
      "image/png": "[encoded data removed]",
      "text/latex": [
       "$\\displaystyle \\left[ \\frac{a \\left(- b + d\\right)}{d}\\right]$"
      ],
      "text/plain": [
       "⎡a⋅(-b + d)⎤\n",
       "⎢──────────⎥\n",
       "⎣    d     ⎦"
      ]
     },
     "execution_count": 22,
     "metadata": {},
     "output_type": "execute_result"
    }
   ],
   "source": [
    "sp.solve(q1s.subs(p1, 0), p2)"
   ]
  },
  {
   "cell_type": "code",
   "execution_count": 23,
   "id": "9c698730-7183-431f-a0c4-a0d0454f7c43",
   "metadata": {},
   "outputs": [
    {
     "data": {
      "image/png": "[encoded data removed]",
      "text/latex": [
       "$\\displaystyle \\left[ \\frac{a \\left(b - d\\right)}{b}\\right]$"
      ],
      "text/plain": [
       "⎡a⋅(b - d)⎤\n",
       "⎢─────────⎥\n",
       "⎣    b    ⎦"
      ]
     },
     "execution_count": 23,
     "metadata": {},
     "output_type": "execute_result"
    }
   ],
   "source": [
    "sp.solve(q2s.subs(p1, 0), p2)"
   ]
  },
  {
   "cell_type": "code",
   "execution_count": 24,
   "id": "e71b2eef-71b4-4f3a-881e-953c9afa547c",
   "metadata": {},
   "outputs": [
    {
     "data": {
      "image/png": "[encoded data removed]",
      "text/latex": [
       "$\\displaystyle \\left[ \\frac{a \\left(- b + d\\right)}{d}\\right]$"
      ],
      "text/plain": [
       "⎡a⋅(-b + d)⎤\n",
       "⎢──────────⎥\n",
       "⎣    d     ⎦"
      ]
     },
     "execution_count": 24,
     "metadata": {},
     "output_type": "execute_result"
    }
   ],
   "source": [
    "sp.solve(q2s.subs(p2, 0), p1)"
   ]
  },
  {
   "cell_type": "code",
   "execution_count": 26,
   "id": "2418eeb3-df45-43de-8b48-e82addba82e4",
   "metadata": {},
   "outputs": [
    {
     "data": {
      "image/png": "[encoded data removed]",
      "text/latex": [
       "$\\displaystyle \\left[ \\frac{a \\left(b - d\\right) - \\sqrt{- \\left(b - d\\right) \\left(4 R b^{2} + 4 R b d - a^{2} b + a^{2} d\\right)}}{2 b}, \\  \\frac{a \\left(b - d\\right) + \\sqrt{- \\left(b - d\\right) \\left(4 R b^{2} + 4 R b d - a^{2} b + a^{2} d\\right)}}{2 b}\\right]$"
      ],
      "text/plain": [
       "⎡               ___________________________________________                 ___________________________________________⎤\n",
       "⎢              ╱          ⎛     2              2      2  ⎞                 ╱          ⎛     2              2      2  ⎞ ⎥\n",
       "⎢a⋅(b - d) - ╲╱  -(b - d)⋅⎝4⋅R⋅b  + 4⋅R⋅b⋅d - a ⋅b + a ⋅d⎠   a⋅(b - d) + ╲╱  -(b - d)⋅⎝4⋅R⋅b  + 4⋅R⋅b⋅d - a ⋅b + a ⋅d⎠ ⎥\n",
       "⎢──────────────────────────────────────────────────────────, ──────────────────────────────────────────────────────────⎥\n",
       "⎣                           2⋅b                                                         2⋅b                            ⎦"
      ]
     },
     "execution_count": 26,
     "metadata": {},
     "output_type": "execute_result"
    }
   ],
   "source": [
    "sp.solve(contrainte.subs(p2, 0), p1)"
   ]
  },
  {
   "cell_type": "code",
   "execution_count": 27,
   "id": "da0c5585-ba7d-4f56-97cf-3806a75a6230",
   "metadata": {},
   "outputs": [
    {
     "data": {
      "image/png": "[encoded data removed]",
      "text/latex": [
       "$\\displaystyle \\left[ \\frac{a \\left(b - d\\right) - \\sqrt{- \\left(b - d\\right) \\left(4 R b^{2} + 4 R b d - a^{2} b + a^{2} d\\right)}}{2 b}, \\  \\frac{a \\left(b - d\\right) + \\sqrt{- \\left(b - d\\right) \\left(4 R b^{2} + 4 R b d - a^{2} b + a^{2} d\\right)}}{2 b}\\right]$"
      ],
      "text/plain": [
       "⎡               ___________________________________________                 ___________________________________________⎤\n",
       "⎢              ╱          ⎛     2              2      2  ⎞                 ╱          ⎛     2              2      2  ⎞ ⎥\n",
       "⎢a⋅(b - d) - ╲╱  -(b - d)⋅⎝4⋅R⋅b  + 4⋅R⋅b⋅d - a ⋅b + a ⋅d⎠   a⋅(b - d) + ╲╱  -(b - d)⋅⎝4⋅R⋅b  + 4⋅R⋅b⋅d - a ⋅b + a ⋅d⎠ ⎥\n",
       "⎢──────────────────────────────────────────────────────────, ──────────────────────────────────────────────────────────⎥\n",
       "⎣                           2⋅b                                                         2⋅b                            ⎦"
      ]
     },
     "execution_count": 27,
     "metadata": {},
     "output_type": "execute_result"
    }
   ],
   "source": [
    "sp.solve(contrainte.subs(p1, 0), p2)"
   ]
  },
  {
   "cell_type": "markdown",
   "id": "73bee235-ea34-4e96-a299-d39d93d8dac9",
   "metadata": {},
   "source": [
    "# Visualisation\n",
    "\n",
    "Ensemble de niveaux de $V$ en fonction des paramètres."
   ]
  },
  {
   "cell_type": "code",
   "execution_count": 95,
   "id": "ef9de2ac-1507-4bd5-841c-1271f9302d72",
   "metadata": {},
   "outputs": [],
   "source": [
    "@dataclass\n",
    "class Visualisation:\n",
    "    a: float = 1.5\n",
    "    b: float = 2.\n",
    "    d: float = 1.\n",
    "    R: float = 10.\n",
    "    p1: float = 1.1\n",
    "    p2: float = 1.1\n",
    "    \n",
    "    def __post_init__(self):\n",
    "        self.gen_figure()\n",
    "    \n",
    "    def _calcule_valeurs(self):\n",
    "        alpha = np.linspace(0, 1, 100)\n",
    "        theta = np.linspace(0, 1, 100)\n",
    "        A, T = np.meshgrid(alpha, theta)\n",
    "        Q1 = A * self.R / self.p1\n",
    "        Q2 = (1 - A) * T * self.R / self.p2\n",
    "        V = (\n",
    "            self.R \n",
    "            + Q1 * (self.a - self.p1) \n",
    "            + Q2 * (self.a - self.p2) \n",
    "            - (self.b * Q1 ** 2 + self.b * Q2 ** 2 + 2 * self.d * Q1 * Q2) / 2\n",
    "        )\n",
    "        return Q1, Q2, V\n",
    "    \n",
    "    def _genere_surface(self):\n",
    "        Q1, Q2, V = self._calcule_valeurs()\n",
    "        return go.Surface(x=Q1, y=Q2, z=V)\n",
    "    \n",
    "    def gen_figure(self):\n",
    "        surface = self._genere_surface()\n",
    "        self.figure = go.Figure(\n",
    "                data=[surface],\n",
    "                layout=dict(width=600, height=600, transition_duration=500, uirevision=\"pas_touche\"),\n",
    "            )\n",
    "        return self.figure\n",
    "        "
   ]
  },
  {
   "cell_type": "code",
   "execution_count": 96,
   "id": "3368526a-5eb8-4163-9a52-5151d8201fee",
   "metadata": {},
   "outputs": [
    {
     "data": {
      "text/html": [
       "\n",
       "        <iframe\n",
       "            width=\"100%\"\n",
       "            height=\"650\"\n",
       "            src=\"http://127.0.0.1:8050/\"\n",
       "            frameborder=\"0\"\n",
       "            allowfullscreen\n",
       "            \n",
       "        ></iframe>\n",
       "        "
      ],
      "text/plain": [
       "<IPython.lib.display.IFrame at 0x7fac89eafb80>"
      ]
     },
     "metadata": {},
     "output_type": "display_data"
    }
   ],
   "source": [
    "app = JupyterDash(__name__) # à modifier par dash.App si à l'extérieur d'un notebook\n",
    "vis = Visualisation()\n",
    "app.layout = html.Div([\n",
    "    html.H1(\"Programme du consommateur.\"),\n",
    "    html.Div(\"\",id=\"deboguage\"),\n",
    "    html.Div(str(vis), id=\"vis\"),\n",
    "    html.Label([\"a\", dcc.Slider(\"slider_a\", min=0.5, max=10., step=0.5, value=vis.a)]),\n",
    "    dcc.Graph(id=\"figure\"),\n",
    "])\n",
    "\n",
    "@app.callback(\n",
    "    [\n",
    "        dash.dependencies.Output(\"vis\", \"children\"),\n",
    "        dash.dependencies.Output('figure', 'figure'),\n",
    "    ],\n",
    "    [\n",
    "        dash.dependencies.Input(\"slider_a\", \"value\"),\n",
    "    ]\n",
    ")\n",
    "def maj_donnees(a):\n",
    "    vis.a = a\n",
    "    return str(vis), vis.gen_figure() \n",
    "\n",
    "    \n",
    "app.run_server(mode=\"inline\")"
   ]
  },
  {
   "cell_type": "code",
   "execution_count": null,
   "id": "b9dd502b-7dfb-48de-9442-dfdef187ea95",
   "metadata": {},
   "outputs": [],
   "source": []
  }
 ],
 "metadata": {
  "kernelspec": {
   "display_name": "Python 3 (ipykernel)",
   "language": "python",
   "name": "python3"
  },
  "language_info": {
   "codemirror_mode": {
    "name": "ipython",
    "version": 3
   },
   "file_extension": ".py",
   "mimetype": "text/x-python",
   "name": "python",
   "nbconvert_exporter": "python",
   "pygments_lexer": "ipython3",
   "version": "3.9.2"
  }
 },
 "nbformat": 4,
 "nbformat_minor": 5
}
