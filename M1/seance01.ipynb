{
 "cells": [
  {
   "cell_type": "code",
   "execution_count": 1,
   "id": "913d84a0-2acb-40d7-b707-042fbea81812",
   "metadata": {},
   "outputs": [],
   "source": [
    "import sympy as sp"
   ]
  },
  {
   "cell_type": "code",
   "execution_count": 2,
   "id": "84295860-13c1-4f8e-bcf3-2d2a6fde27e5",
   "metadata": {},
   "outputs": [],
   "source": [
    "sp.init_printing()"
   ]
  },
  {
   "cell_type": "code",
   "execution_count": 3,
   "id": "d438048b-0a68-480b-a2c8-3c9286cd314b",
   "metadata": {},
   "outputs": [],
   "source": [
    "from IPython.display import display"
   ]
  },
  {
   "cell_type": "code",
   "execution_count": 4,
   "id": "ec577172-841b-486b-80d5-2fe0d15ce27a",
   "metadata": {},
   "outputs": [],
   "source": [
    "a = sp.Symbol(\"a\", real=True, positive=True)"
   ]
  },
  {
   "cell_type": "code",
   "execution_count": 5,
   "id": "c3c8ab68-98f3-4725-9152-5e2a90b4cdb7",
   "metadata": {},
   "outputs": [
    {
     "name": "stderr",
     "output_type": "stream",
     "text": [
      "/home/vincent/miniconda3/lib/python3.9/site-packages/IPython/lib/latextools.py:126: MatplotlibDeprecationWarning: \n",
      "The to_png function was deprecated in Matplotlib 3.4 and will be removed two minor releases later. Use mathtext.math_to_image instead.\n",
      "  mt.to_png(f, s, fontsize=12, dpi=dpi, color=color)\n",
      "/home/vincent/miniconda3/lib/python3.9/site-packages/IPython/lib/latextools.py:126: MatplotlibDeprecationWarning: \n",
      "The to_rgba function was deprecated in Matplotlib 3.4 and will be removed two minor releases later. Use mathtext.math_to_image instead.\n",
      "  mt.to_png(f, s, fontsize=12, dpi=dpi, color=color)\n",
      "/home/vincent/miniconda3/lib/python3.9/site-packages/IPython/lib/latextools.py:126: MatplotlibDeprecationWarning: \n",
      "The to_mask function was deprecated in Matplotlib 3.4 and will be removed two minor releases later. Use mathtext.math_to_image instead.\n",
      "  mt.to_png(f, s, fontsize=12, dpi=dpi, color=color)\n",
      "/home/vincent/miniconda3/lib/python3.9/site-packages/IPython/lib/latextools.py:126: MatplotlibDeprecationWarning: \n",
      "The MathtextBackendBitmap class was deprecated in Matplotlib 3.4 and will be removed two minor releases later. Use mathtext.math_to_image instead.\n",
      "  mt.to_png(f, s, fontsize=12, dpi=dpi, color=color)\n"
     ]
    },
    {
     "data": {
      "image/png": "[encoded data removed]",
      "text/latex": [
       "$\\displaystyle a$"
      ],
      "text/plain": [
       "a"
      ]
     },
     "execution_count": 5,
     "metadata": {},
     "output_type": "execute_result"
    }
   ],
   "source": [
    "a"
   ]
  },
  {
   "cell_type": "code",
   "execution_count": 6,
   "id": "7f1b809c-e4aa-4871-945e-565b9fe004ff",
   "metadata": {},
   "outputs": [],
   "source": [
    "import warnings"
   ]
  },
  {
   "cell_type": "code",
   "execution_count": 7,
   "id": "d714bbd0-9bca-4887-a5f4-d3a1e2cf8648",
   "metadata": {},
   "outputs": [],
   "source": [
    "warnings.filterwarnings(\"ignore\", module=\"IPython\")"
   ]
  },
  {
   "cell_type": "code",
   "execution_count": 8,
   "id": "f57f2798-aac1-4739-9c5f-c552aa9f684a",
   "metadata": {},
   "outputs": [
    {
     "data": {
      "image/png": "[encoded data removed]",
      "text/latex": [
       "$\\displaystyle a$"
      ],
      "text/plain": [
       "a"
      ]
     },
     "execution_count": 8,
     "metadata": {},
     "output_type": "execute_result"
    }
   ],
   "source": [
    "a"
   ]
  },
  {
   "cell_type": "code",
   "execution_count": 9,
   "id": "e6eb72d6-a6ec-49e1-a186-64ee48430ce7",
   "metadata": {},
   "outputs": [
    {
     "data": {
      "image/png": "[encoded data removed]",
      "text/latex": [
       "$\\displaystyle b$"
      ],
      "text/plain": [
       "b"
      ]
     },
     "metadata": {},
     "output_type": "display_data"
    }
   ],
   "source": [
    "b = sp.Symbol(\"b\", real=True, positive=True)\n",
    "display(b)"
   ]
  },
  {
   "cell_type": "code",
   "execution_count": 10,
   "id": "c4df65cc-1006-467a-8197-7e75a0fcff46",
   "metadata": {},
   "outputs": [
    {
     "data": {
      "image/png": "[encoded data removed]",
      "text/latex": [
       "$\\displaystyle d$"
      ],
      "text/plain": [
       "d"
      ]
     },
     "metadata": {},
     "output_type": "display_data"
    }
   ],
   "source": [
    "d = sp.Symbol(\"d\", real=True, nonzero=True)\n",
    "display(d)"
   ]
  },
  {
   "cell_type": "code",
   "execution_count": 11,
   "id": "b6a0db3a-e572-43ab-b356-ca2ac41eb91b",
   "metadata": {},
   "outputs": [
    {
     "data": {
      "text/plain": [
       "{'real': True,\n",
       " 'complex': True,\n",
       " 'hermitian': True,\n",
       " 'finite': True,\n",
       " 'imaginary': False,\n",
       " 'extended_real': True,\n",
       " 'infinite': False,\n",
       " 'commutative': True,\n",
       " 'nonzero': True,\n",
       " 'extended_nonzero': True,\n",
       " 'zero': False}"
      ]
     },
     "execution_count": 11,
     "metadata": {},
     "output_type": "execute_result"
    }
   ],
   "source": [
    "d.assumptions0"
   ]
  },
  {
   "cell_type": "code",
   "execution_count": 12,
   "id": "3580690b-4b62-4dda-9b50-37e6f0ed665d",
   "metadata": {},
   "outputs": [
    {
     "data": {
      "image/png": "[encoded data removed]",
      "text/latex": [
       "$\\displaystyle q_{0}$"
      ],
      "text/plain": [
       "q₀"
      ]
     },
     "metadata": {},
     "output_type": "display_data"
    },
    {
     "data": {
      "image/png": "[encoded data removed]",
      "text/latex": [
       "$\\displaystyle q_{1}$"
      ],
      "text/plain": [
       "q₁"
      ]
     },
     "metadata": {},
     "output_type": "display_data"
    },
    {
     "data": {
      "image/png": "[encoded data removed]",
      "text/latex": [
       "$\\displaystyle q_{2}$"
      ],
      "text/plain": [
       "q₂"
      ]
     },
     "metadata": {},
     "output_type": "display_data"
    }
   ],
   "source": [
    "q0, q1, q2 = sp.symbols(\"q_0 q_1 q_2\", real=True, nonnegative=True)\n",
    "display(q0, q1, q2)"
   ]
  },
  {
   "cell_type": "code",
   "execution_count": 13,
   "id": "5c444340-7c0e-423e-85ba-f78d9ffd27a3",
   "metadata": {},
   "outputs": [
    {
     "data": {
      "image/png": "[encoded data removed]",
      "text/latex": [
       "$\\displaystyle a q_{1} + a q_{2} - \\frac{b q_{1}^{2}}{2} - \\frac{b q_{2}^{2}}{2} - d q_{1} q_{2} + q_{0}$"
      ],
      "text/plain": [
       "                  2       2               \n",
       "              b⋅q₁    b⋅q₂                \n",
       "a⋅q₁ + a⋅q₂ - ───── - ───── - d⋅q₁⋅q₂ + q₀\n",
       "                2       2                 "
      ]
     },
     "metadata": {},
     "output_type": "display_data"
    }
   ],
   "source": [
    "u = a * q1 + a * q2 - (b * q1 ** 2 + 2 * d *q1 * q2 + b * q2 ** 2) / 2 + q0\n",
    "display(u)"
   ]
  },
  {
   "cell_type": "code",
   "execution_count": 14,
   "id": "37db45fc-6ae7-47af-9bc9-db0d3e138472",
   "metadata": {},
   "outputs": [
    {
     "data": {
      "text/plain": [
       "sympy.core.add.Add"
      ]
     },
     "execution_count": 14,
     "metadata": {},
     "output_type": "execute_result"
    }
   ],
   "source": [
    "type(u)"
   ]
  },
  {
   "cell_type": "code",
   "execution_count": 15,
   "id": "ca82c60b-1f70-41f6-8ddf-1ca2e7d1809b",
   "metadata": {},
   "outputs": [
    {
     "data": {
      "text/plain": [
       "sympy.core.symbol.Symbol"
      ]
     },
     "execution_count": 15,
     "metadata": {},
     "output_type": "execute_result"
    }
   ],
   "source": [
    "type(a)"
   ]
  },
  {
   "cell_type": "code",
   "execution_count": 16,
   "id": "0de2bab0-c0e8-4ed5-a3b7-edff3fedbe92",
   "metadata": {},
   "outputs": [
    {
     "data": {
      "text/plain": [
       "\"Symbol('a', real=True, positive=True)\""
      ]
     },
     "execution_count": 16,
     "metadata": {},
     "output_type": "execute_result"
    }
   ],
   "source": [
    "sp.srepr(a)"
   ]
  },
  {
   "cell_type": "code",
   "execution_count": 17,
   "id": "7bbb874e-ffc1-43a8-9a92-b5ee4dbbc4a5",
   "metadata": {},
   "outputs": [
    {
     "data": {
      "text/plain": [
       "\"Add(Mul(Symbol('a', real=True, positive=True), Symbol('q_1', real=True, nonnegative=True)), Mul(Symbol('a', real=True, positive=True), Symbol('q_2', real=True, nonnegative=True)), Mul(Integer(-1), Rational(1, 2), Symbol('b', real=True, positive=True), Pow(Symbol('q_1', real=True, nonnegative=True), Integer(2))), Mul(Integer(-1), Rational(1, 2), Symbol('b', real=True, positive=True), Pow(Symbol('q_2', real=True, nonnegative=True), Integer(2))), Mul(Integer(-1), Symbol('d', real=True, nonzero=True), Symbol('q_1', real=True, nonnegative=True), Symbol('q_2', real=True, nonnegative=True)), Symbol('q_0', real=True, nonnegative=True))\""
      ]
     },
     "execution_count": 17,
     "metadata": {},
     "output_type": "execute_result"
    }
   ],
   "source": [
    "sp.srepr(u)"
   ]
  },
  {
   "cell_type": "code",
   "execution_count": 19,
   "id": "93d3414d-0e8c-4a57-b2cb-5222984103a0",
   "metadata": {},
   "outputs": [],
   "source": [
    "with open(\"utilite.dot\", \"w\") as fichier:\n",
    "    fichier.write(sp.printing.dotprint(u))"
   ]
  },
  {
   "cell_type": "code",
   "execution_count": 20,
   "id": "70402d96-d915-47e5-a1b9-da1889b92b1a",
   "metadata": {},
   "outputs": [],
   "source": [
    "%%sh \n",
    "dot -Tsvg utilite.dot > utilite.svg"
   ]
  },
  {
   "cell_type": "markdown",
   "id": "040471fc-6724-435a-92dc-ebe950494006",
   "metadata": {},
   "source": [
    "<img src=\"utilite.svg\"/>"
   ]
  },
  {
   "cell_type": "code",
   "execution_count": 21,
   "id": "69b67788-ed66-430b-8691-996cfc2677a2",
   "metadata": {},
   "outputs": [
    {
     "data": {
      "image/png": "[encoded data removed]",
      "text/latex": [
       "$\\displaystyle p_{1}$"
      ],
      "text/plain": [
       "p₁"
      ]
     },
     "metadata": {},
     "output_type": "display_data"
    },
    {
     "data": {
      "image/png": "[encoded data removed]",
      "text/latex": [
       "$\\displaystyle p_{2}$"
      ],
      "text/plain": [
       "p₂"
      ]
     },
     "metadata": {},
     "output_type": "display_data"
    },
    {
     "data": {
      "image/png": "[encoded data removed]",
      "text/latex": [
       "$\\displaystyle R$"
      ],
      "text/plain": [
       "R"
      ]
     },
     "metadata": {},
     "output_type": "display_data"
    }
   ],
   "source": [
    "p1, p2, R = sp.symbols(\"p_1 p_2 R\", real=True, nonnegative=True)\n",
    "display(p1, p2, R)"
   ]
  },
  {
   "cell_type": "code",
   "execution_count": 22,
   "id": "75ac1315-9d5c-4c36-af7c-777082a18697",
   "metadata": {},
   "outputs": [
    {
     "data": {
      "image/png": "[encoded data removed]",
      "text/latex": [
       "$\\displaystyle R - p_{1} q_{1} - p_{2} q_{2} - q_{0}$"
      ],
      "text/plain": [
       "R - p₁⋅q₁ - p₂⋅q₂ - q₀"
      ]
     },
     "metadata": {},
     "output_type": "display_data"
    }
   ],
   "source": [
    "c = R - q0 -p1 * q1 - p2 * q2\n",
    "display(c)"
   ]
  },
  {
   "cell_type": "code",
   "execution_count": 24,
   "id": "aa2d3a9f-e08d-4e84-af7f-46c3a209695f",
   "metadata": {},
   "outputs": [
    {
     "name": "stdout",
     "output_type": "stream",
     "text": [
      "a q_{1} + a q_{2} - \\frac{b q_{1}^{2}}{2} - \\frac{b q_{2}^{2}}{2} - d q_{1} q_{2} + q_{0}\n"
     ]
    }
   ],
   "source": [
    "print(sp.latex(u))"
   ]
  },
  {
   "cell_type": "code",
   "execution_count": 25,
   "id": "9a93cdb2-70ed-489e-b220-ab2695a99ee2",
   "metadata": {},
   "outputs": [
    {
     "name": "stdout",
     "output_type": "stream",
     "text": [
      "R - p_{1} q_{1} - p_{2} q_{2} - q_{0}\n"
     ]
    }
   ],
   "source": [
    "print(sp.latex(c))"
   ]
  },
  {
   "cell_type": "markdown",
   "id": "61d7d0fa-8420-48ec-bf77-1520d63156b3",
   "metadata": {},
   "source": [
    "# Objectif\n",
    "\n",
    "$$\n",
    "\\begin{cases}\n",
    "\\max u(q_0, q_1, q_2)=a q_{1} + a q_{2} - \\frac{b q_{1}^{2}}{2} - \\frac{b q_{2}^{2}}{2} - d q_{1} q_{2} + q_{0}\n",
    "\\\\\n",
    "q_0\\geq 0,\\\\\n",
    "q_1\\geq 0,\\\\\n",
    "q_2\\geq 0,\\\\\n",
    "R - p_{1} q_{1} - p_{2} q_{2} - q_{0}\n",
    "\\geq 0,\n",
    "\\end{cases}\n",
    "$$"
   ]
  },
  {
   "cell_type": "markdown",
   "id": "e828fd3a-e447-4832-a70f-3ce67e174142",
   "metadata": {},
   "source": [
    "Pour étudier une maximisation on a deux possibilités:\n",
    "1. prouver qu'on maximise une fonction continue sur un domaine compact.\n",
    "2. montrer que la fonction est concave et lui trouver un point critique."
   ]
  },
  {
   "cell_type": "markdown",
   "id": "8397015f-e987-4502-bf27-ed1aa5cad8a3",
   "metadata": {},
   "source": [
    "Pour la première méthode les théorèmes usuels assurent la continuité et le caractère fermé du domaine.\n",
    "Et on voit en utilisant $p_1, p_2>0$ que l'on a \n",
    "$$\n",
    "\\begin{cases}\n",
    "0\\leq q_0\\leq R,\\\\\n",
    "0\\leq q_1\\leq \\frac{R}{p_1},\\\\\n",
    "0\\leq q_2\\leq \\frac{R}{p_2}\n",
    "\\end{cases}\n",
    "$$\n",
    "Donc on maximise sur un compact le maximum existe."
   ]
  },
  {
   "cell_type": "code",
   "execution_count": 26,
   "id": "4affec60-67eb-4cf3-8487-c2ee2d7cad04",
   "metadata": {},
   "outputs": [
    {
     "data": {
      "text/latex": [
       "$\\displaystyle \\left[\\begin{matrix}0 & 0 & 0\\\\0 & - b & - d\\\\0 & - d & - b\\end{matrix}\\right]$"
      ],
      "text/plain": [
       "⎡0  0   0 ⎤\n",
       "⎢         ⎥\n",
       "⎢0  -b  -d⎥\n",
       "⎢         ⎥\n",
       "⎣0  -d  -b⎦"
      ]
     },
     "metadata": {},
     "output_type": "display_data"
    }
   ],
   "source": [
    "hessienne = sp.hessian(u, [q0, q1, q2])\n",
    "display(hessienne)"
   ]
  },
  {
   "cell_type": "code",
   "execution_count": 27,
   "id": "7237a2e8-518a-416c-abe1-6d0e6cb10d80",
   "metadata": {},
   "outputs": [
    {
     "data": {
      "text/plain": [
       "sympy.matrices.dense.MutableDenseMatrix"
      ]
     },
     "execution_count": 27,
     "metadata": {},
     "output_type": "execute_result"
    }
   ],
   "source": [
    "type(hessienne)"
   ]
  },
  {
   "cell_type": "code",
   "execution_count": 28,
   "id": "013fbe92-246c-40a3-a3ba-8a9548604fbc",
   "metadata": {},
   "outputs": [
    {
     "data": {
      "text/plain": [
       "False"
      ]
     },
     "execution_count": 28,
     "metadata": {},
     "output_type": "execute_result"
    }
   ],
   "source": [
    "hessienne.is_negative_definite"
   ]
  },
  {
   "cell_type": "code",
   "execution_count": 29,
   "id": "941562d6-89cd-4841-829d-87378e190bb2",
   "metadata": {},
   "outputs": [],
   "source": [
    "hessienne.is_negative_semidefinite"
   ]
  },
  {
   "cell_type": "markdown",
   "id": "e12ed496-8eb2-4863-94e2-5dcaba02b28e",
   "metadata": {},
   "source": [
    "On n'a pas de réponse pour négative semidéfinie car cela dépend des paramètres en particulier on n'a pas encodé le fait que $b>|d|>0$."
   ]
  },
  {
   "cell_type": "code",
   "execution_count": 31,
   "id": "e5eb416a-766b-4204-acb3-85eb6b96c2f3",
   "metadata": {},
   "outputs": [
    {
     "data": {
      "text/latex": [
       "$\\displaystyle \\left[\\begin{matrix}b^{2} - d^{2} & 0 & 0\\\\0 & 0 & 0\\\\0 & 0 & 0\\end{matrix}\\right]$"
      ],
      "text/plain": [
       "⎡ 2    2      ⎤\n",
       "⎢b  - d   0  0⎥\n",
       "⎢             ⎥\n",
       "⎢   0     0  0⎥\n",
       "⎢             ⎥\n",
       "⎣   0     0  0⎦"
      ]
     },
     "execution_count": 31,
     "metadata": {},
     "output_type": "execute_result"
    }
   ],
   "source": [
    "sp.Matrix([[hessienne.cofactor(i,j) for j in range(3)] for i in range(3)])"
   ]
  },
  {
   "cell_type": "markdown",
   "id": "731d9ecb-ff85-4f14-b35f-630d56056d84",
   "metadata": {},
   "source": [
    "On en déduit que la matrice est bien négative dès que $b>|d|$ et donc que la fonction $u$ est concave."
   ]
  },
  {
   "cell_type": "code",
   "execution_count": 33,
   "id": "ff9239cb-6685-43c9-9224-52e8409dae92",
   "metadata": {},
   "outputs": [
    {
     "data": {
      "text/latex": [
       "$\\displaystyle \\left( \\left[\\begin{matrix}0\\\\- \\frac{b}{\\sqrt{b^{2} + d^{2}}}\\\\- \\frac{d}{\\sqrt{b^{2} + d^{2}}}\\end{matrix}\\right], \\  \\left[\\begin{matrix}0 & \\sqrt{b^{2} + d^{2}} & \\frac{2 b d}{\\sqrt{b^{2} + d^{2}}}\\end{matrix}\\right]\\right)$"
      ],
      "text/plain": [
       "⎛⎡     0      ⎤                                 ⎞\n",
       "⎜⎢            ⎥                                 ⎟\n",
       "⎜⎢    -b      ⎥                                 ⎟\n",
       "⎜⎢────────────⎥  ⎡      _________              ⎤⎟\n",
       "⎜⎢   _________⎥  ⎢     ╱  2    2      2⋅b⋅d    ⎥⎟\n",
       "⎜⎢  ╱  2    2 ⎥  ⎢0  ╲╱  b  + d    ────────────⎥⎟\n",
       "⎜⎢╲╱  b  + d  ⎥, ⎢                    _________⎥⎟\n",
       "⎜⎢            ⎥  ⎢                   ╱  2    2 ⎥⎟\n",
       "⎜⎢    -d      ⎥  ⎣                 ╲╱  b  + d  ⎦⎟\n",
       "⎜⎢────────────⎥                                 ⎟\n",
       "⎜⎢   _________⎥                                 ⎟\n",
       "⎜⎢  ╱  2    2 ⎥                                 ⎟\n",
       "⎝⎣╲╱  b  + d  ⎦                                 ⎠"
      ]
     },
     "execution_count": 33,
     "metadata": {},
     "output_type": "execute_result"
    }
   ],
   "source": [
    "# alternative\n",
    "hessienne.QRdecomposition()"
   ]
  },
  {
   "cell_type": "code",
   "execution_count": 34,
   "id": "f4560979-c44c-4497-a843-1fa302170a71",
   "metadata": {},
   "outputs": [
    {
     "data": {
      "image/png": "[encoded data removed]",
      "text/latex": [
       "$\\displaystyle \\left\\{ 0 : 1, \\  - b - d : 1, \\  - b + d : 1\\right\\}$"
      ],
      "text/plain": [
       "{0: 1, -b - d: 1, -b + d: 1}"
      ]
     },
     "execution_count": 34,
     "metadata": {},
     "output_type": "execute_result"
    }
   ],
   "source": [
    "hessienne.eigenvals()"
   ]
  },
  {
   "cell_type": "markdown",
   "id": "9856da0d-f684-4c4c-a2e4-2f0374735dfe",
   "metadata": {},
   "source": [
    "# Calcul"
   ]
  },
  {
   "cell_type": "code",
   "execution_count": 35,
   "id": "0d645f37-eb43-45d1-9a9e-6f958b24a6f7",
   "metadata": {},
   "outputs": [],
   "source": [
    "l0, l1, l2, l3 = sp.symbols(\n",
    "    \"\\lambda_0 \\lambda_1 \\lambda_2 \\lambda_3\", \n",
    "    real=True, \n",
    "    nonnegative=True\n",
    ")"
   ]
  },
  {
   "cell_type": "code",
   "execution_count": 36,
   "id": "7c8162be-1cf5-4257-bb03-9ecc7e805388",
   "metadata": {},
   "outputs": [
    {
     "data": {
      "image/png": "[encoded data removed]",
      "text/latex": [
       "$\\displaystyle \\lambda_{0}$"
      ],
      "text/plain": [
       "\\lambda₀"
      ]
     },
     "metadata": {},
     "output_type": "display_data"
    },
    {
     "data": {
      "image/png": "[encoded data removed]",
      "text/latex": [
       "$\\displaystyle \\lambda_{1}$"
      ],
      "text/plain": [
       "\\lambda₁"
      ]
     },
     "metadata": {},
     "output_type": "display_data"
    },
    {
     "data": {
      "image/png": "[encoded data removed]",
      "text/latex": [
       "$\\displaystyle \\lambda_{2}$"
      ],
      "text/plain": [
       "\\lambda₂"
      ]
     },
     "metadata": {},
     "output_type": "display_data"
    },
    {
     "data": {
      "image/png": "[encoded data removed]",
      "text/latex": [
       "$\\displaystyle \\lambda_{3}$"
      ],
      "text/plain": [
       "\\lambda₃"
      ]
     },
     "metadata": {},
     "output_type": "display_data"
    }
   ],
   "source": [
    "display(l0, l1, l2, l3)"
   ]
  },
  {
   "cell_type": "code",
   "execution_count": 37,
   "id": "86a7e6cb-6139-4c5a-abc9-5e2718c0c150",
   "metadata": {},
   "outputs": [
    {
     "data": {
      "image/png": "[encoded data removed]",
      "text/latex": [
       "$\\displaystyle \\lambda_{0} q_{0} + \\lambda_{1} q_{1} + \\lambda_{2} q_{2} + \\lambda_{3} \\left(R - p_{1} q_{1} - p_{2} q_{2} - q_{0}\\right) + a q_{1} + a q_{2} - \\frac{b q_{1}^{2}}{2} - \\frac{b q_{2}^{2}}{2} - d q_{1} q_{2} + q_{0}$"
      ],
      "text/plain": [
       "                                                                                              \n",
       "                                                                                            b⋅\n",
       "\\lambda₀⋅q₀ + \\lambda₁⋅q₁ + \\lambda₂⋅q₂ + \\lambda₃⋅(R - p₁⋅q₁ - p₂⋅q₂ - q₀) + a⋅q₁ + a⋅q₂ - ──\n",
       "                                                                                              \n",
       "\n",
       "  2       2               \n",
       "q₁    b⋅q₂                \n",
       "─── - ───── - d⋅q₁⋅q₂ + q₀\n",
       "2       2                 "
      ]
     },
     "metadata": {},
     "output_type": "display_data"
    }
   ],
   "source": [
    "L = u + l0 * q0 + l1 * q1 + l2 * q2 + l3 * c\n",
    "display(L)"
   ]
  },
  {
   "cell_type": "code",
   "execution_count": 38,
   "id": "a39d3540-04bf-4d9a-a969-28e83f596083",
   "metadata": {},
   "outputs": [
    {
     "data": {
      "image/png": "[encoded data removed]",
      "text/latex": [
       "$\\displaystyle \\left[ \\lambda_{0} - \\lambda_{3} + 1, \\  \\lambda_{1} - \\lambda_{3} p_{1} + a - b q_{1} - d q_{2}, \\  \\lambda_{2} - \\lambda_{3} p_{2} + a - b q_{2} - d q_{1}, \\  q_{0}, \\  q_{1}, \\  q_{2}, \\  R - p_{1} q_{1} - p_{2} q_{2} - q_{0}\\right]$"
      ],
      "text/plain": [
       "[\\lambda₀ - \\lambda₃ + 1, \\lambda₁ - \\lambda₃⋅p₁ + a - b⋅q₁ - d⋅q₂, \\lambda₂ - \\lambda₃⋅p₂ + a\n",
       " - b⋅q₂ - d⋅q₁, q₀, q₁, q₂, R - p₁⋅q₁ - p₂⋅q₂ - q₀]"
      ]
     },
     "metadata": {},
     "output_type": "display_data"
    }
   ],
   "source": [
    "gradient = [sp.diff(L, var) for var in (q0, q1, q2, l0, l1, l2, l3)]\n",
    "display(gradient)"
   ]
  },
  {
   "cell_type": "code",
   "execution_count": 39,
   "id": "501dd194-0b75-4fe9-ae11-4f701bbf198e",
   "metadata": {},
   "outputs": [
    {
     "data": {
      "image/png": "[encoded data removed]",
      "text/latex": [
       "$\\displaystyle \\left[ \\right]$"
      ],
      "text/plain": [
       "[]"
      ]
     },
     "execution_count": 39,
     "metadata": {},
     "output_type": "execute_result"
    }
   ],
   "source": [
    "sp.solve(gradient, q0, q1, q2, l0, l1, l2, l3)"
   ]
  },
  {
   "cell_type": "code",
   "execution_count": 40,
   "id": "a5545ce6-03de-422b-856a-a390035c1254",
   "metadata": {},
   "outputs": [
    {
     "data": {
      "image/png": "[encoded data removed]",
      "text/latex": [
       "$\\displaystyle \\lambda_{3} \\left(R - p_{1} q_{1} - p_{2} q_{2} - q_{0}\\right) + a q_{1} + a q_{2} - \\frac{b q_{1}^{2}}{2} - \\frac{b q_{2}^{2}}{2} - d q_{1} q_{2} + q_{0}$"
      ],
      "text/plain": [
       "                                                      2       2               \n",
       "                                                  b⋅q₁    b⋅q₂                \n",
       "\\lambda₃⋅(R - p₁⋅q₁ - p₂⋅q₂ - q₀) + a⋅q₁ + a⋅q₂ - ───── - ───── - d⋅q₁⋅q₂ + q₀\n",
       "                                                    2       2                 "
      ]
     },
     "metadata": {},
     "output_type": "display_data"
    }
   ],
   "source": [
    "L3 = L.subs({l0: 0, l1: 0, l2: 0})\n",
    "display(L3)"
   ]
  },
  {
   "cell_type": "code",
   "execution_count": 41,
   "id": "7caa636c-f9d8-4e08-b551-5434a68d7a5c",
   "metadata": {},
   "outputs": [
    {
     "data": {
      "image/png": "[encoded data removed]",
      "text/latex": [
       "$\\displaystyle \\left[ \\lambda_{0} - \\lambda_{3} + 1, \\  \\lambda_{1} - \\lambda_{3} p_{1} + a - b q_{1} - d q_{2}, \\  \\lambda_{2} - \\lambda_{3} p_{2} + a - b q_{2} - d q_{1}, \\  R - p_{1} q_{1} - p_{2} q_{2} - q_{0}\\right]$"
      ],
      "text/plain": [
       "[\\lambda₀ - \\lambda₃ + 1, \\lambda₁ - \\lambda₃⋅p₁ + a - b⋅q₁ - d⋅q₂, \\lambda₂ - \\lambda₃⋅p₂ + a\n",
       " - b⋅q₂ - d⋅q₁, R - p₁⋅q₁ - p₂⋅q₂ - q₀]"
      ]
     },
     "metadata": {},
     "output_type": "display_data"
    }
   ],
   "source": [
    "gradient = [sp.diff(L, var) for var in (q0, q1, q2, l3)]\n",
    "display(gradient)"
   ]
  },
  {
   "cell_type": "code",
   "execution_count": 42,
   "id": "0faf8955-bccf-4282-bf38-97adc896edf4",
   "metadata": {},
   "outputs": [
    {
     "data": {
      "image/png": "[encoded data removed]",
      "text/latex": [
       "$\\displaystyle \\left\\{ \\lambda_{3} : \\lambda_{0} + 1, \\  q_{0} : \\frac{R b^{2} - R d^{2} + \\lambda_{0} b p_{1}^{2} + \\lambda_{0} b p_{2}^{2} - 2 \\lambda_{0} d p_{1} p_{2} - \\lambda_{1} b p_{1} + \\lambda_{1} d p_{2} - \\lambda_{2} b p_{2} + \\lambda_{2} d p_{1} - a b p_{1} - a b p_{2} + a d p_{1} + a d p_{2} + b p_{1}^{2} + b p_{2}^{2} - 2 d p_{1} p_{2}}{b^{2} - d^{2}}, \\  q_{1} : \\frac{- \\lambda_{0} b p_{1} + \\lambda_{0} d p_{2} + \\lambda_{1} b - \\lambda_{2} d + a b - a d - b p_{1} + d p_{2}}{b^{2} - d^{2}}, \\  q_{2} : \\frac{- \\lambda_{0} b p_{2} + \\lambda_{0} d p_{1} - \\lambda_{1} d + \\lambda_{2} b + a b - a d - b p_{2} + d p_{1}}{b^{2} - d^{2}}\\right\\}$"
      ],
      "text/plain": [
       "⎧                               2      2                2                2                    \n",
       "⎪                            R⋅b  - R⋅d  + \\lambda₀⋅b⋅p₁  + \\lambda₀⋅b⋅p₂  - 2⋅\\lambda₀⋅d⋅p₁⋅p\n",
       "⎨\\lambda₃: \\lambda₀ + 1, q₀: ─────────────────────────────────────────────────────────────────\n",
       "⎪                                                                                             \n",
       "⎩                                                                                             \n",
       "\n",
       "                                                                                              \n",
       "₂ - \\lambda₁⋅b⋅p₁ + \\lambda₁⋅d⋅p₂ - \\lambda₂⋅b⋅p₂ + \\lambda₂⋅d⋅p₁ - a⋅b⋅p₁ - a⋅b⋅p₂ + a⋅d⋅p₁ +\n",
       "──────────────────────────────────────────────────────────────────────────────────────────────\n",
       "                             2    2                                                           \n",
       "                            b  - d                                                            \n",
       "\n",
       "              2       2                                                                       \n",
       " a⋅d⋅p₂ + b⋅p₁  + b⋅p₂  - 2⋅d⋅p₁⋅p₂      -\\lambda₀⋅b⋅p₁ + \\lambda₀⋅d⋅p₂ + \\lambda₁⋅b - \\lambda\n",
       "───────────────────────────────────, q₁: ─────────────────────────────────────────────────────\n",
       "                                                                               2    2         \n",
       "                                                                              b  - d          \n",
       "\n",
       "                                                                                              \n",
       "₂⋅d + a⋅b - a⋅d - b⋅p₁ + d⋅p₂      -\\lambda₀⋅b⋅p₂ + \\lambda₀⋅d⋅p₁ - \\lambda₁⋅d + \\lambda₂⋅b + \n",
       "─────────────────────────────, q₂: ───────────────────────────────────────────────────────────\n",
       "                                                                         2    2               \n",
       "                                                                        b  - d                \n",
       "\n",
       "                       ⎫\n",
       "a⋅b - a⋅d - b⋅p₂ + d⋅p₁⎪\n",
       "───────────────────────⎬\n",
       "                       ⎪\n",
       "                       ⎭"
      ]
     },
     "execution_count": 42,
     "metadata": {},
     "output_type": "execute_result"
    }
   ],
   "source": [
    "sp.solve(gradient, q0, q1, q2, l3)"
   ]
  },
  {
   "cell_type": "code",
   "execution_count": 43,
   "id": "bdc20f4c-46b6-44f9-a96e-974b30fc09cd",
   "metadata": {},
   "outputs": [],
   "source": [
    "from itertools import product"
   ]
  },
  {
   "cell_type": "code",
   "execution_count": 44,
   "id": "6f8901f2-10b9-4127-96cc-20419e0e4d1c",
   "metadata": {},
   "outputs": [
    {
     "name": "stdout",
     "output_type": "stream",
     "text": [
      "(True, True, True, True)\n",
      "(True, True, True, False)\n",
      "(True, True, False, True)\n",
      "(True, True, False, False)\n",
      "(True, False, True, True)\n",
      "(True, False, True, False)\n",
      "(True, False, False, True)\n",
      "(True, False, False, False)\n",
      "(False, True, True, True)\n",
      "(False, True, True, False)\n",
      "(False, True, False, True)\n",
      "(False, True, False, False)\n",
      "(False, False, True, True)\n",
      "(False, False, True, False)\n",
      "(False, False, False, True)\n",
      "(False, False, False, False)\n"
     ]
    }
   ],
   "source": [
    "for choix in product(*[[True, False] for _ in range(4)]):\n",
    "    print(choix)"
   ]
  },
  {
   "cell_type": "code",
   "execution_count": 45,
   "id": "1ba43d00-63a2-444b-9199-73e51ceca9f7",
   "metadata": {},
   "outputs": [],
   "source": [
    "from copy import deepcopy"
   ]
  },
  {
   "cell_type": "code",
   "execution_count": 50,
   "id": "b8c16e52-9109-4402-9852-a815fba34d45",
   "metadata": {},
   "outputs": [],
   "source": [
    "solutions = list()\n",
    "for combi in product(*[[True, False] for _ in range(4)]):\n",
    "    Lc = deepcopy(L)\n",
    "    variables = [q0, q1, q2]\n",
    "    for choix, la in zip(combi, (l0, l1, l2, l3)):\n",
    "        if choix:\n",
    "            variables.append(la)\n",
    "        else:\n",
    "            Lc = Lc.subs(la, 0)\n",
    "            \n",
    "    gradient = [sp.diff(Lc, var) for var in variables]\n",
    "    solution = sp.solve(gradient, *variables)\n",
    "    if solution:\n",
    "        solutions.append(solution)\n",
    "        "
   ]
  },
  {
   "cell_type": "code",
   "execution_count": 51,
   "id": "26336190-faac-47d8-bfa1-a04166290076",
   "metadata": {},
   "outputs": [
    {
     "data": {
      "image/png": "[encoded data removed]",
      "text/latex": [
       "$\\displaystyle \\left\\{ \\lambda_{0} : \\frac{- R b + a p_{2} - p_{2}^{2}}{p_{2}^{2}}, \\  \\lambda_{1} : \\frac{- R b p_{1} + R d p_{2} + a p_{1} p_{2} - a p_{2}^{2}}{p_{2}^{2}}, \\  \\lambda_{3} : \\frac{- R b + a p_{2}}{p_{2}^{2}}, \\  q_{0} : 0, \\  q_{1} : 0, \\  q_{2} : \\frac{R}{p_{2}}\\right\\}$"
      ],
      "text/plain": [
       "⎧                          2                                             2                    \n",
       "⎪          -R⋅b + a⋅p₂ - p₂             -R⋅b⋅p₁ + R⋅d⋅p₂ + a⋅p₁⋅p₂ - a⋅p₂             -R⋅b + a\n",
       "⎨\\lambda₀: ─────────────────, \\lambda₁: ──────────────────────────────────, \\lambda₃: ────────\n",
       "⎪                   2                                    2                                  2 \n",
       "⎩                 p₂                                   p₂                                 p₂  \n",
       "\n",
       "                         ⎫\n",
       "⋅p₂                    R ⎪\n",
       "───, q₀: 0, q₁: 0, q₂: ──⎬\n",
       "                       p₂⎪\n",
       "                         ⎭"
      ]
     },
     "metadata": {},
     "output_type": "display_data"
    },
    {
     "data": {
      "image/png": "[encoded data removed]",
      "text/latex": [
       "$\\displaystyle \\left\\{ \\lambda_{0} : \\frac{- R b + a p_{1} - p_{1}^{2}}{p_{1}^{2}}, \\  \\lambda_{2} : \\frac{- R b p_{2} + R d p_{1} - a p_{1}^{2} + a p_{1} p_{2}}{p_{1}^{2}}, \\  \\lambda_{3} : \\frac{- R b + a p_{1}}{p_{1}^{2}}, \\  q_{0} : 0, \\  q_{1} : \\frac{R}{p_{1}}, \\  q_{2} : 0\\right\\}$"
      ],
      "text/plain": [
       "⎧                          2                                   2                              \n",
       "⎪          -R⋅b + a⋅p₁ - p₁             -R⋅b⋅p₂ + R⋅d⋅p₁ - a⋅p₁  + a⋅p₁⋅p₂            -R⋅b + a\n",
       "⎨\\lambda₀: ─────────────────, \\lambda₂: ──────────────────────────────────, \\lambda₃: ────────\n",
       "⎪                   2                                    2                                  2 \n",
       "⎩                 p₁                                   p₁                                 p₁  \n",
       "\n",
       "                         ⎫\n",
       "⋅p₁             R        ⎪\n",
       "───, q₀: 0, q₁: ──, q₂: 0⎬\n",
       "                p₁       ⎪\n",
       "                         ⎭"
      ]
     },
     "metadata": {},
     "output_type": "display_data"
    },
    {
     "data": {
      "image/png": "[encoded data removed]",
      "text/latex": [
       "$\\displaystyle \\left\\{ \\lambda_{0} : \\frac{- R b^{2} + R d^{2} + a b p_{1} + a b p_{2} - a d p_{1} - a d p_{2} - b p_{1}^{2} - b p_{2}^{2} + 2 d p_{1} p_{2}}{b p_{1}^{2} + b p_{2}^{2} - 2 d p_{1} p_{2}}, \\  \\lambda_{3} : \\frac{- R b^{2} + R d^{2} + a b p_{1} + a b p_{2} - a d p_{1} - a d p_{2}}{b p_{1}^{2} + b p_{2}^{2} - 2 d p_{1} p_{2}}, \\  q_{0} : 0, \\  q_{1} : \\frac{R b p_{1} - R d p_{2} - a p_{1} p_{2} + a p_{2}^{2}}{b p_{1}^{2} + b p_{2}^{2} - 2 d p_{1} p_{2}}, \\  q_{2} : \\frac{R b p_{2} - R d p_{1} + a p_{1}^{2} - a p_{1} p_{2}}{b p_{1}^{2} + b p_{2}^{2} - 2 d p_{1} p_{2}}\\right\\}$"
      ],
      "text/plain": [
       "⎧               2      2                                           2       2                  \n",
       "⎪          - R⋅b  + R⋅d  + a⋅b⋅p₁ + a⋅b⋅p₂ - a⋅d⋅p₁ - a⋅d⋅p₂ - b⋅p₁  - b⋅p₂  + 2⋅d⋅p₁⋅p₂      \n",
       "⎨\\lambda₀: ─────────────────────────────────────────────────────────────────────────────, \\lam\n",
       "⎪                                        2       2                                            \n",
       "⎩                                    b⋅p₁  + b⋅p₂  - 2⋅d⋅p₁⋅p₂                                \n",
       "\n",
       "           2      2                                                                           \n",
       "      - R⋅b  + R⋅d  + a⋅b⋅p₁ + a⋅b⋅p₂ - a⋅d⋅p₁ - a⋅d⋅p₂             R⋅b⋅p₁ - R⋅d⋅p₂ - a⋅p₁⋅p₂ \n",
       "bda₃: ─────────────────────────────────────────────────, q₀: 0, q₁: ──────────────────────────\n",
       "                      2       2                                             2       2         \n",
       "                  b⋅p₁  + b⋅p₂  - 2⋅d⋅p₁⋅p₂                             b⋅p₁  + b⋅p₂  - 2⋅d⋅p₁\n",
       "\n",
       "      2                            2          ⎫\n",
       "+ a⋅p₂       R⋅b⋅p₂ - R⋅d⋅p₁ + a⋅p₁  - a⋅p₁⋅p₂⎪\n",
       "───────, q₂: ─────────────────────────────────⎬\n",
       "                     2       2                ⎪\n",
       "⋅p₂              b⋅p₁  + b⋅p₂  - 2⋅d⋅p₁⋅p₂    ⎭"
      ]
     },
     "metadata": {},
     "output_type": "display_data"
    },
    {
     "data": {
      "image/png": "[encoded data removed]",
      "text/latex": [
       "$\\displaystyle \\left\\{ \\lambda_{1} : - a + p_{1}, \\  \\lambda_{2} : - a + p_{2}, \\  \\lambda_{3} : 1, \\  q_{0} : R, \\  q_{1} : 0, \\  q_{2} : 0\\right\\}$"
      ],
      "text/plain": [
       "{\\lambda₁: -a + p₁, \\lambda₂: -a + p₂, \\lambda₃: 1, q₀: R, q₁: 0, q₂: 0}"
      ]
     },
     "metadata": {},
     "output_type": "display_data"
    },
    {
     "data": {
      "image/png": "[encoded data removed]",
      "text/latex": [
       "$\\displaystyle \\left\\{ \\lambda_{1} : \\frac{- a b + a d + b p_{1} - d p_{2}}{b}, \\  \\lambda_{3} : 1, \\  q_{0} : \\frac{R b - a p_{2} + p_{2}^{2}}{b}, \\  q_{1} : 0, \\  q_{2} : \\frac{a - p_{2}}{b}\\right\\}$"
      ],
      "text/plain": [
       "⎧                                                                    2                   ⎫\n",
       "⎪          -a⋅b + a⋅d + b⋅p₁ - d⋅p₂                   R⋅b - a⋅p₂ + p₂              a - p₂⎪\n",
       "⎨\\lambda₁: ────────────────────────, \\lambda₃: 1, q₀: ────────────────, q₁: 0, q₂: ──────⎬\n",
       "⎪                     b                                      b                       b   ⎪\n",
       "⎩                                                                                        ⎭"
      ]
     },
     "metadata": {},
     "output_type": "display_data"
    },
    {
     "data": {
      "image/png": "[encoded data removed]",
      "text/latex": [
       "$\\displaystyle \\left\\{ \\lambda_{2} : \\frac{- a b + a d + b p_{2} - d p_{1}}{b}, \\  \\lambda_{3} : 1, \\  q_{0} : \\frac{R b - a p_{1} + p_{1}^{2}}{b}, \\  q_{1} : \\frac{a - p_{1}}{b}, \\  q_{2} : 0\\right\\}$"
      ],
      "text/plain": [
       "⎧                                                                    2                   ⎫\n",
       "⎪          -a⋅b + a⋅d + b⋅p₂ - d⋅p₁                   R⋅b - a⋅p₁ + p₁       a - p₁       ⎪\n",
       "⎨\\lambda₂: ────────────────────────, \\lambda₃: 1, q₀: ────────────────, q₁: ──────, q₂: 0⎬\n",
       "⎪                     b                                      b                b          ⎪\n",
       "⎩                                                                                        ⎭"
      ]
     },
     "metadata": {},
     "output_type": "display_data"
    },
    {
     "data": {
      "image/png": "[encoded data removed]",
      "text/latex": [
       "$\\displaystyle \\left\\{ \\lambda_{3} : 1, \\  q_{0} : \\frac{R b^{2} - R d^{2} - a b p_{1} - a b p_{2} + a d p_{1} + a d p_{2} + b p_{1}^{2} + b p_{2}^{2} - 2 d p_{1} p_{2}}{b^{2} - d^{2}}, \\  q_{1} : \\frac{a b - a d - b p_{1} + d p_{2}}{b^{2} - d^{2}}, \\  q_{2} : \\frac{a b - a d - b p_{2} + d p_{1}}{b^{2} - d^{2}}\\right\\}$"
      ],
      "text/plain": [
       "⎧                    2      2                                           2       2             \n",
       "⎪                 R⋅b  - R⋅d  - a⋅b⋅p₁ - a⋅b⋅p₂ + a⋅d⋅p₁ + a⋅d⋅p₂ + b⋅p₁  + b⋅p₂  - 2⋅d⋅p₁⋅p₂ \n",
       "⎨\\lambda₃: 1, q₀: ───────────────────────────────────────────────────────────────────────────,\n",
       "⎪                                                    2    2                                   \n",
       "⎩                                                   b  - d                                    \n",
       "\n",
       "                                                         ⎫\n",
       "     a⋅b - a⋅d - b⋅p₁ + d⋅p₂      a⋅b - a⋅d - b⋅p₂ + d⋅p₁⎪\n",
       " q₁: ───────────────────────, q₂: ───────────────────────⎬\n",
       "              2    2                       2    2        ⎪\n",
       "             b  - d                       b  - d         ⎭"
      ]
     },
     "metadata": {},
     "output_type": "display_data"
    }
   ],
   "source": [
    "display(*solutions)"
   ]
  },
  {
   "cell_type": "code",
   "execution_count": 52,
   "id": "76f382bc-8855-408b-9aae-f65bc16018d8",
   "metadata": {},
   "outputs": [
    {
     "data": {
      "image/png": "[encoded data removed]",
      "text/latex": [
       "$\\displaystyle u$"
      ],
      "text/plain": [
       "u"
      ]
     },
     "metadata": {},
     "output_type": "display_data"
    }
   ],
   "source": [
    "us = sp.Symbol(\"u\", function=True)\n",
    "display(us)"
   ]
  },
  {
   "cell_type": "code",
   "execution_count": 53,
   "id": "8467ebe1-1df5-479d-ae49-3e734fa2a484",
   "metadata": {},
   "outputs": [],
   "source": [
    "points_interessants = list()\n",
    "for solution in solutions:\n",
    "    points_interessants.append(\n",
    "        {\n",
    "            q0: solution[q0],\n",
    "            q1: solution[q1],\n",
    "            q2: solution[q2],\n",
    "            us: u.subs(solution).simplify(),\n",
    "        }\n",
    "    )"
   ]
  },
  {
   "cell_type": "code",
   "execution_count": 54,
   "id": "b96ac57c-b853-49a7-9a77-4b8a51f03e14",
   "metadata": {},
   "outputs": [
    {
     "data": {
      "image/png": "[encoded data removed]",
      "text/latex": [
       "$\\displaystyle \\left\\{ q_{0} : 0, \\  q_{1} : 0, \\  q_{2} : \\frac{R}{p_{2}}, \\  u : \\frac{R \\left(- R b + 2 a p_{2}\\right)}{2 p_{2}^{2}}\\right\\}$"
      ],
      "text/plain": [
       "⎧                  R      R⋅(-R⋅b + 2⋅a⋅p₂)⎫\n",
       "⎪q₀: 0, q₁: 0, q₂: ──, u: ─────────────────⎪\n",
       "⎨                  p₂               2      ⎬\n",
       "⎪                               2⋅p₂       ⎪\n",
       "⎩                                          ⎭"
      ]
     },
     "metadata": {},
     "output_type": "display_data"
    },
    {
     "data": {
      "image/png": "[encoded data removed]",
      "text/latex": [
       "$\\displaystyle \\left\\{ q_{0} : 0, \\  q_{1} : \\frac{R}{p_{1}}, \\  q_{2} : 0, \\  u : \\frac{R \\left(- R b + 2 a p_{1}\\right)}{2 p_{1}^{2}}\\right\\}$"
      ],
      "text/plain": [
       "⎧           R             R⋅(-R⋅b + 2⋅a⋅p₁)⎫\n",
       "⎪q₀: 0, q₁: ──, q₂: 0, u: ─────────────────⎪\n",
       "⎨           p₁                      2      ⎬\n",
       "⎪                               2⋅p₁       ⎪\n",
       "⎩                                          ⎭"
      ]
     },
     "metadata": {},
     "output_type": "display_data"
    },
    {
     "data": {
      "image/png": "[encoded data removed]",
      "text/latex": [
       "$\\displaystyle \\left\\{ q_{0} : 0, \\  q_{1} : \\frac{R b p_{1} - R d p_{2} - a p_{1} p_{2} + a p_{2}^{2}}{b p_{1}^{2} + b p_{2}^{2} - 2 d p_{1} p_{2}}, \\  q_{2} : \\frac{R b p_{2} - R d p_{1} + a p_{1}^{2} - a p_{1} p_{2}}{b p_{1}^{2} + b p_{2}^{2} - 2 d p_{1} p_{2}}, \\  u : \\frac{- \\frac{R^{2} b^{2}}{2} + \\frac{R^{2} d^{2}}{2} + R a b p_{1} + R a b p_{2} - R a d p_{1} - R a d p_{2} + \\frac{a^{2} p_{1}^{2}}{2} - a^{2} p_{1} p_{2} + \\frac{a^{2} p_{2}^{2}}{2}}{b p_{1}^{2} + b p_{2}^{2} - 2 d p_{1} p_{2}}\\right\\}$"
      ],
      "text/plain": [
       "⎧                                                                                           2 \n",
       "⎪                                                                                          R ⋅\n",
       "⎪                                           2                            2               - ───\n",
       "⎨           R⋅b⋅p₁ - R⋅d⋅p₂ - a⋅p₁⋅p₂ + a⋅p₂       R⋅b⋅p₂ - R⋅d⋅p₁ + a⋅p₁  - a⋅p₁⋅p₂         2\n",
       "⎪q₀: 0, q₁: ─────────────────────────────────, q₂: ─────────────────────────────────, u: ─────\n",
       "⎪                   2       2                              2       2                          \n",
       "⎩               b⋅p₁  + b⋅p₂  - 2⋅d⋅p₁⋅p₂              b⋅p₁  + b⋅p₂  - 2⋅d⋅p₁⋅p₂              \n",
       "\n",
       " 2    2  2                                                2   2               2   2⎫\n",
       "b    R ⋅d                                                a ⋅p₁     2         a ⋅p₂ ⎪\n",
       "── + ───── + R⋅a⋅b⋅p₁ + R⋅a⋅b⋅p₂ - R⋅a⋅d⋅p₁ - R⋅a⋅d⋅p₂ + ────── - a ⋅p₁⋅p₂ + ──────⎪\n",
       "       2                                                   2                   2   ⎬\n",
       "───────────────────────────────────────────────────────────────────────────────────⎪\n",
       "                              2       2                                            ⎪\n",
       "                          b⋅p₁  + b⋅p₂  - 2⋅d⋅p₁⋅p₂                                ⎭"
      ]
     },
     "metadata": {},
     "output_type": "display_data"
    },
    {
     "data": {
      "image/png": "[encoded data removed]",
      "text/latex": [
       "$\\displaystyle \\left\\{ q_{0} : R, \\  q_{1} : 0, \\  q_{2} : 0, \\  u : R\\right\\}$"
      ],
      "text/plain": [
       "{q₀: R, q₁: 0, q₂: 0, u: R}"
      ]
     },
     "metadata": {},
     "output_type": "display_data"
    },
    {
     "data": {
      "image/png": "[encoded data removed]",
      "text/latex": [
       "$\\displaystyle \\left\\{ q_{0} : \\frac{R b - a p_{2} + p_{2}^{2}}{b}, \\  q_{1} : 0, \\  q_{2} : \\frac{a - p_{2}}{b}, \\  u : \\frac{R b + \\frac{a^{2}}{2} - a p_{2} + \\frac{p_{2}^{2}}{2}}{b}\\right\\}$"
      ],
      "text/plain": [
       "⎧                                                   2            2⎫\n",
       "⎪                                                  a           p₂ ⎪\n",
       "⎪                   2                        R⋅b + ── - a⋅p₂ + ───⎪\n",
       "⎨    R⋅b - a⋅p₂ + p₂              a - p₂           2            2 ⎬\n",
       "⎪q₀: ────────────────, q₁: 0, q₂: ──────, u: ─────────────────────⎪\n",
       "⎪           b                       b                  b          ⎪\n",
       "⎩                                                                 ⎭"
      ]
     },
     "metadata": {},
     "output_type": "display_data"
    },
    {
     "data": {
      "image/png": "[encoded data removed]",
      "text/latex": [
       "$\\displaystyle \\left\\{ q_{0} : \\frac{R b - a p_{1} + p_{1}^{2}}{b}, \\  q_{1} : \\frac{a - p_{1}}{b}, \\  q_{2} : 0, \\  u : \\frac{R b + \\frac{a^{2}}{2} - a p_{1} + \\frac{p_{1}^{2}}{2}}{b}\\right\\}$"
      ],
      "text/plain": [
       "⎧                                                   2            2⎫\n",
       "⎪                                                  a           p₁ ⎪\n",
       "⎪                   2                        R⋅b + ── - a⋅p₁ + ───⎪\n",
       "⎨    R⋅b - a⋅p₁ + p₁       a - p₁                  2            2 ⎬\n",
       "⎪q₀: ────────────────, q₁: ──────, q₂: 0, u: ─────────────────────⎪\n",
       "⎪           b                b                         b          ⎪\n",
       "⎩                                                                 ⎭"
      ]
     },
     "metadata": {},
     "output_type": "display_data"
    },
    {
     "data": {
      "image/png": "[encoded data removed]",
      "text/latex": [
       "$\\displaystyle \\left\\{ q_{0} : \\frac{R b^{2} - R d^{2} - a b p_{1} - a b p_{2} + a d p_{1} + a d p_{2} + b p_{1}^{2} + b p_{2}^{2} - 2 d p_{1} p_{2}}{b^{2} - d^{2}}, \\  q_{1} : \\frac{a b - a d - b p_{1} + d p_{2}}{b^{2} - d^{2}}, \\  q_{2} : \\frac{a b - a d - b p_{2} + d p_{1}}{b^{2} - d^{2}}, \\  u : \\frac{R b^{2} - R d^{2} + a^{2} b - a^{2} d - a b p_{1} - a b p_{2} + a d p_{1} + a d p_{2} + \\frac{b p_{1}^{2}}{2} + \\frac{b p_{2}^{2}}{2} - d p_{1} p_{2}}{b^{2} - d^{2}}\\right\\}$"
      ],
      "text/plain": [
       "⎧                                                                                             \n",
       "⎪                                                                                             \n",
       "⎪       2      2                                           2       2                          \n",
       "⎨    R⋅b  - R⋅d  - a⋅b⋅p₁ - a⋅b⋅p₂ + a⋅d⋅p₁ + a⋅d⋅p₂ + b⋅p₁  + b⋅p₂  - 2⋅d⋅p₁⋅p₂      a⋅b - a⋅\n",
       "⎪q₀: ───────────────────────────────────────────────────────────────────────────, q₁: ────────\n",
       "⎪                                       2    2                                                \n",
       "⎩                                      b  - d                                                 \n",
       "\n",
       "                                                                                              \n",
       "                                                    2      2    2      2                      \n",
       "                                                 R⋅b  - R⋅d  + a ⋅b - a ⋅d - a⋅b⋅p₁ - a⋅b⋅p₂ +\n",
       "d - b⋅p₁ + d⋅p₂      a⋅b - a⋅d - b⋅p₂ + d⋅p₁                                                  \n",
       "───────────────, q₂: ───────────────────────, u: ─────────────────────────────────────────────\n",
       " 2    2                       2    2                                                      2   \n",
       "b  - d                       b  - d                                                      b  - \n",
       "\n",
       "                       2       2          ⎫\n",
       "                   b⋅p₁    b⋅p₂           ⎪\n",
       " a⋅d⋅p₁ + a⋅d⋅p₂ + ───── + ───── - d⋅p₁⋅p₂⎪\n",
       "                     2       2            ⎬\n",
       "──────────────────────────────────────────⎪\n",
       " 2                                        ⎪\n",
       "d                                         ⎭"
      ]
     },
     "metadata": {},
     "output_type": "display_data"
    }
   ],
   "source": [
    "display(*points_interessants)"
   ]
  },
  {
   "cell_type": "code",
   "execution_count": 55,
   "id": "a8be88b8-c433-4215-94ec-d9e5e0605e77",
   "metadata": {},
   "outputs": [
    {
     "data": {
      "image/png": "[encoded data removed]",
      "text/latex": [
       "$\\displaystyle \\frac{R b + \\frac{a^{2}}{2} - a p_{1} + \\frac{p_{1}^{2}}{2}}{b}$"
      ],
      "text/plain": [
       "       2            2\n",
       "      a           p₁ \n",
       "R⋅b + ── - a⋅p₁ + ───\n",
       "      2            2 \n",
       "─────────────────────\n",
       "          b          "
      ]
     },
     "execution_count": 55,
     "metadata": {},
     "output_type": "execute_result"
    }
   ],
   "source": [
    "exp = points_interessants[5][us]\n",
    "exp"
   ]
  },
  {
   "cell_type": "code",
   "execution_count": 62,
   "id": "6963c226-c896-421c-93b7-195614650a93",
   "metadata": {},
   "outputs": [
    {
     "data": {
      "image/png": "[encoded data removed]",
      "text/latex": [
       "$\\displaystyle R + \\frac{a^{2}}{2 b} - \\frac{a p_{1}}{b} + \\frac{p_{1}^{2}}{2 b}$"
      ],
      "text/plain": [
       "      2            2\n",
       "     a    a⋅p₁   p₁ \n",
       "R + ─── - ──── + ───\n",
       "    2⋅b    b     2⋅b"
      ]
     },
     "execution_count": 62,
     "metadata": {},
     "output_type": "execute_result"
    }
   ],
   "source": [
    "exp.expand()"
   ]
  },
  {
   "cell_type": "code",
   "execution_count": 63,
   "id": "b69002d6-506f-4d2a-8cd0-7b93403b8792",
   "metadata": {},
   "outputs": [
    {
     "data": {
      "image/png": "[encoded data removed]",
      "text/latex": [
       "$\\displaystyle R + \\frac{\\frac{a^{2}}{2} - a p_{1} + \\frac{p_{1}^{2}}{2}}{b}$"
      ],
      "text/plain": [
       "     2            2\n",
       "    a           p₁ \n",
       "    ── - a⋅p₁ + ───\n",
       "    2            2 \n",
       "R + ───────────────\n",
       "           b       "
      ]
     },
     "execution_count": 63,
     "metadata": {},
     "output_type": "execute_result"
    }
   ],
   "source": [
    "exp.expand().collect(b)"
   ]
  },
  {
   "cell_type": "code",
   "execution_count": 64,
   "id": "94ec7fa9-b00a-4fa4-b765-71e77b082fde",
   "metadata": {},
   "outputs": [
    {
     "data": {
      "text/plain": [
       "\"Add(Symbol('R', real=True, nonnegative=True), Mul(Pow(Symbol('b', real=True, positive=True), Integer(-1)), Add(Mul(Rational(1, 2), Pow(Symbol('a', real=True, positive=True), Integer(2))), Mul(Integer(-1), Symbol('a', real=True, positive=True), Symbol('p_1', real=True, nonnegative=True)), Mul(Rational(1, 2), Pow(Symbol('p_1', real=True, nonnegative=True), Integer(2))))))\""
      ]
     },
     "execution_count": 64,
     "metadata": {},
     "output_type": "execute_result"
    }
   ],
   "source": [
    "sp.srepr(exp.expand().collect(b))"
   ]
  },
  {
   "cell_type": "code",
   "execution_count": 67,
   "id": "39476d13-146b-4127-ac94-95b2a20db5d1",
   "metadata": {},
   "outputs": [],
   "source": [
    "second = exp.expand().collect(b).args[1]"
   ]
  },
  {
   "cell_type": "code",
   "execution_count": 68,
   "id": "59b29b65-e4fb-4ece-9587-4a0e5caf1649",
   "metadata": {},
   "outputs": [
    {
     "data": {
      "text/plain": [
       "\"Mul(Pow(Symbol('b', real=True, positive=True), Integer(-1)), Add(Mul(Rational(1, 2), Pow(Symbol('a', real=True, positive=True), Integer(2))), Mul(Integer(-1), Symbol('a', real=True, positive=True), Symbol('p_1', real=True, nonnegative=True)), Mul(Rational(1, 2), Pow(Symbol('p_1', real=True, nonnegative=True), Integer(2)))))\""
      ]
     },
     "execution_count": 68,
     "metadata": {},
     "output_type": "execute_result"
    }
   ],
   "source": [
    "sp.srepr(second)"
   ]
  },
  {
   "cell_type": "code",
   "execution_count": 72,
   "id": "12db7dd8-37ce-4bca-b892-830eee4ebba1",
   "metadata": {},
   "outputs": [
    {
     "data": {
      "image/png": "[encoded data removed]",
      "text/latex": [
       "$\\displaystyle \\left( a^{2} - 2 a p_{1} + p_{1}^{2}, \\  2 b\\right)$"
      ],
      "text/plain": [
       "⎛ 2              2     ⎞\n",
       "⎝a  - 2⋅a⋅p₁ + p₁ , 2⋅b⎠"
      ]
     },
     "execution_count": 72,
     "metadata": {},
     "output_type": "execute_result"
    }
   ],
   "source": [
    "num, den = second.as_numer_denom()\n",
    "num, den"
   ]
  },
  {
   "cell_type": "code",
   "execution_count": 73,
   "id": "32014df6-51b9-4442-ae8c-5f0497bfc872",
   "metadata": {},
   "outputs": [
    {
     "data": {
      "image/png": "[encoded data removed]",
      "text/latex": [
       "$\\displaystyle a^{2} - 2 a p_{1} + p_{1}^{2}$"
      ],
      "text/plain": [
       " 2              2\n",
       "a  - 2⋅a⋅p₁ + p₁ "
      ]
     },
     "execution_count": 73,
     "metadata": {},
     "output_type": "execute_result"
    }
   ],
   "source": [
    "num.simplify()"
   ]
  },
  {
   "cell_type": "code",
   "execution_count": 74,
   "id": "60ecf089-c500-466f-901d-73b465ac3bd3",
   "metadata": {},
   "outputs": [
    {
     "data": {
      "image/png": "[encoded data removed]",
      "text/latex": [
       "$\\displaystyle \\left(a - p_{1}\\right)^{2}$"
      ],
      "text/plain": [
       "        2\n",
       "(a - p₁) "
      ]
     },
     "execution_count": 74,
     "metadata": {},
     "output_type": "execute_result"
    }
   ],
   "source": [
    "num.factor()"
   ]
  },
  {
   "cell_type": "code",
   "execution_count": null,
   "id": "c87c90cc-8210-4e2c-be43-e08376db052d",
   "metadata": {},
   "outputs": [],
   "source": []
  }
 ],
 "metadata": {
  "kernelspec": {
   "display_name": "Python 3 (ipykernel)",
   "language": "python",
   "name": "python3"
  },
  "language_info": {
   "codemirror_mode": {
    "name": "ipython",
    "version": 3
   },
   "file_extension": ".py",
   "mimetype": "text/x-python",
   "name": "python",
   "nbconvert_exporter": "python",
   "pygments_lexer": "ipython3",
   "version": "3.9.2"
  }
 },
 "nbformat": 4,
 "nbformat_minor": 5
}
