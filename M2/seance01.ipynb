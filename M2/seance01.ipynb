{
 "cells": [
  {
   "cell_type": "code",
   "execution_count": 1,
   "id": "268baf34-6410-4361-9a0c-0bc5e5d1cfca",
   "metadata": {},
   "outputs": [],
   "source": [
    "import sympy as sp"
   ]
  },
  {
   "cell_type": "code",
   "execution_count": 2,
   "id": "48ea715b-9c67-4736-af51-3029bc608378",
   "metadata": {},
   "outputs": [],
   "source": [
    "# pour avoir un affichage plus joli des expressions\n",
    "sp.init_printing()"
   ]
  },
  {
   "cell_type": "code",
   "execution_count": 3,
   "id": "c9f7a2f0-e1fa-4eab-b73d-c97624493df6",
   "metadata": {},
   "outputs": [],
   "source": [
    "# pour remplacer print afin d'afficher le latex\n",
    "from IPython.display import display"
   ]
  },
  {
   "cell_type": "code",
   "execution_count": 4,
   "id": "b54fcf62-43a8-4628-8fe2-a89ca943676a",
   "metadata": {},
   "outputs": [],
   "source": [
    "# création d'un symbole avec des hypothèse sur l'objet qu'il représente\n",
    "a = sp.Symbol(\"a\", real=True, positive=True)"
   ]
  },
  {
   "cell_type": "code",
   "execution_count": 5,
   "id": "e3f20451-36f2-48bb-8557-541573badb25",
   "metadata": {},
   "outputs": [
    {
     "name": "stderr",
     "output_type": "stream",
     "text": [
      "/home/vincent/miniconda3/lib/python3.9/site-packages/IPython/lib/latextools.py:126: MatplotlibDeprecationWarning: \n",
      "The to_png function was deprecated in Matplotlib 3.4 and will be removed two minor releases later. Use mathtext.math_to_image instead.\n",
      "  mt.to_png(f, s, fontsize=12, dpi=dpi, color=color)\n",
      "/home/vincent/miniconda3/lib/python3.9/site-packages/IPython/lib/latextools.py:126: MatplotlibDeprecationWarning: \n",
      "The to_rgba function was deprecated in Matplotlib 3.4 and will be removed two minor releases later. Use mathtext.math_to_image instead.\n",
      "  mt.to_png(f, s, fontsize=12, dpi=dpi, color=color)\n",
      "/home/vincent/miniconda3/lib/python3.9/site-packages/IPython/lib/latextools.py:126: MatplotlibDeprecationWarning: \n",
      "The to_mask function was deprecated in Matplotlib 3.4 and will be removed two minor releases later. Use mathtext.math_to_image instead.\n",
      "  mt.to_png(f, s, fontsize=12, dpi=dpi, color=color)\n",
      "/home/vincent/miniconda3/lib/python3.9/site-packages/IPython/lib/latextools.py:126: MatplotlibDeprecationWarning: \n",
      "The MathtextBackendBitmap class was deprecated in Matplotlib 3.4 and will be removed two minor releases later. Use mathtext.math_to_image instead.\n",
      "  mt.to_png(f, s, fontsize=12, dpi=dpi, color=color)\n"
     ]
    },
    {
     "data": {
      "image/png": "[encoded data removed]",
      "text/latex": [
       "$\\displaystyle a$"
      ],
      "text/plain": [
       "a"
      ]
     },
     "execution_count": 5,
     "metadata": {},
     "output_type": "execute_result"
    }
   ],
   "source": [
    "a"
   ]
  },
  {
   "cell_type": "code",
   "execution_count": 7,
   "id": "b0fe2cfe-aa87-4ce0-983c-8910c2b40207",
   "metadata": {},
   "outputs": [],
   "source": [
    "# pour ignorer les warnings venant de IPython\n",
    "import warnings\n",
    "warnings.filterwarnings(\"ignore\", module=\"IPython\")"
   ]
  },
  {
   "cell_type": "code",
   "execution_count": 8,
   "id": "5891b1d3-f990-49ea-9c4e-ace2f5851c13",
   "metadata": {},
   "outputs": [],
   "source": [
    "b = sp.Symbol(\"b\", real=True, positive=True)"
   ]
  },
  {
   "cell_type": "code",
   "execution_count": 9,
   "id": "1bf57436-b378-4c90-b49c-7e4ddbd3a915",
   "metadata": {},
   "outputs": [
    {
     "data": {
      "image/png": "[encoded data removed]",
      "text/latex": [
       "$\\displaystyle b$"
      ],
      "text/plain": [
       "b"
      ]
     },
     "execution_count": 9,
     "metadata": {},
     "output_type": "execute_result"
    }
   ],
   "source": [
    "b"
   ]
  },
  {
   "cell_type": "code",
   "execution_count": 29,
   "id": "5ba4e2e5-e93a-4fc6-ac5f-0f7c06a8a1b9",
   "metadata": {},
   "outputs": [
    {
     "data": {
      "text/plain": [
       "{'real': True,\n",
       " 'extended_real': True,\n",
       " 'commutative': True,\n",
       " 'imaginary': False,\n",
       " 'complex': True,\n",
       " 'hermitian': True,\n",
       " 'finite': True,\n",
       " 'infinite': False,\n",
       " 'positive': True,\n",
       " 'extended_negative': False,\n",
       " 'extended_nonpositive': False,\n",
       " 'negative': False,\n",
       " 'zero': False,\n",
       " 'nonzero': True,\n",
       " 'extended_nonzero': True,\n",
       " 'extended_positive': True,\n",
       " 'extended_nonnegative': True,\n",
       " 'nonpositive': False,\n",
       " 'nonnegative': True}"
      ]
     },
     "execution_count": 29,
     "metadata": {},
     "output_type": "execute_result"
    }
   ],
   "source": [
    "# pour voir l'ensemble des hypothèses\n",
    "b.assumptions0"
   ]
  },
  {
   "cell_type": "code",
   "execution_count": 11,
   "id": "b956b8c8-c01e-4230-bf6a-37128f8abbc3",
   "metadata": {},
   "outputs": [
    {
     "data": {
      "text/plain": [
       "\"Symbol('b', real=True, positive=True)\""
      ]
     },
     "execution_count": 11,
     "metadata": {},
     "output_type": "execute_result"
    }
   ],
   "source": [
    "# pour remplacer repr afin de débogguer les objets sympy\n",
    "sp.srepr(b)"
   ]
  },
  {
   "cell_type": "code",
   "execution_count": 12,
   "id": "f5ae137e-4faa-472e-9485-3bef01a2dd94",
   "metadata": {},
   "outputs": [
    {
     "data": {
      "image/png": "[encoded data removed]",
      "text/latex": [
       "$\\displaystyle d$"
      ],
      "text/plain": [
       "d"
      ]
     },
     "execution_count": 12,
     "metadata": {},
     "output_type": "execute_result"
    }
   ],
   "source": [
    "d = sp.Symbol(\"d\", real=True)\n",
    "d"
   ]
  },
  {
   "cell_type": "code",
   "execution_count": 25,
   "id": "61693244-60dd-49b5-bdb8-5e2e597a6dd0",
   "metadata": {},
   "outputs": [
    {
     "data": {
      "image/png": "[encoded data removed]",
      "text/latex": [
       "$\\displaystyle q_{0}$"
      ],
      "text/plain": [
       "q₀"
      ]
     },
     "metadata": {},
     "output_type": "display_data"
    },
    {
     "data": {
      "image/png": "[encoded data removed]",
      "text/latex": [
       "$\\displaystyle q_{1}$"
      ],
      "text/plain": [
       "q₁"
      ]
     },
     "metadata": {},
     "output_type": "display_data"
    },
    {
     "data": {
      "image/png": "[encoded data removed]",
      "text/latex": [
       "$\\displaystyle q_{2}$"
      ],
      "text/plain": [
       "q₂"
      ]
     },
     "metadata": {},
     "output_type": "display_data"
    }
   ],
   "source": [
    "q0, q1, q2 = sp.symbols(\"q_0 q_1 q_2\", real=True, nonnegative=True)\n",
    "display(q0, q1, q2)"
   ]
  },
  {
   "cell_type": "code",
   "execution_count": 27,
   "id": "1cf1bfb0-e82e-4099-82cb-fbd894002a22",
   "metadata": {},
   "outputs": [
    {
     "data": {
      "image/png": "[encoded data removed]",
      "text/latex": [
       "$\\displaystyle a q_{1} + a q_{2} - \\frac{b q_{1}^{2}}{2} - \\frac{b q_{2}^{2}}{2} - d q_{1} q_{2} + q_{0}$"
      ],
      "text/plain": [
       "                  2       2               \n",
       "              b⋅q₁    b⋅q₂                \n",
       "a⋅q₁ + a⋅q₂ - ───── - ───── - d⋅q₁⋅q₂ + q₀\n",
       "                2       2                 "
      ]
     },
     "execution_count": 27,
     "metadata": {},
     "output_type": "execute_result"
    }
   ],
   "source": [
    "u = a * q1 + a * q2 - (b * q1 ** 2 + 2 * d* q1 * q2 + b * q2 ** 2) / 2 + q0\n",
    "u"
   ]
  },
  {
   "cell_type": "code",
   "execution_count": 16,
   "id": "a422b744-0477-4928-845c-30d813658c83",
   "metadata": {},
   "outputs": [
    {
     "data": {
      "text/plain": [
       "sympy.core.add.Add"
      ]
     },
     "execution_count": 16,
     "metadata": {},
     "output_type": "execute_result"
    }
   ],
   "source": [
    "type(u)"
   ]
  },
  {
   "cell_type": "code",
   "execution_count": 17,
   "id": "fa0c7b34-dc45-48a9-945f-a37444e6c8d9",
   "metadata": {},
   "outputs": [
    {
     "data": {
      "text/plain": [
       "\"Add(Mul(Symbol('a', real=True, positive=True), Symbol('q_1', real=True, positive=True)), Mul(Symbol('a', real=True, positive=True), Symbol('q_2', real=True, positive=True)), Mul(Integer(-1), Rational(1, 2), Symbol('b', real=True, positive=True), Pow(Symbol('q_1', real=True, positive=True), Integer(2))), Mul(Integer(-1), Rational(1, 2), Symbol('b', real=True, positive=True), Pow(Symbol('q_2', real=True, positive=True), Integer(2))), Mul(Integer(-1), Symbol('d', real=True), Symbol('q_1', real=True, positive=True), Symbol('q_2', real=True, positive=True)), Symbol('q_0', real=True, positive=True))\""
      ]
     },
     "execution_count": 17,
     "metadata": {},
     "output_type": "execute_result"
    }
   ],
   "source": [
    "sp.srepr(u)"
   ]
  },
  {
   "cell_type": "code",
   "execution_count": 19,
   "id": "46020bd4-d535-457c-8406-2181275da273",
   "metadata": {},
   "outputs": [],
   "source": [
    "with open(\"graphe_utilite.dot\", \"w\") as fichier:\n",
    "    fichier.write(sp.printing.dotprint(u))"
   ]
  },
  {
   "cell_type": "code",
   "execution_count": 20,
   "id": "d9d9270a-b847-4069-9a82-5c8825d67537",
   "metadata": {},
   "outputs": [],
   "source": [
    "%%sh\n",
    "dot -Tsvg \"graphe_utilite.dot\" > utilite.svg"
   ]
  },
  {
   "cell_type": "markdown",
   "id": "03580248-1fb7-41c7-be83-d24d36c58768",
   "metadata": {},
   "source": [
    "<img src=\"./utilite.svg\"/>"
   ]
  },
  {
   "cell_type": "code",
   "execution_count": 26,
   "id": "82f6e2c2-0a05-422d-8a77-8e701fd11ca8",
   "metadata": {},
   "outputs": [
    {
     "data": {
      "image/png": "[encoded data removed]",
      "text/latex": [
       "$\\displaystyle R$"
      ],
      "text/plain": [
       "R"
      ]
     },
     "metadata": {},
     "output_type": "display_data"
    },
    {
     "data": {
      "image/png": "[encoded data removed]",
      "text/latex": [
       "$\\displaystyle p_{1}$"
      ],
      "text/plain": [
       "p₁"
      ]
     },
     "metadata": {},
     "output_type": "display_data"
    },
    {
     "data": {
      "image/png": "[encoded data removed]",
      "text/latex": [
       "$\\displaystyle p_{2}$"
      ],
      "text/plain": [
       "p₂"
      ]
     },
     "metadata": {},
     "output_type": "display_data"
    }
   ],
   "source": [
    "R, p1, p2 = sp.symbols(\"R p_1 p_2\", real=True, nonnegative=True)\n",
    "display(R, p1, p2)"
   ]
  },
  {
   "cell_type": "code",
   "execution_count": 28,
   "id": "ba2922af-55e9-4f12-bc8a-f3cb4b54e14d",
   "metadata": {},
   "outputs": [
    {
     "data": {
      "image/png": "[encoded data removed]",
      "text/latex": [
       "$\\displaystyle R - p_{1} q_{1} - p_{2} q_{2} - q_{0}$"
      ],
      "text/plain": [
       "R - p₁⋅q₁ - p₂⋅q₂ - q₀"
      ]
     },
     "execution_count": 28,
     "metadata": {},
     "output_type": "execute_result"
    }
   ],
   "source": [
    "# contrainte\n",
    "c = R - q0 - p1 * q1 - p2 * q2\n",
    "c"
   ]
  },
  {
   "cell_type": "code",
   "execution_count": 24,
   "id": "5b0e5a54-af84-4d5a-8740-0e24bcb534fd",
   "metadata": {},
   "outputs": [
    {
     "name": "stdout",
     "output_type": "stream",
     "text": [
      "a q_{1} + a q_{2} - \\frac{b q_{1}^{2}}{2} - \\frac{b q_{2}^{2}}{2} - d q_{1} q_{2} + q_{0}\n"
     ]
    }
   ],
   "source": [
    "# pour obtenir le latex correspondant à une expression\n",
    "print(sp.latex(u))"
   ]
  },
  {
   "cell_type": "markdown",
   "id": "649e3520-feec-4637-a7b1-21c4081984bb",
   "metadata": {},
   "source": [
    "Pour prouver que le problème a un sens on peut procéder de deux façons:\n",
    "1. on maximise une fonction continu sur un compact!\n",
    "2. on trouve un point critique et la fonction est concave!\n",
    "\n",
    "On va ici utiliser la deuxième méthode."
   ]
  },
  {
   "cell_type": "code",
   "execution_count": 31,
   "id": "543c9625-c381-4856-b956-220bf7e7e81f",
   "metadata": {},
   "outputs": [
    {
     "data": {
      "text/latex": [
       "$\\displaystyle \\left[\\begin{matrix}0 & 0 & 0\\\\0 & - b & - d\\\\0 & - d & - b\\end{matrix}\\right]$"
      ],
      "text/plain": [
       "⎡0  0   0 ⎤\n",
       "⎢         ⎥\n",
       "⎢0  -b  -d⎥\n",
       "⎢         ⎥\n",
       "⎣0  -d  -b⎦"
      ]
     },
     "metadata": {},
     "output_type": "display_data"
    }
   ],
   "source": [
    "hessienne = sp.hessian(u, [q0, q1, q2])\n",
    "display(hessienne)"
   ]
  },
  {
   "cell_type": "code",
   "execution_count": 37,
   "id": "67deaf72-6173-4049-b480-e13cba7a0ca8",
   "metadata": {},
   "outputs": [
    {
     "data": {
      "text/plain": [
       "False"
      ]
     },
     "execution_count": 37,
     "metadata": {},
     "output_type": "execute_result"
    }
   ],
   "source": [
    "# définie négative?\n",
    "hessienne.is_negative_definite"
   ]
  },
  {
   "cell_type": "code",
   "execution_count": 38,
   "id": "b732156f-5428-45f1-a48f-7048ab8fa57b",
   "metadata": {},
   "outputs": [],
   "source": [
    "# juste négative?\n",
    "hessienne.is_negative_semidefinite"
   ]
  },
  {
   "cell_type": "markdown",
   "id": "4f98c945-e7fb-44ab-bfcf-13076ea91255",
   "metadata": {},
   "source": [
    "L'absence de réponse dans le deuxième cas vient de ce que l'on a pas injecté l'hypothèse $b>|d|>0$ dans le problème jusqu'à présent.\n",
    "On peut \n",
    "1. Reprendre la forme du problème pour injecter cette connaissance.\n",
    "2. Faire la réduction de Gauss de la forme quadratique associée à la hessienne.\n",
    "\n",
    "On va utiliser la deuxième méthode ici."
   ]
  },
  {
   "cell_type": "code",
   "execution_count": 53,
   "id": "3602efc1-8d28-4cd3-8489-6e06b22d55eb",
   "metadata": {},
   "outputs": [],
   "source": [
    "Q, R = hessienne.QRdecomposition()"
   ]
  },
  {
   "cell_type": "code",
   "execution_count": 54,
   "id": "429f04a0-cbfa-4ac6-92df-98e0c7200f6b",
   "metadata": {},
   "outputs": [
    {
     "data": {
      "text/latex": [
       "$\\displaystyle \\left[\\begin{matrix}0\\\\- \\frac{b}{\\sqrt{b^{2} + d^{2}}}\\\\- \\frac{d}{\\sqrt{b^{2} + d^{2}}}\\end{matrix}\\right]$"
      ],
      "text/plain": [
       "⎡     0      ⎤\n",
       "⎢            ⎥\n",
       "⎢    -b      ⎥\n",
       "⎢────────────⎥\n",
       "⎢   _________⎥\n",
       "⎢  ╱  2    2 ⎥\n",
       "⎢╲╱  b  + d  ⎥\n",
       "⎢            ⎥\n",
       "⎢    -d      ⎥\n",
       "⎢────────────⎥\n",
       "⎢   _________⎥\n",
       "⎢  ╱  2    2 ⎥\n",
       "⎣╲╱  b  + d  ⎦"
      ]
     },
     "execution_count": 54,
     "metadata": {},
     "output_type": "execute_result"
    }
   ],
   "source": [
    "Q"
   ]
  },
  {
   "cell_type": "code",
   "execution_count": 55,
   "id": "e103826c-6dac-4f55-8dc0-37b79350d49a",
   "metadata": {},
   "outputs": [
    {
     "data": {
      "text/latex": [
       "$\\displaystyle \\left[\\begin{matrix}0 & \\sqrt{b^{2} + d^{2}} & \\frac{2 b d}{\\sqrt{b^{2} + d^{2}}}\\end{matrix}\\right]$"
      ],
      "text/plain": [
       "⎡      _________              ⎤\n",
       "⎢     ╱  2    2      2⋅b⋅d    ⎥\n",
       "⎢0  ╲╱  b  + d    ────────────⎥\n",
       "⎢                    _________⎥\n",
       "⎢                   ╱  2    2 ⎥\n",
       "⎣                 ╲╱  b  + d  ⎦"
      ]
     },
     "execution_count": 55,
     "metadata": {},
     "output_type": "execute_result"
    }
   ],
   "source": [
    "R"
   ]
  },
  {
   "cell_type": "code",
   "execution_count": 56,
   "id": "f1dab565-3bce-4428-8496-1cb232ffccb2",
   "metadata": {},
   "outputs": [
    {
     "data": {
      "text/latex": [
       "$\\displaystyle \\left[\\begin{matrix}0 & 0 & 0\\\\0 & - b & - \\frac{2 b^{2} d}{b^{2} + d^{2}}\\\\0 & - d & - \\frac{2 b d^{2}}{b^{2} + d^{2}}\\end{matrix}\\right]$"
      ],
      "text/plain": [
       "⎡0  0      0    ⎤\n",
       "⎢               ⎥\n",
       "⎢           2   ⎥\n",
       "⎢       -2⋅b ⋅d ⎥\n",
       "⎢0  -b  ────────⎥\n",
       "⎢        2    2 ⎥\n",
       "⎢       b  + d  ⎥\n",
       "⎢               ⎥\n",
       "⎢             2 ⎥\n",
       "⎢       -2⋅b⋅d  ⎥\n",
       "⎢0  -d  ────────⎥\n",
       "⎢        2    2 ⎥\n",
       "⎣       b  + d  ⎦"
      ]
     },
     "execution_count": 56,
     "metadata": {},
     "output_type": "execute_result"
    }
   ],
   "source": [
    "Q * R "
   ]
  },
  {
   "cell_type": "code",
   "execution_count": 63,
   "id": "30742be1-6ad5-4858-bbfc-fe28b61c1395",
   "metadata": {},
   "outputs": [
    {
     "data": {
      "text/latex": [
       "$\\displaystyle \\left[\\begin{matrix}0 & \\sqrt{b^{2} + d^{2}} & \\frac{2 b d}{\\sqrt{b^{2} + d^{2}}}\\\\0 & 0 & 0\\\\0 & 0 & 0\\end{matrix}\\right]$"
      ],
      "text/plain": [
       "⎡      _________              ⎤\n",
       "⎢     ╱  2    2      2⋅b⋅d    ⎥\n",
       "⎢0  ╲╱  b  + d    ────────────⎥\n",
       "⎢                    _________⎥\n",
       "⎢                   ╱  2    2 ⎥\n",
       "⎢                 ╲╱  b  + d  ⎥\n",
       "⎢                             ⎥\n",
       "⎢0       0             0      ⎥\n",
       "⎢                             ⎥\n",
       "⎣0       0             0      ⎦"
      ]
     },
     "execution_count": 63,
     "metadata": {},
     "output_type": "execute_result"
    }
   ],
   "source": [
    "R_aug = R.col_join(sp.zeros(2, 3))\n",
    "R_aug"
   ]
  },
  {
   "cell_type": "markdown",
   "id": "acb3cf0c-0dc4-433e-afa3-7e205789db52",
   "metadata": {},
   "source": [
    "**A Reprendre**\n",
    "\n",
    "La fonction $u$ est bien concave."
   ]
  },
  {
   "cell_type": "code",
   "execution_count": 67,
   "id": "f2adc89a-8ad9-459c-9175-003f50a40d2f",
   "metadata": {},
   "outputs": [
    {
     "data": {
      "image/png": "[encoded data removed]",
      "text/latex": [
       "$\\displaystyle \\lambda_{0}$"
      ],
      "text/plain": [
       "\\lambda₀"
      ]
     },
     "metadata": {},
     "output_type": "display_data"
    },
    {
     "data": {
      "image/png": "[encoded data removed]",
      "text/latex": [
       "$\\displaystyle \\lambda_{1}$"
      ],
      "text/plain": [
       "\\lambda₁"
      ]
     },
     "metadata": {},
     "output_type": "display_data"
    },
    {
     "data": {
      "image/png": "[encoded data removed]",
      "text/latex": [
       "$\\displaystyle \\lambda_{2}$"
      ],
      "text/plain": [
       "\\lambda₂"
      ]
     },
     "metadata": {},
     "output_type": "display_data"
    },
    {
     "data": {
      "image/png": "[encoded data removed]",
      "text/latex": [
       "$\\displaystyle \\lambda_{3}$"
      ],
      "text/plain": [
       "\\lambda₃"
      ]
     },
     "metadata": {},
     "output_type": "display_data"
    }
   ],
   "source": [
    "l0, l1, l2, l3 = sp.symbols(\n",
    "    \"\\lambda_0 \\lambda_1 \\lambda_2 \\lambda_3\",\n",
    "    real=True,\n",
    "    nonnegative=True,\n",
    ")\n",
    "display(l0, l1, l2, l3)"
   ]
  },
  {
   "cell_type": "code",
   "execution_count": 68,
   "id": "ad0b35e9-6e84-4c4a-9195-218e0b99600e",
   "metadata": {},
   "outputs": [
    {
     "data": {
      "image/png": "[encoded data removed]",
      "text/latex": [
       "$\\displaystyle \\lambda_{0} q_{0} + \\lambda_{1} q_{1} + \\lambda_{2} q_{2} + \\lambda_{3} \\left(R - p_{1} q_{1} - p_{2} q_{2} - q_{0}\\right) + a q_{1} + a q_{2} - \\frac{b q_{1}^{2}}{2} - \\frac{b q_{2}^{2}}{2} - d q_{1} q_{2} + q_{0}$"
      ],
      "text/plain": [
       "                                                                                              \n",
       "                                                                                            b⋅\n",
       "\\lambda₀⋅q₀ + \\lambda₁⋅q₁ + \\lambda₂⋅q₂ + \\lambda₃⋅(R - p₁⋅q₁ - p₂⋅q₂ - q₀) + a⋅q₁ + a⋅q₂ - ──\n",
       "                                                                                              \n",
       "\n",
       "  2       2               \n",
       "q₁    b⋅q₂                \n",
       "─── - ───── - d⋅q₁⋅q₂ + q₀\n",
       "2       2                 "
      ]
     },
     "metadata": {},
     "output_type": "display_data"
    }
   ],
   "source": [
    "L = u + l0 * q0 + l1 * q1 + l2 * q2 + l3 * c\n",
    "display(L)"
   ]
  },
  {
   "cell_type": "code",
   "execution_count": 69,
   "id": "4092ba1d-f940-4f51-8c1e-7ae02d4a275f",
   "metadata": {},
   "outputs": [
    {
     "data": {
      "image/png": "[encoded data removed]",
      "text/latex": [
       "$\\displaystyle \\left[ q_{0}, \\  q_{1}, \\  q_{2}, \\  R - p_{1} q_{1} - p_{2} q_{2} - q_{0}, \\  \\lambda_{0} - \\lambda_{3} + 1, \\  \\lambda_{1} - \\lambda_{3} p_{1} + a - b q_{1} - d q_{2}, \\  \\lambda_{2} - \\lambda_{3} p_{2} + a - b q_{2} - d q_{1}\\right]$"
      ],
      "text/plain": [
       "[q₀, q₁, q₂, R - p₁⋅q₁ - p₂⋅q₂ - q₀, \\lambda₀ - \\lambda₃ + 1, \\lambda₁ - \\lambda₃⋅p₁ + a - b⋅q\n",
       "₁ - d⋅q₂, \\lambda₂ - \\lambda₃⋅p₂ + a - b⋅q₂ - d⋅q₁]"
      ]
     },
     "metadata": {},
     "output_type": "display_data"
    }
   ],
   "source": [
    "gradient = [sp.diff(L, v) for v in (l0, l1, l2, l3, q0, q1, q2)]\n",
    "display(gradient)"
   ]
  },
  {
   "cell_type": "code",
   "execution_count": 70,
   "id": "ed2d5e62-5a11-4551-b1b8-7549b25f839f",
   "metadata": {},
   "outputs": [
    {
     "data": {
      "image/png": "[encoded data removed]",
      "text/latex": [
       "$\\displaystyle \\left[ \\right]$"
      ],
      "text/plain": [
       "[]"
      ]
     },
     "execution_count": 70,
     "metadata": {},
     "output_type": "execute_result"
    }
   ],
   "source": [
    "sp.solve(gradient, l0, l1, l2, l3, q0, q1, q2)"
   ]
  },
  {
   "cell_type": "code",
   "execution_count": 71,
   "id": "9acfe064-3b07-485a-851a-3a26eb62e406",
   "metadata": {},
   "outputs": [
    {
     "data": {
      "image/png": "[encoded data removed]",
      "text/latex": [
       "$\\displaystyle \\lambda_{3} \\left(R - p_{1} q_{1} - p_{2} q_{2} - q_{0}\\right) + a q_{1} + a q_{2} - \\frac{b q_{1}^{2}}{2} - \\frac{b q_{2}^{2}}{2} - d q_{1} q_{2} + q_{0}$"
      ],
      "text/plain": [
       "                                                      2       2               \n",
       "                                                  b⋅q₁    b⋅q₂                \n",
       "\\lambda₃⋅(R - p₁⋅q₁ - p₂⋅q₂ - q₀) + a⋅q₁ + a⋅q₂ - ───── - ───── - d⋅q₁⋅q₂ + q₀\n",
       "                                                    2       2                 "
      ]
     },
     "execution_count": 71,
     "metadata": {},
     "output_type": "execute_result"
    }
   ],
   "source": [
    "L3 = L.subs({l0: 0, l1: 0, l2: 0})\n",
    "L3"
   ]
  },
  {
   "cell_type": "code",
   "execution_count": 72,
   "id": "b8d2c6df-425e-486b-82a9-7570746747d0",
   "metadata": {},
   "outputs": [
    {
     "data": {
      "image/png": "[encoded data removed]",
      "text/latex": [
       "$\\displaystyle \\left\\{ \\lambda_{3} : 1, \\  q_{0} : \\frac{R b^{2} - R d^{2} - a b p_{1} - a b p_{2} + a d p_{1} + a d p_{2} + b p_{1}^{2} + b p_{2}^{2} - 2 d p_{1} p_{2}}{b^{2} - d^{2}}, \\  q_{1} : \\frac{a b - a d - b p_{1} + d p_{2}}{b^{2} - d^{2}}, \\  q_{2} : \\frac{a b - a d - b p_{2} + d p_{1}}{b^{2} - d^{2}}\\right\\}$"
      ],
      "text/plain": [
       "⎧                    2      2                                           2       2             \n",
       "⎪                 R⋅b  - R⋅d  - a⋅b⋅p₁ - a⋅b⋅p₂ + a⋅d⋅p₁ + a⋅d⋅p₂ + b⋅p₁  + b⋅p₂  - 2⋅d⋅p₁⋅p₂ \n",
       "⎨\\lambda₃: 1, q₀: ───────────────────────────────────────────────────────────────────────────,\n",
       "⎪                                                    2    2                                   \n",
       "⎩                                                   b  - d                                    \n",
       "\n",
       "                                                         ⎫\n",
       "     a⋅b - a⋅d - b⋅p₁ + d⋅p₂      a⋅b - a⋅d - b⋅p₂ + d⋅p₁⎪\n",
       " q₁: ───────────────────────, q₂: ───────────────────────⎬\n",
       "              2    2                       2    2        ⎪\n",
       "             b  - d                       b  - d         ⎭"
      ]
     },
     "execution_count": 72,
     "metadata": {},
     "output_type": "execute_result"
    }
   ],
   "source": [
    "sp.solve([L3.diff(v) for v in (q0, q1, q2, l3)], q0, q1, q2, l3)"
   ]
  },
  {
   "cell_type": "markdown",
   "id": "8b374d05-32c9-450e-af5d-7ee27c5f841d",
   "metadata": {},
   "source": [
    "**Exercice**\n",
    "\n",
    "Il va falloir faire toutes les combinaisons possibles de saturations de contraintes, résoudre pour chaque combinaison le système de point critique du lagrangien puis faire la réunion des solution."
   ]
  },
  {
   "cell_type": "code",
   "execution_count": 73,
   "id": "294479a1-be6a-4ddd-805d-8d4259bdcb4f",
   "metadata": {},
   "outputs": [],
   "source": [
    "import itertools as it"
   ]
  },
  {
   "cell_type": "code",
   "execution_count": 78,
   "id": "04bdb2ca-1d11-46d7-9f1a-0bb97a0b7d56",
   "metadata": {},
   "outputs": [
    {
     "name": "stdout",
     "output_type": "stream",
     "text": [
      "(True, True, True, True)\n",
      "(True, True, True, False)\n",
      "(True, True, False, True)\n",
      "(True, True, False, False)\n",
      "(True, False, True, True)\n",
      "(True, False, True, False)\n",
      "(True, False, False, True)\n",
      "(True, False, False, False)\n",
      "(False, True, True, True)\n",
      "(False, True, True, False)\n",
      "(False, True, False, True)\n",
      "(False, True, False, False)\n",
      "(False, False, True, True)\n",
      "(False, False, True, False)\n",
      "(False, False, False, True)\n",
      "(False, False, False, False)\n"
     ]
    }
   ],
   "source": [
    "for combi in it.product(*[(True, False) for _ in range(4)]):\n",
    "    print(combi)"
   ]
  },
  {
   "cell_type": "code",
   "execution_count": 79,
   "id": "ca8279ed-c18b-4a51-8ee1-dac19404c30e",
   "metadata": {},
   "outputs": [],
   "source": [
    "from copy import deepcopy"
   ]
  },
  {
   "cell_type": "code",
   "execution_count": 84,
   "id": "e33c806d-7bfd-4ced-b524-2985f5a4cbaa",
   "metadata": {},
   "outputs": [],
   "source": [
    "solutions = list()\n",
    "for combi in it.product(*[(True, False) for _ in range(4)]):\n",
    "    Lc = deepcopy(L)\n",
    "    variables = [q0, q1, q2]\n",
    "    for choix, la in zip(combi, (l0, l1, l2, l3)):\n",
    "        if not choix:\n",
    "            Lc = Lc.subs(la, 0)\n",
    "        else:\n",
    "            variables.append(la)\n",
    "    #display(Lc)\n",
    "    #display(variables)\n",
    "    solutions.append(sp.solve([Lc.diff(var) for var in variables], *variables))\n",
    "    "
   ]
  },
  {
   "cell_type": "code",
   "execution_count": 86,
   "id": "d9e2f59d-5435-4a67-8075-ca30b801d8f0",
   "metadata": {},
   "outputs": [
    {
     "data": {
      "image/png": "[encoded data removed]",
      "text/latex": [
       "$\\displaystyle \\left[ \\right]$"
      ],
      "text/plain": [
       "[]"
      ]
     },
     "metadata": {},
     "output_type": "display_data"
    },
    {
     "data": {
      "image/png": "[encoded data removed]",
      "text/latex": [
       "$\\displaystyle \\left[ \\right]$"
      ],
      "text/plain": [
       "[]"
      ]
     },
     "metadata": {},
     "output_type": "display_data"
    },
    {
     "data": {
      "image/png": "[encoded data removed]",
      "text/latex": [
       "$\\displaystyle \\left\\{ \\lambda_{0} : \\frac{- R b + a p_{2} - p_{2}^{2}}{p_{2}^{2}}, \\  \\lambda_{1} : \\frac{- R b p_{1} + R d p_{2} + a p_{1} p_{2} - a p_{2}^{2}}{p_{2}^{2}}, \\  \\lambda_{3} : \\frac{- R b + a p_{2}}{p_{2}^{2}}, \\  q_{0} : 0, \\  q_{1} : 0, \\  q_{2} : \\frac{R}{p_{2}}\\right\\}$"
      ],
      "text/plain": [
       "⎧                          2                                             2                    \n",
       "⎪          -R⋅b + a⋅p₂ - p₂             -R⋅b⋅p₁ + R⋅d⋅p₂ + a⋅p₁⋅p₂ - a⋅p₂             -R⋅b + a\n",
       "⎨\\lambda₀: ─────────────────, \\lambda₁: ──────────────────────────────────, \\lambda₃: ────────\n",
       "⎪                   2                                    2                                  2 \n",
       "⎩                 p₂                                   p₂                                 p₂  \n",
       "\n",
       "                         ⎫\n",
       "⋅p₂                    R ⎪\n",
       "───, q₀: 0, q₁: 0, q₂: ──⎬\n",
       "                       p₂⎪\n",
       "                         ⎭"
      ]
     },
     "metadata": {},
     "output_type": "display_data"
    },
    {
     "data": {
      "image/png": "[encoded data removed]",
      "text/latex": [
       "$\\displaystyle \\left[ \\right]$"
      ],
      "text/plain": [
       "[]"
      ]
     },
     "metadata": {},
     "output_type": "display_data"
    },
    {
     "data": {
      "image/png": "[encoded data removed]",
      "text/latex": [
       "$\\displaystyle \\left\\{ \\lambda_{0} : \\frac{- R b + a p_{1} - p_{1}^{2}}{p_{1}^{2}}, \\  \\lambda_{2} : \\frac{- R b p_{2} + R d p_{1} - a p_{1}^{2} + a p_{1} p_{2}}{p_{1}^{2}}, \\  \\lambda_{3} : \\frac{- R b + a p_{1}}{p_{1}^{2}}, \\  q_{0} : 0, \\  q_{1} : \\frac{R}{p_{1}}, \\  q_{2} : 0\\right\\}$"
      ],
      "text/plain": [
       "⎧                          2                                   2                              \n",
       "⎪          -R⋅b + a⋅p₁ - p₁             -R⋅b⋅p₂ + R⋅d⋅p₁ - a⋅p₁  + a⋅p₁⋅p₂            -R⋅b + a\n",
       "⎨\\lambda₀: ─────────────────, \\lambda₂: ──────────────────────────────────, \\lambda₃: ────────\n",
       "⎪                   2                                    2                                  2 \n",
       "⎩                 p₁                                   p₁                                 p₁  \n",
       "\n",
       "                         ⎫\n",
       "⋅p₁             R        ⎪\n",
       "───, q₀: 0, q₁: ──, q₂: 0⎬\n",
       "                p₁       ⎪\n",
       "                         ⎭"
      ]
     },
     "metadata": {},
     "output_type": "display_data"
    },
    {
     "data": {
      "image/png": "[encoded data removed]",
      "text/latex": [
       "$\\displaystyle \\left[ \\right]$"
      ],
      "text/plain": [
       "[]"
      ]
     },
     "metadata": {},
     "output_type": "display_data"
    },
    {
     "data": {
      "image/png": "[encoded data removed]",
      "text/latex": [
       "$\\displaystyle \\left\\{ \\lambda_{0} : \\frac{- R b^{2} + R d^{2} + a b p_{1} + a b p_{2} - a d p_{1} - a d p_{2} - b p_{1}^{2} - b p_{2}^{2} + 2 d p_{1} p_{2}}{b p_{1}^{2} + b p_{2}^{2} - 2 d p_{1} p_{2}}, \\  \\lambda_{3} : \\frac{- R b^{2} + R d^{2} + a b p_{1} + a b p_{2} - a d p_{1} - a d p_{2}}{b p_{1}^{2} + b p_{2}^{2} - 2 d p_{1} p_{2}}, \\  q_{0} : 0, \\  q_{1} : \\frac{R b p_{1} - R d p_{2} - a p_{1} p_{2} + a p_{2}^{2}}{b p_{1}^{2} + b p_{2}^{2} - 2 d p_{1} p_{2}}, \\  q_{2} : \\frac{R b p_{2} - R d p_{1} + a p_{1}^{2} - a p_{1} p_{2}}{b p_{1}^{2} + b p_{2}^{2} - 2 d p_{1} p_{2}}\\right\\}$"
      ],
      "text/plain": [
       "⎧               2      2                                           2       2                  \n",
       "⎪          - R⋅b  + R⋅d  + a⋅b⋅p₁ + a⋅b⋅p₂ - a⋅d⋅p₁ - a⋅d⋅p₂ - b⋅p₁  - b⋅p₂  + 2⋅d⋅p₁⋅p₂      \n",
       "⎨\\lambda₀: ─────────────────────────────────────────────────────────────────────────────, \\lam\n",
       "⎪                                        2       2                                            \n",
       "⎩                                    b⋅p₁  + b⋅p₂  - 2⋅d⋅p₁⋅p₂                                \n",
       "\n",
       "           2      2                                                                           \n",
       "      - R⋅b  + R⋅d  + a⋅b⋅p₁ + a⋅b⋅p₂ - a⋅d⋅p₁ - a⋅d⋅p₂             R⋅b⋅p₁ - R⋅d⋅p₂ - a⋅p₁⋅p₂ \n",
       "bda₃: ─────────────────────────────────────────────────, q₀: 0, q₁: ──────────────────────────\n",
       "                      2       2                                             2       2         \n",
       "                  b⋅p₁  + b⋅p₂  - 2⋅d⋅p₁⋅p₂                             b⋅p₁  + b⋅p₂  - 2⋅d⋅p₁\n",
       "\n",
       "      2                            2          ⎫\n",
       "+ a⋅p₂       R⋅b⋅p₂ - R⋅d⋅p₁ + a⋅p₁  - a⋅p₁⋅p₂⎪\n",
       "───────, q₂: ─────────────────────────────────⎬\n",
       "                     2       2                ⎪\n",
       "⋅p₂              b⋅p₁  + b⋅p₂  - 2⋅d⋅p₁⋅p₂    ⎭"
      ]
     },
     "metadata": {},
     "output_type": "display_data"
    },
    {
     "data": {
      "image/png": "[encoded data removed]",
      "text/latex": [
       "$\\displaystyle \\left[ \\right]$"
      ],
      "text/plain": [
       "[]"
      ]
     },
     "metadata": {},
     "output_type": "display_data"
    },
    {
     "data": {
      "image/png": "[encoded data removed]",
      "text/latex": [
       "$\\displaystyle \\left\\{ \\lambda_{1} : - a + p_{1}, \\  \\lambda_{2} : - a + p_{2}, \\  \\lambda_{3} : 1, \\  q_{0} : R, \\  q_{1} : 0, \\  q_{2} : 0\\right\\}$"
      ],
      "text/plain": [
       "{\\lambda₁: -a + p₁, \\lambda₂: -a + p₂, \\lambda₃: 1, q₀: R, q₁: 0, q₂: 0}"
      ]
     },
     "metadata": {},
     "output_type": "display_data"
    },
    {
     "data": {
      "image/png": "[encoded data removed]",
      "text/latex": [
       "$\\displaystyle \\left[ \\right]$"
      ],
      "text/plain": [
       "[]"
      ]
     },
     "metadata": {},
     "output_type": "display_data"
    },
    {
     "data": {
      "image/png": "[encoded data removed]",
      "text/latex": [
       "$\\displaystyle \\left\\{ \\lambda_{1} : \\frac{- a b + a d + b p_{1} - d p_{2}}{b}, \\  \\lambda_{3} : 1, \\  q_{0} : \\frac{R b - a p_{2} + p_{2}^{2}}{b}, \\  q_{1} : 0, \\  q_{2} : \\frac{a - p_{2}}{b}\\right\\}$"
      ],
      "text/plain": [
       "⎧                                                                    2                   ⎫\n",
       "⎪          -a⋅b + a⋅d + b⋅p₁ - d⋅p₂                   R⋅b - a⋅p₂ + p₂              a - p₂⎪\n",
       "⎨\\lambda₁: ────────────────────────, \\lambda₃: 1, q₀: ────────────────, q₁: 0, q₂: ──────⎬\n",
       "⎪                     b                                      b                       b   ⎪\n",
       "⎩                                                                                        ⎭"
      ]
     },
     "metadata": {},
     "output_type": "display_data"
    },
    {
     "data": {
      "image/png": "[encoded data removed]",
      "text/latex": [
       "$\\displaystyle \\left[ \\right]$"
      ],
      "text/plain": [
       "[]"
      ]
     },
     "metadata": {},
     "output_type": "display_data"
    },
    {
     "data": {
      "image/png": "[encoded data removed]",
      "text/latex": [
       "$\\displaystyle \\left\\{ \\lambda_{2} : \\frac{- a b + a d + b p_{2} - d p_{1}}{b}, \\  \\lambda_{3} : 1, \\  q_{0} : \\frac{R b - a p_{1} + p_{1}^{2}}{b}, \\  q_{1} : \\frac{a - p_{1}}{b}, \\  q_{2} : 0\\right\\}$"
      ],
      "text/plain": [
       "⎧                                                                    2                   ⎫\n",
       "⎪          -a⋅b + a⋅d + b⋅p₂ - d⋅p₁                   R⋅b - a⋅p₁ + p₁       a - p₁       ⎪\n",
       "⎨\\lambda₂: ────────────────────────, \\lambda₃: 1, q₀: ────────────────, q₁: ──────, q₂: 0⎬\n",
       "⎪                     b                                      b                b          ⎪\n",
       "⎩                                                                                        ⎭"
      ]
     },
     "metadata": {},
     "output_type": "display_data"
    },
    {
     "data": {
      "image/png": "[encoded data removed]",
      "text/latex": [
       "$\\displaystyle \\left[ \\right]$"
      ],
      "text/plain": [
       "[]"
      ]
     },
     "metadata": {},
     "output_type": "display_data"
    },
    {
     "data": {
      "image/png": "[encoded data removed]",
      "text/latex": [
       "$\\displaystyle \\left\\{ \\lambda_{3} : 1, \\  q_{0} : \\frac{R b^{2} - R d^{2} - a b p_{1} - a b p_{2} + a d p_{1} + a d p_{2} + b p_{1}^{2} + b p_{2}^{2} - 2 d p_{1} p_{2}}{b^{2} - d^{2}}, \\  q_{1} : \\frac{a b - a d - b p_{1} + d p_{2}}{b^{2} - d^{2}}, \\  q_{2} : \\frac{a b - a d - b p_{2} + d p_{1}}{b^{2} - d^{2}}\\right\\}$"
      ],
      "text/plain": [
       "⎧                    2      2                                           2       2             \n",
       "⎪                 R⋅b  - R⋅d  - a⋅b⋅p₁ - a⋅b⋅p₂ + a⋅d⋅p₁ + a⋅d⋅p₂ + b⋅p₁  + b⋅p₂  - 2⋅d⋅p₁⋅p₂ \n",
       "⎨\\lambda₃: 1, q₀: ───────────────────────────────────────────────────────────────────────────,\n",
       "⎪                                                    2    2                                   \n",
       "⎩                                                   b  - d                                    \n",
       "\n",
       "                                                         ⎫\n",
       "     a⋅b - a⋅d - b⋅p₁ + d⋅p₂      a⋅b - a⋅d - b⋅p₂ + d⋅p₁⎪\n",
       " q₁: ───────────────────────, q₂: ───────────────────────⎬\n",
       "              2    2                       2    2        ⎪\n",
       "             b  - d                       b  - d         ⎭"
      ]
     },
     "metadata": {},
     "output_type": "display_data"
    },
    {
     "data": {
      "image/png": "[encoded data removed]",
      "text/latex": [
       "$\\displaystyle \\left[ \\right]$"
      ],
      "text/plain": [
       "[]"
      ]
     },
     "metadata": {},
     "output_type": "display_data"
    }
   ],
   "source": [
    "display(*solutions)"
   ]
  },
  {
   "cell_type": "code",
   "execution_count": 96,
   "id": "02f410d0-1d15-4f52-800b-84cb0bd9d524",
   "metadata": {},
   "outputs": [],
   "source": [
    "uu = sp.Symbol(\"u\", function=True)\n",
    "valeurs = list()\n",
    "for sol in solutions:\n",
    "    if sol:\n",
    "        valeurs.append({\n",
    "            q0: sol[q0], \n",
    "            q1: sol[q1], \n",
    "            q2: sol[q2], \n",
    "            uu: u.subs(sol).simplify()\n",
    "        })\n",
    "        \n"
   ]
  },
  {
   "cell_type": "code",
   "execution_count": 97,
   "id": "8576d8e5-5bd6-43c4-b634-dd94bc98bbe7",
   "metadata": {},
   "outputs": [
    {
     "data": {
      "image/png": "[encoded data removed]",
      "text/latex": [
       "$\\displaystyle \\left\\{ q_{0} : 0, \\  q_{1} : 0, \\  q_{2} : \\frac{R}{p_{2}}, \\  u : \\frac{R \\left(- R b + 2 a p_{2}\\right)}{2 p_{2}^{2}}\\right\\}$"
      ],
      "text/plain": [
       "⎧                  R      R⋅(-R⋅b + 2⋅a⋅p₂)⎫\n",
       "⎪q₀: 0, q₁: 0, q₂: ──, u: ─────────────────⎪\n",
       "⎨                  p₂               2      ⎬\n",
       "⎪                               2⋅p₂       ⎪\n",
       "⎩                                          ⎭"
      ]
     },
     "metadata": {},
     "output_type": "display_data"
    },
    {
     "data": {
      "image/png": "[encoded data removed]",
      "text/latex": [
       "$\\displaystyle \\left\\{ q_{0} : 0, \\  q_{1} : \\frac{R}{p_{1}}, \\  q_{2} : 0, \\  u : \\frac{R \\left(- R b + 2 a p_{1}\\right)}{2 p_{1}^{2}}\\right\\}$"
      ],
      "text/plain": [
       "⎧           R             R⋅(-R⋅b + 2⋅a⋅p₁)⎫\n",
       "⎪q₀: 0, q₁: ──, q₂: 0, u: ─────────────────⎪\n",
       "⎨           p₁                      2      ⎬\n",
       "⎪                               2⋅p₁       ⎪\n",
       "⎩                                          ⎭"
      ]
     },
     "metadata": {},
     "output_type": "display_data"
    },
    {
     "data": {
      "image/png": "[encoded data removed]",
      "text/latex": [
       "$\\displaystyle \\left\\{ q_{0} : 0, \\  q_{1} : \\frac{R b p_{1} - R d p_{2} - a p_{1} p_{2} + a p_{2}^{2}}{b p_{1}^{2} + b p_{2}^{2} - 2 d p_{1} p_{2}}, \\  q_{2} : \\frac{R b p_{2} - R d p_{1} + a p_{1}^{2} - a p_{1} p_{2}}{b p_{1}^{2} + b p_{2}^{2} - 2 d p_{1} p_{2}}, \\  u : \\frac{- \\frac{R^{2} b^{2}}{2} + \\frac{R^{2} d^{2}}{2} + R a b p_{1} + R a b p_{2} - R a d p_{1} - R a d p_{2} + \\frac{a^{2} p_{1}^{2}}{2} - a^{2} p_{1} p_{2} + \\frac{a^{2} p_{2}^{2}}{2}}{b p_{1}^{2} + b p_{2}^{2} - 2 d p_{1} p_{2}}\\right\\}$"
      ],
      "text/plain": [
       "⎧                                                                                           2 \n",
       "⎪                                                                                          R ⋅\n",
       "⎪                                           2                            2               - ───\n",
       "⎨           R⋅b⋅p₁ - R⋅d⋅p₂ - a⋅p₁⋅p₂ + a⋅p₂       R⋅b⋅p₂ - R⋅d⋅p₁ + a⋅p₁  - a⋅p₁⋅p₂         2\n",
       "⎪q₀: 0, q₁: ─────────────────────────────────, q₂: ─────────────────────────────────, u: ─────\n",
       "⎪                   2       2                              2       2                          \n",
       "⎩               b⋅p₁  + b⋅p₂  - 2⋅d⋅p₁⋅p₂              b⋅p₁  + b⋅p₂  - 2⋅d⋅p₁⋅p₂              \n",
       "\n",
       " 2    2  2                                                2   2               2   2⎫\n",
       "b    R ⋅d                                                a ⋅p₁     2         a ⋅p₂ ⎪\n",
       "── + ───── + R⋅a⋅b⋅p₁ + R⋅a⋅b⋅p₂ - R⋅a⋅d⋅p₁ - R⋅a⋅d⋅p₂ + ────── - a ⋅p₁⋅p₂ + ──────⎪\n",
       "       2                                                   2                   2   ⎬\n",
       "───────────────────────────────────────────────────────────────────────────────────⎪\n",
       "                              2       2                                            ⎪\n",
       "                          b⋅p₁  + b⋅p₂  - 2⋅d⋅p₁⋅p₂                                ⎭"
      ]
     },
     "metadata": {},
     "output_type": "display_data"
    },
    {
     "data": {
      "image/png": "[encoded data removed]",
      "text/latex": [
       "$\\displaystyle \\left\\{ q_{0} : R, \\  q_{1} : 0, \\  q_{2} : 0, \\  u : R\\right\\}$"
      ],
      "text/plain": [
       "{q₀: R, q₁: 0, q₂: 0, u: R}"
      ]
     },
     "metadata": {},
     "output_type": "display_data"
    },
    {
     "data": {
      "image/png": "[encoded data removed]",
      "text/latex": [
       "$\\displaystyle \\left\\{ q_{0} : \\frac{R b - a p_{2} + p_{2}^{2}}{b}, \\  q_{1} : 0, \\  q_{2} : \\frac{a - p_{2}}{b}, \\  u : \\frac{R b + \\frac{a^{2}}{2} - a p_{2} + \\frac{p_{2}^{2}}{2}}{b}\\right\\}$"
      ],
      "text/plain": [
       "⎧                                                   2            2⎫\n",
       "⎪                                                  a           p₂ ⎪\n",
       "⎪                   2                        R⋅b + ── - a⋅p₂ + ───⎪\n",
       "⎨    R⋅b - a⋅p₂ + p₂              a - p₂           2            2 ⎬\n",
       "⎪q₀: ────────────────, q₁: 0, q₂: ──────, u: ─────────────────────⎪\n",
       "⎪           b                       b                  b          ⎪\n",
       "⎩                                                                 ⎭"
      ]
     },
     "metadata": {},
     "output_type": "display_data"
    },
    {
     "data": {
      "image/png": "[encoded data removed]",
      "text/latex": [
       "$\\displaystyle \\left\\{ q_{0} : \\frac{R b - a p_{1} + p_{1}^{2}}{b}, \\  q_{1} : \\frac{a - p_{1}}{b}, \\  q_{2} : 0, \\  u : \\frac{R b + \\frac{a^{2}}{2} - a p_{1} + \\frac{p_{1}^{2}}{2}}{b}\\right\\}$"
      ],
      "text/plain": [
       "⎧                                                   2            2⎫\n",
       "⎪                                                  a           p₁ ⎪\n",
       "⎪                   2                        R⋅b + ── - a⋅p₁ + ───⎪\n",
       "⎨    R⋅b - a⋅p₁ + p₁       a - p₁                  2            2 ⎬\n",
       "⎪q₀: ────────────────, q₁: ──────, q₂: 0, u: ─────────────────────⎪\n",
       "⎪           b                b                         b          ⎪\n",
       "⎩                                                                 ⎭"
      ]
     },
     "metadata": {},
     "output_type": "display_data"
    },
    {
     "data": {
      "image/png": "[encoded data removed]",
      "text/latex": [
       "$\\displaystyle \\left\\{ q_{0} : \\frac{R b^{2} - R d^{2} - a b p_{1} - a b p_{2} + a d p_{1} + a d p_{2} + b p_{1}^{2} + b p_{2}^{2} - 2 d p_{1} p_{2}}{b^{2} - d^{2}}, \\  q_{1} : \\frac{a b - a d - b p_{1} + d p_{2}}{b^{2} - d^{2}}, \\  q_{2} : \\frac{a b - a d - b p_{2} + d p_{1}}{b^{2} - d^{2}}, \\  u : \\frac{R b^{2} - R d^{2} + a^{2} b - a^{2} d - a b p_{1} - a b p_{2} + a d p_{1} + a d p_{2} + \\frac{b p_{1}^{2}}{2} + \\frac{b p_{2}^{2}}{2} - d p_{1} p_{2}}{b^{2} - d^{2}}\\right\\}$"
      ],
      "text/plain": [
       "⎧                                                                                             \n",
       "⎪                                                                                             \n",
       "⎪       2      2                                           2       2                          \n",
       "⎨    R⋅b  - R⋅d  - a⋅b⋅p₁ - a⋅b⋅p₂ + a⋅d⋅p₁ + a⋅d⋅p₂ + b⋅p₁  + b⋅p₂  - 2⋅d⋅p₁⋅p₂      a⋅b - a⋅\n",
       "⎪q₀: ───────────────────────────────────────────────────────────────────────────, q₁: ────────\n",
       "⎪                                       2    2                                                \n",
       "⎩                                      b  - d                                                 \n",
       "\n",
       "                                                                                              \n",
       "                                                    2      2    2      2                      \n",
       "                                                 R⋅b  - R⋅d  + a ⋅b - a ⋅d - a⋅b⋅p₁ - a⋅b⋅p₂ +\n",
       "d - b⋅p₁ + d⋅p₂      a⋅b - a⋅d - b⋅p₂ + d⋅p₁                                                  \n",
       "───────────────, q₂: ───────────────────────, u: ─────────────────────────────────────────────\n",
       " 2    2                       2    2                                                      2   \n",
       "b  - d                       b  - d                                                      b  - \n",
       "\n",
       "                       2       2          ⎫\n",
       "                   b⋅p₁    b⋅p₂           ⎪\n",
       " a⋅d⋅p₁ + a⋅d⋅p₂ + ───── + ───── - d⋅p₁⋅p₂⎪\n",
       "                     2       2            ⎬\n",
       "──────────────────────────────────────────⎪\n",
       " 2                                        ⎪\n",
       "d                                         ⎭"
      ]
     },
     "metadata": {},
     "output_type": "display_data"
    }
   ],
   "source": [
    "display(*valeurs)"
   ]
  },
  {
   "cell_type": "code",
   "execution_count": null,
   "id": "7e307bfc-5895-48a4-87a5-349f046ea476",
   "metadata": {},
   "outputs": [],
   "source": []
  }
 ],
 "metadata": {
  "kernelspec": {
   "display_name": "Python 3 (ipykernel)",
   "language": "python",
   "name": "python3"
  },
  "language_info": {
   "codemirror_mode": {
    "name": "ipython",
    "version": 3
   },
   "file_extension": ".py",
   "mimetype": "text/x-python",
   "name": "python",
   "nbconvert_exporter": "python",
   "pygments_lexer": "ipython3",
   "version": "3.9.2"
  }
 },
 "nbformat": 4,
 "nbformat_minor": 5
}
